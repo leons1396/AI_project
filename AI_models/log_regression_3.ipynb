{
 "cells": [
  {
   "cell_type": "code",
   "execution_count": 7,
   "metadata": {},
   "outputs": [],
   "source": [
    "import pandas as pd\n",
    "import numpy as np\n",
    "from sklearn.model_selection import train_test_split\n",
    "from sklearn.linear_model import LogisticRegression\n",
    "from sklearn.metrics import ConfusionMatrixDisplay\n",
    "from sklearn.metrics import accuracy_score\n",
    "from sklearn.compose import ColumnTransformer\n",
    "from sklearn.preprocessing import StandardScaler\n",
    "from sklearn.preprocessing import MinMaxScaler\n",
    "from sklearn.pipeline import make_pipeline\n",
    "from sklearn.preprocessing import PolynomialFeatures"
   ]
  },
  {
   "cell_type": "code",
   "execution_count": 8,
   "metadata": {},
   "outputs": [
    {
     "data": {
      "text/plain": [
       "Label\n",
       "1    496\n",
       "2    445\n",
       "0    401\n",
       "3    357\n",
       "4    245\n",
       "5    193\n",
       "Name: count, dtype: int64"
      ]
     },
     "execution_count": 8,
     "metadata": {},
     "output_type": "execute_result"
    }
   ],
   "source": [
    "vegi_df = pd.read_csv(\"G:/Meine Ablage/KI_Projekt/Daten/vegis_traindata.csv\")\n",
    "vegi_df = vegi_df.drop(columns=[\"Unnamed: 0\", \"green pixels\", \"Image\"])\n",
    "vegi_df.head()\n",
    "\n",
    "vegi_encoded_df = vegi_df.copy()\n",
    "\n",
    "vegi_encoded_df.loc[vegi_encoded_df['Label'] == 'Karotte', 'Label'] = 0\n",
    "vegi_encoded_df.loc[vegi_encoded_df['Label'] == 'Kartoffel', 'Label'] = 1\n",
    "vegi_encoded_df.loc[vegi_encoded_df['Label'] == 'Zwiebel', 'Label'] = 2\n",
    "vegi_encoded_df.loc[vegi_encoded_df['Label'] == 'Karotte_Trieb', 'Label'] = 3\n",
    "vegi_encoded_df.loc[vegi_encoded_df['Label'] == 'Kartoffel_Trieb', 'Label'] = 4\n",
    "vegi_encoded_df.loc[vegi_encoded_df['Label'] == 'Zwiebel_Trieb', 'Label'] = 5\n",
    "\n",
    "vegi_encoded_df['Label'] = vegi_encoded_df['Label'].astype('int')\n",
    "vegi_encoded_df['Label'].value_counts()"
   ]
  },
  {
   "cell_type": "code",
   "execution_count": 9,
   "metadata": {},
   "outputs": [
    {
     "data": {
      "text/html": [
       "<div>\n",
       "<style scoped>\n",
       "    .dataframe tbody tr th:only-of-type {\n",
       "        vertical-align: middle;\n",
       "    }\n",
       "\n",
       "    .dataframe tbody tr th {\n",
       "        vertical-align: top;\n",
       "    }\n",
       "\n",
       "    .dataframe thead th {\n",
       "        text-align: right;\n",
       "    }\n",
       "</style>\n",
       "<table border=\"1\" class=\"dataframe\">\n",
       "  <thead>\n",
       "    <tr style=\"text-align: right;\">\n",
       "      <th></th>\n",
       "      <th>Hight</th>\n",
       "      <th>Width</th>\n",
       "      <th>R</th>\n",
       "      <th>G</th>\n",
       "      <th>B</th>\n",
       "      <th>green onion pixels</th>\n",
       "      <th>ratio area</th>\n",
       "      <th>circularity</th>\n",
       "      <th>keypoints</th>\n",
       "      <th>mean keypoints</th>\n",
       "    </tr>\n",
       "  </thead>\n",
       "  <tbody>\n",
       "    <tr>\n",
       "      <th>count</th>\n",
       "      <td>2137.000000</td>\n",
       "      <td>2137.000000</td>\n",
       "      <td>2137.000000</td>\n",
       "      <td>2137.000000</td>\n",
       "      <td>2137.000000</td>\n",
       "      <td>2137.000000</td>\n",
       "      <td>2137.000000</td>\n",
       "      <td>2137.000000</td>\n",
       "      <td>2137.000000</td>\n",
       "      <td>2137.000000</td>\n",
       "    </tr>\n",
       "    <tr>\n",
       "      <th>mean</th>\n",
       "      <td>176.591015</td>\n",
       "      <td>105.410856</td>\n",
       "      <td>115.806738</td>\n",
       "      <td>85.354235</td>\n",
       "      <td>54.713149</td>\n",
       "      <td>801.182967</td>\n",
       "      <td>0.553927</td>\n",
       "      <td>0.490246</td>\n",
       "      <td>69.897052</td>\n",
       "      <td>8.184772</td>\n",
       "    </tr>\n",
       "    <tr>\n",
       "      <th>std</th>\n",
       "      <td>65.186877</td>\n",
       "      <td>46.861864</td>\n",
       "      <td>27.783938</td>\n",
       "      <td>21.902030</td>\n",
       "      <td>19.126882</td>\n",
       "      <td>1919.606598</td>\n",
       "      <td>0.278630</td>\n",
       "      <td>0.283834</td>\n",
       "      <td>77.187534</td>\n",
       "      <td>6.821158</td>\n",
       "    </tr>\n",
       "    <tr>\n",
       "      <th>min</th>\n",
       "      <td>50.000000</td>\n",
       "      <td>12.000000</td>\n",
       "      <td>41.000000</td>\n",
       "      <td>22.000000</td>\n",
       "      <td>10.000000</td>\n",
       "      <td>0.000000</td>\n",
       "      <td>0.000000</td>\n",
       "      <td>0.007174</td>\n",
       "      <td>1.000000</td>\n",
       "      <td>2.259036</td>\n",
       "    </tr>\n",
       "    <tr>\n",
       "      <th>25%</th>\n",
       "      <td>125.000000</td>\n",
       "      <td>65.000000</td>\n",
       "      <td>101.000000</td>\n",
       "      <td>73.000000</td>\n",
       "      <td>44.000000</td>\n",
       "      <td>0.000000</td>\n",
       "      <td>0.383558</td>\n",
       "      <td>0.219733</td>\n",
       "      <td>22.000000</td>\n",
       "      <td>4.998657</td>\n",
       "    </tr>\n",
       "    <tr>\n",
       "      <th>50%</th>\n",
       "      <td>176.000000</td>\n",
       "      <td>100.000000</td>\n",
       "      <td>118.000000</td>\n",
       "      <td>85.000000</td>\n",
       "      <td>54.000000</td>\n",
       "      <td>0.000000</td>\n",
       "      <td>0.679862</td>\n",
       "      <td>0.489078</td>\n",
       "      <td>45.000000</td>\n",
       "      <td>6.518213</td>\n",
       "    </tr>\n",
       "    <tr>\n",
       "      <th>75%</th>\n",
       "      <td>237.000000</td>\n",
       "      <td>136.000000</td>\n",
       "      <td>136.000000</td>\n",
       "      <td>98.000000</td>\n",
       "      <td>66.000000</td>\n",
       "      <td>153.000000</td>\n",
       "      <td>0.779920</td>\n",
       "      <td>0.785004</td>\n",
       "      <td>81.000000</td>\n",
       "      <td>8.569782</td>\n",
       "    </tr>\n",
       "    <tr>\n",
       "      <th>max</th>\n",
       "      <td>348.000000</td>\n",
       "      <td>255.000000</td>\n",
       "      <td>193.000000</td>\n",
       "      <td>150.000000</td>\n",
       "      <td>147.000000</td>\n",
       "      <td>12510.000000</td>\n",
       "      <td>0.953143</td>\n",
       "      <td>0.897387</td>\n",
       "      <td>504.000000</td>\n",
       "      <td>82.514793</td>\n",
       "    </tr>\n",
       "  </tbody>\n",
       "</table>\n",
       "</div>"
      ],
      "text/plain": [
       "             Hight        Width            R            G            B  \\\n",
       "count  2137.000000  2137.000000  2137.000000  2137.000000  2137.000000   \n",
       "mean    176.591015   105.410856   115.806738    85.354235    54.713149   \n",
       "std      65.186877    46.861864    27.783938    21.902030    19.126882   \n",
       "min      50.000000    12.000000    41.000000    22.000000    10.000000   \n",
       "25%     125.000000    65.000000   101.000000    73.000000    44.000000   \n",
       "50%     176.000000   100.000000   118.000000    85.000000    54.000000   \n",
       "75%     237.000000   136.000000   136.000000    98.000000    66.000000   \n",
       "max     348.000000   255.000000   193.000000   150.000000   147.000000   \n",
       "\n",
       "       green onion pixels   ratio area  circularity    keypoints  \\\n",
       "count         2137.000000  2137.000000  2137.000000  2137.000000   \n",
       "mean           801.182967     0.553927     0.490246    69.897052   \n",
       "std           1919.606598     0.278630     0.283834    77.187534   \n",
       "min              0.000000     0.000000     0.007174     1.000000   \n",
       "25%              0.000000     0.383558     0.219733    22.000000   \n",
       "50%              0.000000     0.679862     0.489078    45.000000   \n",
       "75%            153.000000     0.779920     0.785004    81.000000   \n",
       "max          12510.000000     0.953143     0.897387   504.000000   \n",
       "\n",
       "       mean keypoints  \n",
       "count     2137.000000  \n",
       "mean         8.184772  \n",
       "std          6.821158  \n",
       "min          2.259036  \n",
       "25%          4.998657  \n",
       "50%          6.518213  \n",
       "75%          8.569782  \n",
       "max         82.514793  "
      ]
     },
     "execution_count": 9,
     "metadata": {},
     "output_type": "execute_result"
    }
   ],
   "source": [
    "vegi_df.describe()"
   ]
  },
  {
   "cell_type": "code",
   "execution_count": 10,
   "metadata": {},
   "outputs": [],
   "source": [
    "X = vegi_encoded_df.iloc[:, 0:10]\n",
    "y = vegi_encoded_df.iloc[:, 10:11]\n",
    "\n",
    "X_train, X_val, y_train, y_val = train_test_split(X, y, test_size=0.10, random_state=42)"
   ]
  },
  {
   "cell_type": "code",
   "execution_count": 11,
   "metadata": {},
   "outputs": [
    {
     "name": "stdout",
     "output_type": "stream",
     "text": [
      "(1923, 10)\n",
      "(214, 10)\n"
     ]
    }
   ],
   "source": [
    "print(X_train.shape)\n",
    "print(X_val.shape)\n"
   ]
  },
  {
   "cell_type": "code",
   "execution_count": 12,
   "metadata": {},
   "outputs": [],
   "source": [
    "pipe_logClf = make_pipeline(StandardScaler(), \n",
    "                            PolynomialFeatures(2), \n",
    "                            LogisticRegression(penalty='l2', tol=0.001, solver='lbfgs', max_iter=25000, multi_class='multinomial'))\n",
    "pipe_logClf"
   ]
  },
  {
   "cell_type": "code",
   "execution_count": 14,
   "metadata": {},
   "outputs": [
    {
     "name": "stderr",
     "output_type": "stream",
     "text": [
      "c:\\Users\\Leon\\AppData\\Local\\Programs\\Python\\Python310\\lib\\site-packages\\sklearn\\utils\\validation.py:1143: DataConversionWarning: A column-vector y was passed when a 1d array was expected. Please change the shape of y to (n_samples, ), for example using ravel().\n",
      "  y = column_or_1d(y, warn=True)\n",
      "c:\\Users\\Leon\\AppData\\Local\\Programs\\Python\\Python310\\lib\\site-packages\\sklearn\\linear_model\\_logistic.py:458: ConvergenceWarning: lbfgs failed to converge (status=1):\n",
      "STOP: TOTAL NO. of f AND g EVALUATIONS EXCEEDS LIMIT.\n",
      "\n",
      "Increase the number of iterations (max_iter) or scale the data as shown in:\n",
      "    https://scikit-learn.org/stable/modules/preprocessing.html\n",
      "Please also refer to the documentation for alternative solver options:\n",
      "    https://scikit-learn.org/stable/modules/linear_model.html#logistic-regression\n",
      "  n_iter_i = _check_optimize_result(\n"
     ]
    }
   ],
   "source": [
    "pipe_logClf.fit(X_train, y_train)\n",
    "pred_val = pipe_logClf.predict(X_val)"
   ]
  },
  {
   "cell_type": "code",
   "execution_count": 15,
   "metadata": {},
   "outputs": [
    {
     "name": "stdout",
     "output_type": "stream",
     "text": [
      "Accuracy Train: 0.9786791471658867\n",
      "Accuracy Val: 0.8598130841121495\n",
      "Number Correct Predicions Test: 184\n",
      "\n"
     ]
    }
   ],
   "source": [
    "pred_train = pipe_logClf.predict(X_train)\n",
    "accuracy_train = accuracy_score(y_train, pred_train)\n",
    "accuracy_val = accuracy_score(y_val, pred_val)\n",
    "print(f\"Accuracy Train: {accuracy_train}\\nAccuracy Val: {accuracy_val}\")\n",
    "\n",
    "number_correct_valdata = accuracy_val = accuracy_score(y_val, pred_val, normalize=False)\n",
    "print(f\"Number Correct Predicions Test: {number_correct_valdata}\\n\")"
   ]
  },
  {
   "cell_type": "code",
   "execution_count": 48,
   "metadata": {},
   "outputs": [
    {
     "name": "stdout",
     "output_type": "stream",
     "text": [
      "Vegis TRAIN\n",
      "[[ 601   18   79    6   17   68]\n",
      " [  27  746   19    0   92    3]\n",
      " [  40    8  678    4   17   11]\n",
      " [  50    0    0 1148    0   42]\n",
      " [   2  100    3    5  514    5]\n",
      " [  35    3   26   59   18  441]]\n"
     ]
    },
    {
     "data": {
      "image/png": "[encoded data removed]",
      "text/plain": [
       "<Figure size 640x480 with 2 Axes>"
      ]
     },
     "metadata": {},
     "output_type": "display_data"
    }
   ],
   "source": [
    "disp = ConfusionMatrixDisplay.from_estimator(\n",
    "    clf,\n",
    "    X_train_scaled,\n",
    "    y_train_clean,\n",
    "    display_labels=['Karotte', 'Kartoffel', 'Zwiebel', 'Karotte_Trieb', 'Kartoffel_Trieb', 'Zwiebel_Trieb'],\n",
    "    cmap='viridis',\n",
    "    normalize=None,\n",
    ")\n",
    "disp.ax_.set_title(\"Vegis TRAIN  DATA\")\n",
    "\n",
    "print(\"Vegis TRAIN\")\n",
    "print(disp.confusion_matrix)"
   ]
  },
  {
   "cell_type": "markdown",
   "metadata": {},
   "source": [
    "Test model with Testdata"
   ]
  },
  {
   "cell_type": "code",
   "execution_count": null,
   "metadata": {},
   "outputs": [],
   "source": [
    "y_vegi_test_pred = pipe_lgr_3.predict(X_vegi_test)\n",
    "\n",
    "accuracy_testdata = accuracy_score(y_vegi_test, y_vegi_test_pred)\n",
    "print(f\"Accuracy Test: {accuracy_testdata}\\n\")\n",
    "\n",
    "number_correct_testdata = accuracy_score(y_vegi_test, y_vegi_test_pred, normalize=False)\n",
    "print(f\"Number Correct Predicions Test: {number_correct_testdata}\\n\")"
   ]
  }
 ],
 "metadata": {
  "kernelspec": {
   "display_name": "Python 3",
   "language": "python",
   "name": "python3"
  },
  "language_info": {
   "codemirror_mode": {
    "name": "ipython",
    "version": 3
   },
   "file_extension": ".py",
   "mimetype": "text/x-python",
   "name": "python",
   "nbconvert_exporter": "python",
   "pygments_lexer": "ipython3",
   "version": "3.10.6"
  }
 },
 "nbformat": 4,
 "nbformat_minor": 2
}
