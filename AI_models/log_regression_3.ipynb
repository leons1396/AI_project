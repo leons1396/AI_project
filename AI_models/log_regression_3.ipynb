{
 "cells": [
  {
   "cell_type": "code",
   "execution_count": 17,
   "metadata": {},
   "outputs": [],
   "source": [
    "import pandas as pd\n",
    "import numpy as np\n",
    "from sklearn.model_selection import train_test_split\n",
    "from sklearn.linear_model import LogisticRegression\n",
    "from sklearn.metrics import confusion_matrix, ConfusionMatrixDisplay, accuracy_score\n",
    "from sklearn.compose import ColumnTransformer\n",
    "from sklearn.preprocessing import StandardScaler\n",
    "from sklearn.preprocessing import MinMaxScaler\n",
    "from sklearn.pipeline import make_pipeline\n",
    "from sklearn.preprocessing import PolynomialFeatures"
   ]
  },
  {
   "cell_type": "code",
   "execution_count": 2,
   "metadata": {},
   "outputs": [
    {
     "data": {
      "text/plain": [
       "Label\n",
       "1    496\n",
       "2    445\n",
       "0    401\n",
       "3    357\n",
       "4    245\n",
       "5    193\n",
       "Name: count, dtype: int64"
      ]
     },
     "execution_count": 2,
     "metadata": {},
     "output_type": "execute_result"
    }
   ],
   "source": [
    "vegi_df = pd.read_csv(\"G:/Meine Ablage/KI_Projekt/Daten/vegis_traindata.csv\")\n",
    "vegi_df = vegi_df.drop(columns=[\"Unnamed: 0\", \"green pixels\", \"Image\"])\n",
    "vegi_df.head()\n",
    "\n",
    "vegi_encoded_df = vegi_df.copy()\n",
    "\n",
    "vegi_encoded_df.loc[vegi_encoded_df['Label'] == 'Karotte', 'Label'] = 0\n",
    "vegi_encoded_df.loc[vegi_encoded_df['Label'] == 'Kartoffel', 'Label'] = 1\n",
    "vegi_encoded_df.loc[vegi_encoded_df['Label'] == 'Zwiebel', 'Label'] = 2\n",
    "vegi_encoded_df.loc[vegi_encoded_df['Label'] == 'Karotte_Trieb', 'Label'] = 3\n",
    "vegi_encoded_df.loc[vegi_encoded_df['Label'] == 'Kartoffel_Trieb', 'Label'] = 4\n",
    "vegi_encoded_df.loc[vegi_encoded_df['Label'] == 'Zwiebel_Trieb', 'Label'] = 5\n",
    "\n",
    "vegi_encoded_df['Label'] = vegi_encoded_df['Label'].astype('int')\n",
    "vegi_encoded_df['Label'].value_counts()"
   ]
  },
  {
   "cell_type": "code",
   "execution_count": 3,
   "metadata": {},
   "outputs": [
    {
     "data": {
      "text/html": [
       "<div>\n",
       "<style scoped>\n",
       "    .dataframe tbody tr th:only-of-type {\n",
       "        vertical-align: middle;\n",
       "    }\n",
       "\n",
       "    .dataframe tbody tr th {\n",
       "        vertical-align: top;\n",
       "    }\n",
       "\n",
       "    .dataframe thead th {\n",
       "        text-align: right;\n",
       "    }\n",
       "</style>\n",
       "<table border=\"1\" class=\"dataframe\">\n",
       "  <thead>\n",
       "    <tr style=\"text-align: right;\">\n",
       "      <th></th>\n",
       "      <th>Hight</th>\n",
       "      <th>Width</th>\n",
       "      <th>R</th>\n",
       "      <th>G</th>\n",
       "      <th>B</th>\n",
       "      <th>green onion pixels</th>\n",
       "      <th>ratio area</th>\n",
       "      <th>circularity</th>\n",
       "      <th>keypoints</th>\n",
       "      <th>mean keypoints</th>\n",
       "    </tr>\n",
       "  </thead>\n",
       "  <tbody>\n",
       "    <tr>\n",
       "      <th>count</th>\n",
       "      <td>2137.000000</td>\n",
       "      <td>2137.000000</td>\n",
       "      <td>2137.000000</td>\n",
       "      <td>2137.000000</td>\n",
       "      <td>2137.000000</td>\n",
       "      <td>2137.000000</td>\n",
       "      <td>2137.000000</td>\n",
       "      <td>2137.000000</td>\n",
       "      <td>2137.000000</td>\n",
       "      <td>2137.000000</td>\n",
       "    </tr>\n",
       "    <tr>\n",
       "      <th>mean</th>\n",
       "      <td>176.591015</td>\n",
       "      <td>105.410856</td>\n",
       "      <td>115.806738</td>\n",
       "      <td>85.354235</td>\n",
       "      <td>54.713149</td>\n",
       "      <td>801.182967</td>\n",
       "      <td>0.553927</td>\n",
       "      <td>0.490246</td>\n",
       "      <td>69.897052</td>\n",
       "      <td>8.184772</td>\n",
       "    </tr>\n",
       "    <tr>\n",
       "      <th>std</th>\n",
       "      <td>65.186877</td>\n",
       "      <td>46.861864</td>\n",
       "      <td>27.783938</td>\n",
       "      <td>21.902030</td>\n",
       "      <td>19.126882</td>\n",
       "      <td>1919.606598</td>\n",
       "      <td>0.278630</td>\n",
       "      <td>0.283834</td>\n",
       "      <td>77.187534</td>\n",
       "      <td>6.821158</td>\n",
       "    </tr>\n",
       "    <tr>\n",
       "      <th>min</th>\n",
       "      <td>50.000000</td>\n",
       "      <td>12.000000</td>\n",
       "      <td>41.000000</td>\n",
       "      <td>22.000000</td>\n",
       "      <td>10.000000</td>\n",
       "      <td>0.000000</td>\n",
       "      <td>0.000000</td>\n",
       "      <td>0.007174</td>\n",
       "      <td>1.000000</td>\n",
       "      <td>2.259036</td>\n",
       "    </tr>\n",
       "    <tr>\n",
       "      <th>25%</th>\n",
       "      <td>125.000000</td>\n",
       "      <td>65.000000</td>\n",
       "      <td>101.000000</td>\n",
       "      <td>73.000000</td>\n",
       "      <td>44.000000</td>\n",
       "      <td>0.000000</td>\n",
       "      <td>0.383558</td>\n",
       "      <td>0.219733</td>\n",
       "      <td>22.000000</td>\n",
       "      <td>4.998657</td>\n",
       "    </tr>\n",
       "    <tr>\n",
       "      <th>50%</th>\n",
       "      <td>176.000000</td>\n",
       "      <td>100.000000</td>\n",
       "      <td>118.000000</td>\n",
       "      <td>85.000000</td>\n",
       "      <td>54.000000</td>\n",
       "      <td>0.000000</td>\n",
       "      <td>0.679862</td>\n",
       "      <td>0.489078</td>\n",
       "      <td>45.000000</td>\n",
       "      <td>6.518213</td>\n",
       "    </tr>\n",
       "    <tr>\n",
       "      <th>75%</th>\n",
       "      <td>237.000000</td>\n",
       "      <td>136.000000</td>\n",
       "      <td>136.000000</td>\n",
       "      <td>98.000000</td>\n",
       "      <td>66.000000</td>\n",
       "      <td>153.000000</td>\n",
       "      <td>0.779920</td>\n",
       "      <td>0.785004</td>\n",
       "      <td>81.000000</td>\n",
       "      <td>8.569782</td>\n",
       "    </tr>\n",
       "    <tr>\n",
       "      <th>max</th>\n",
       "      <td>348.000000</td>\n",
       "      <td>255.000000</td>\n",
       "      <td>193.000000</td>\n",
       "      <td>150.000000</td>\n",
       "      <td>147.000000</td>\n",
       "      <td>12510.000000</td>\n",
       "      <td>0.953143</td>\n",
       "      <td>0.897387</td>\n",
       "      <td>504.000000</td>\n",
       "      <td>82.514793</td>\n",
       "    </tr>\n",
       "  </tbody>\n",
       "</table>\n",
       "</div>"
      ],
      "text/plain": [
       "             Hight        Width            R            G            B  \\\n",
       "count  2137.000000  2137.000000  2137.000000  2137.000000  2137.000000   \n",
       "mean    176.591015   105.410856   115.806738    85.354235    54.713149   \n",
       "std      65.186877    46.861864    27.783938    21.902030    19.126882   \n",
       "min      50.000000    12.000000    41.000000    22.000000    10.000000   \n",
       "25%     125.000000    65.000000   101.000000    73.000000    44.000000   \n",
       "50%     176.000000   100.000000   118.000000    85.000000    54.000000   \n",
       "75%     237.000000   136.000000   136.000000    98.000000    66.000000   \n",
       "max     348.000000   255.000000   193.000000   150.000000   147.000000   \n",
       "\n",
       "       green onion pixels   ratio area  circularity    keypoints  \\\n",
       "count         2137.000000  2137.000000  2137.000000  2137.000000   \n",
       "mean           801.182967     0.553927     0.490246    69.897052   \n",
       "std           1919.606598     0.278630     0.283834    77.187534   \n",
       "min              0.000000     0.000000     0.007174     1.000000   \n",
       "25%              0.000000     0.383558     0.219733    22.000000   \n",
       "50%              0.000000     0.679862     0.489078    45.000000   \n",
       "75%            153.000000     0.779920     0.785004    81.000000   \n",
       "max          12510.000000     0.953143     0.897387   504.000000   \n",
       "\n",
       "       mean keypoints  \n",
       "count     2137.000000  \n",
       "mean         8.184772  \n",
       "std          6.821158  \n",
       "min          2.259036  \n",
       "25%          4.998657  \n",
       "50%          6.518213  \n",
       "75%          8.569782  \n",
       "max         82.514793  "
      ]
     },
     "execution_count": 3,
     "metadata": {},
     "output_type": "execute_result"
    }
   ],
   "source": [
    "vegi_df.describe()"
   ]
  },
  {
   "cell_type": "code",
   "execution_count": 4,
   "metadata": {},
   "outputs": [],
   "source": [
    "X_1 = vegi_encoded_df.iloc[:, 0:10]\n",
    "y_1 = vegi_encoded_df.iloc[:, 10:11]\n",
    "\n",
    "X_train, X_val, y_train, y_val = train_test_split(X_1, y_1, test_size=0.10, random_state=42)"
   ]
  },
  {
   "cell_type": "code",
   "execution_count": 5,
   "metadata": {},
   "outputs": [
    {
     "name": "stdout",
     "output_type": "stream",
     "text": [
      "(1923, 10)\n",
      "(214, 10)\n"
     ]
    }
   ],
   "source": [
    "print(X_train.shape)\n",
    "print(X_val.shape)\n"
   ]
  },
  {
   "cell_type": "code",
   "execution_count": 6,
   "metadata": {},
   "outputs": [],
   "source": [
    "vegi_df = pd.read_csv(\"G:/Meine Ablage/KI_Projekt/Daten/TESTDATA_vegis_testdata.csv\")\n",
    "vegi_df = vegi_df.drop(columns=[\"Unnamed: 0\", \"green pixels\", \"Image\"])\n",
    "vegi_df.head()\n",
    "\n",
    "vegi_encoded_df = vegi_df.copy()\n",
    "\n",
    "vegi_encoded_df.loc[vegi_encoded_df['Label'] == 'Karotte', 'Label'] = 0\n",
    "vegi_encoded_df.loc[vegi_encoded_df['Label'] == 'Kartoffel', 'Label'] = 1\n",
    "vegi_encoded_df.loc[vegi_encoded_df['Label'] == 'Zwiebel', 'Label'] = 2\n",
    "vegi_encoded_df.loc[vegi_encoded_df['Label'] == 'Karotte_Trieb', 'Label'] = 3\n",
    "vegi_encoded_df.loc[vegi_encoded_df['Label'] == 'Kartoffel_Trieb', 'Label'] = 4\n",
    "vegi_encoded_df.loc[vegi_encoded_df['Label'] == 'Zwiebel_Trieb', 'Label'] = 5\n",
    "\n",
    "vegi_encoded_df['Label'] = vegi_encoded_df['Label'].astype('int')\n",
    "vegi_encoded_df['Label'].value_counts()\n",
    "\n",
    "X_2 = vegi_encoded_df.iloc[:, 0:10]\n",
    "y_2 = vegi_encoded_df.iloc[:, 10:11]\n",
    "\n",
    "X_test, _, y_test, _ = train_test_split(X_2, y_2, test_size=0.01, random_state=42)"
   ]
  },
  {
   "cell_type": "code",
   "execution_count": 7,
   "metadata": {},
   "outputs": [
    {
     "data": {
      "text/html": [
       "<style>#sk-container-id-1 {color: black;background-color: white;}#sk-container-id-1 pre{padding: 0;}#sk-container-id-1 div.sk-toggleable {background-color: white;}#sk-container-id-1 label.sk-toggleable__label {cursor: pointer;display: block;width: 100%;margin-bottom: 0;padding: 0.3em;box-sizing: border-box;text-align: center;}#sk-container-id-1 label.sk-toggleable__label-arrow:before {content: \"▸\";float: left;margin-right: 0.25em;color: #696969;}#sk-container-id-1 label.sk-toggleable__label-arrow:hover:before {color: black;}#sk-container-id-1 div.sk-estimator:hover label.sk-toggleable__label-arrow:before {color: black;}#sk-container-id-1 div.sk-toggleable__content {max-height: 0;max-width: 0;overflow: hidden;text-align: left;background-color: #f0f8ff;}#sk-container-id-1 div.sk-toggleable__content pre {margin: 0.2em;color: black;border-radius: 0.25em;background-color: #f0f8ff;}#sk-container-id-1 input.sk-toggleable__control:checked~div.sk-toggleable__content {max-height: 200px;max-width: 100%;overflow: auto;}#sk-container-id-1 input.sk-toggleable__control:checked~label.sk-toggleable__label-arrow:before {content: \"▾\";}#sk-container-id-1 div.sk-estimator input.sk-toggleable__control:checked~label.sk-toggleable__label {background-color: #d4ebff;}#sk-container-id-1 div.sk-label input.sk-toggleable__control:checked~label.sk-toggleable__label {background-color: #d4ebff;}#sk-container-id-1 input.sk-hidden--visually {border: 0;clip: rect(1px 1px 1px 1px);clip: rect(1px, 1px, 1px, 1px);height: 1px;margin: -1px;overflow: hidden;padding: 0;position: absolute;width: 1px;}#sk-container-id-1 div.sk-estimator {font-family: monospace;background-color: #f0f8ff;border: 1px dotted black;border-radius: 0.25em;box-sizing: border-box;margin-bottom: 0.5em;}#sk-container-id-1 div.sk-estimator:hover {background-color: #d4ebff;}#sk-container-id-1 div.sk-parallel-item::after {content: \"\";width: 100%;border-bottom: 1px solid gray;flex-grow: 1;}#sk-container-id-1 div.sk-label:hover label.sk-toggleable__label {background-color: #d4ebff;}#sk-container-id-1 div.sk-serial::before {content: \"\";position: absolute;border-left: 1px solid gray;box-sizing: border-box;top: 0;bottom: 0;left: 50%;z-index: 0;}#sk-container-id-1 div.sk-serial {display: flex;flex-direction: column;align-items: center;background-color: white;padding-right: 0.2em;padding-left: 0.2em;position: relative;}#sk-container-id-1 div.sk-item {position: relative;z-index: 1;}#sk-container-id-1 div.sk-parallel {display: flex;align-items: stretch;justify-content: center;background-color: white;position: relative;}#sk-container-id-1 div.sk-item::before, #sk-container-id-1 div.sk-parallel-item::before {content: \"\";position: absolute;border-left: 1px solid gray;box-sizing: border-box;top: 0;bottom: 0;left: 50%;z-index: -1;}#sk-container-id-1 div.sk-parallel-item {display: flex;flex-direction: column;z-index: 1;position: relative;background-color: white;}#sk-container-id-1 div.sk-parallel-item:first-child::after {align-self: flex-end;width: 50%;}#sk-container-id-1 div.sk-parallel-item:last-child::after {align-self: flex-start;width: 50%;}#sk-container-id-1 div.sk-parallel-item:only-child::after {width: 0;}#sk-container-id-1 div.sk-dashed-wrapped {border: 1px dashed gray;margin: 0 0.4em 0.5em 0.4em;box-sizing: border-box;padding-bottom: 0.4em;background-color: white;}#sk-container-id-1 div.sk-label label {font-family: monospace;font-weight: bold;display: inline-block;line-height: 1.2em;}#sk-container-id-1 div.sk-label-container {text-align: center;}#sk-container-id-1 div.sk-container {/* jupyter's `normalize.less` sets `[hidden] { display: none; }` but bootstrap.min.css set `[hidden] { display: none !important; }` so we also need the `!important` here to be able to override the default hidden behavior on the sphinx rendered scikit-learn.org. See: https://github.com/scikit-learn/scikit-learn/issues/21755 */display: inline-block !important;position: relative;}#sk-container-id-1 div.sk-text-repr-fallback {display: none;}</style><div id=\"sk-container-id-1\" class=\"sk-top-container\"><div class=\"sk-text-repr-fallback\"><pre>Pipeline(steps=[(&#x27;standardscaler&#x27;, StandardScaler()),\n",
       "                (&#x27;polynomialfeatures&#x27;, PolynomialFeatures()),\n",
       "                (&#x27;logisticregression&#x27;,\n",
       "                 LogisticRegression(max_iter=25000, multi_class=&#x27;multinomial&#x27;,\n",
       "                                    tol=0.001))])</pre><b>In a Jupyter environment, please rerun this cell to show the HTML representation or trust the notebook. <br />On GitHub, the HTML representation is unable to render, please try loading this page with nbviewer.org.</b></div><div class=\"sk-container\" hidden><div class=\"sk-item sk-dashed-wrapped\"><div class=\"sk-label-container\"><div class=\"sk-label sk-toggleable\"><input class=\"sk-toggleable__control sk-hidden--visually\" id=\"sk-estimator-id-1\" type=\"checkbox\" ><label for=\"sk-estimator-id-1\" class=\"sk-toggleable__label sk-toggleable__label-arrow\">Pipeline</label><div class=\"sk-toggleable__content\"><pre>Pipeline(steps=[(&#x27;standardscaler&#x27;, StandardScaler()),\n",
       "                (&#x27;polynomialfeatures&#x27;, PolynomialFeatures()),\n",
       "                (&#x27;logisticregression&#x27;,\n",
       "                 LogisticRegression(max_iter=25000, multi_class=&#x27;multinomial&#x27;,\n",
       "                                    tol=0.001))])</pre></div></div></div><div class=\"sk-serial\"><div class=\"sk-item\"><div class=\"sk-estimator sk-toggleable\"><input class=\"sk-toggleable__control sk-hidden--visually\" id=\"sk-estimator-id-2\" type=\"checkbox\" ><label for=\"sk-estimator-id-2\" class=\"sk-toggleable__label sk-toggleable__label-arrow\">StandardScaler</label><div class=\"sk-toggleable__content\"><pre>StandardScaler()</pre></div></div></div><div class=\"sk-item\"><div class=\"sk-estimator sk-toggleable\"><input class=\"sk-toggleable__control sk-hidden--visually\" id=\"sk-estimator-id-3\" type=\"checkbox\" ><label for=\"sk-estimator-id-3\" class=\"sk-toggleable__label sk-toggleable__label-arrow\">PolynomialFeatures</label><div class=\"sk-toggleable__content\"><pre>PolynomialFeatures()</pre></div></div></div><div class=\"sk-item\"><div class=\"sk-estimator sk-toggleable\"><input class=\"sk-toggleable__control sk-hidden--visually\" id=\"sk-estimator-id-4\" type=\"checkbox\" ><label for=\"sk-estimator-id-4\" class=\"sk-toggleable__label sk-toggleable__label-arrow\">LogisticRegression</label><div class=\"sk-toggleable__content\"><pre>LogisticRegression(max_iter=25000, multi_class=&#x27;multinomial&#x27;, tol=0.001)</pre></div></div></div></div></div></div></div>"
      ],
      "text/plain": [
       "Pipeline(steps=[('standardscaler', StandardScaler()),\n",
       "                ('polynomialfeatures', PolynomialFeatures()),\n",
       "                ('logisticregression',\n",
       "                 LogisticRegression(max_iter=25000, multi_class='multinomial',\n",
       "                                    tol=0.001))])"
      ]
     },
     "execution_count": 7,
     "metadata": {},
     "output_type": "execute_result"
    }
   ],
   "source": [
    "pipe_logClf = make_pipeline(StandardScaler(), \n",
    "                            PolynomialFeatures(2), \n",
    "                            LogisticRegression(penalty='l2', tol=0.001, solver='lbfgs', max_iter=25000, multi_class='multinomial'))\n",
    "pipe_logClf"
   ]
  },
  {
   "cell_type": "code",
   "execution_count": 8,
   "metadata": {},
   "outputs": [
    {
     "name": "stderr",
     "output_type": "stream",
     "text": [
      "c:\\Users\\Leon\\AppData\\Local\\Programs\\Python\\Python310\\lib\\site-packages\\sklearn\\utils\\validation.py:1143: DataConversionWarning: A column-vector y was passed when a 1d array was expected. Please change the shape of y to (n_samples, ), for example using ravel().\n",
      "  y = column_or_1d(y, warn=True)\n"
     ]
    }
   ],
   "source": [
    "pipe_logClf.fit(X_train, y_train)\n",
    "pred_val = pipe_logClf.predict(X_val)"
   ]
  },
  {
   "cell_type": "code",
   "execution_count": 9,
   "metadata": {},
   "outputs": [
    {
     "name": "stdout",
     "output_type": "stream",
     "text": [
      "Accuracy Train: 0.9266770670826833\n",
      "Accuracy Val: 0.883177570093458\n",
      "Number Correct Predicions Test: 189\n",
      "\n"
     ]
    }
   ],
   "source": [
    "pred_train = pipe_logClf.predict(X_train)\n",
    "accuracy_train = accuracy_score(y_train, pred_train)\n",
    "accuracy_val = accuracy_score(y_val, pred_val)\n",
    "print(f\"Accuracy Train: {accuracy_train}\\nAccuracy Val: {accuracy_val}\")\n",
    "\n",
    "number_correct_valdata = accuracy_val = accuracy_score(y_val, pred_val, normalize=False)\n",
    "print(f\"Number Correct Predicions Test: {number_correct_valdata}\\n\")"
   ]
  },
  {
   "cell_type": "code",
   "execution_count": 10,
   "metadata": {},
   "outputs": [
    {
     "name": "stdout",
     "output_type": "stream",
     "text": [
      "Accuracy Test: 0.8952095808383234\n",
      "\n"
     ]
    }
   ],
   "source": [
    "pred_test = pipe_logClf.predict(X_test) \n",
    "accuracy_test = accuracy_score(y_test, pred_test)\n",
    "print(f\"Accuracy Test: {accuracy_test}\\n\")"
   ]
  },
  {
   "cell_type": "code",
   "execution_count": 11,
   "metadata": {},
   "outputs": [
    {
     "name": "stdout",
     "output_type": "stream",
     "text": [
      "Vegis TRAIN\n",
      "[[75  0  0  1  0  0]\n",
      " [ 1 61  8  0  8  1]\n",
      " [ 2  4 72  0  0  2]\n",
      " [ 1  0  0 49  0  0]\n",
      " [ 0  3  0  0 25  1]\n",
      " [ 0  0  2  0  1 17]]\n"
     ]
    },
    {
     "data": {
      "image/png": "[encoded data removed]",
      "text/plain": [
       "<Figure size 640x480 with 2 Axes>"
      ]
     },
     "metadata": {},
     "output_type": "display_data"
    }
   ],
   "source": [
    "disp = ConfusionMatrixDisplay.from_estimator(\n",
    "    pipe_logClf,\n",
    "    X_test,\n",
    "    y_test,\n",
    "    display_labels=['Karotte', 'Kartoffel', 'Zwiebel', 'Karotte_Trieb', 'Kartoffel_Trieb', 'Zwiebel_Trieb'],\n",
    "    cmap='viridis',\n",
    "    normalize=None,\n",
    ")\n",
    "disp.ax_.set_title(\"Vegis TRAIN  DATA\")\n",
    "\n",
    "print(\"Vegis TRAIN\")\n",
    "print(disp.confusion_matrix)"
   ]
  },
  {
   "cell_type": "code",
   "execution_count": 19,
   "metadata": {},
   "outputs": [
    {
     "data": {
      "text/plain": [
       "array([[75,  0,  0,  1,  0,  0],\n",
       "       [ 1, 61,  8,  0,  8,  1],\n",
       "       [ 2,  4, 72,  0,  0,  2],\n",
       "       [ 1,  0,  0, 49,  0,  0],\n",
       "       [ 0,  3,  0,  0, 25,  1],\n",
       "       [ 0,  0,  2,  0,  1, 17]], dtype=int64)"
      ]
     },
     "execution_count": 19,
     "metadata": {},
     "output_type": "execute_result"
    }
   ],
   "source": [
    "cm = confusion_matrix(y_test, pred_test)\n",
    "cm"
   ]
  },
  {
   "cell_type": "code",
   "execution_count": 47,
   "metadata": {},
   "outputs": [],
   "source": [
    "def get_evaluation_metrices(confusion_matrix, vegi=\"\"):\n",
    "    cls = {'Karotte': 0, 'Kartoffel': 1, 'Zwiebel': 2, 'Karotte_Trieb': 3, 'Kartoffel_Trieb': 4, 'Zwiebel_Trieb': 5}[vegi]\n",
    "    print(cls)\n",
    "\n",
    "    tp = confusion_matrix[cls][cls]\n",
    "    fn = np.sum(confusion_matrix, axis=0)[cls] - tp\n",
    "    fp = np.sum(confusion_matrix, axis=1)[cls] - tp\n",
    "    tn = np.sum(confusion_matrix) - (tp + fn + fp)\n",
    "    print(f\"Classifications: tp= {tp} | fn= {fn} | fp= {fp} | tn= {tn}\")\n",
    "\n",
    "    acc = (tp + tn)/ (tp + fn + fp + tn)\n",
    "    prec = tp / (tp + fp)\n",
    "    rec = tp / (tp + fn)\n",
    "    f1 = 2 * ((prec * rec) / (prec + rec))\n",
    "\n",
    "    return acc, prec, rec, f1\n",
    "\n"
   ]
  },
  {
   "cell_type": "code",
   "execution_count": 25,
   "metadata": {},
   "outputs": [
    {
     "data": {
      "text/plain": [
       "array([[1, 8, 3],\n",
       "       [2, 4, 1],\n",
       "       [4, 1, 0]])"
      ]
     },
     "execution_count": 25,
     "metadata": {},
     "output_type": "execute_result"
    }
   ],
   "source": [
    "a = np.array([[1,8,3], [2,4,1], [4,1,0]])\n",
    "a"
   ]
  },
  {
   "cell_type": "code",
   "execution_count": 36,
   "metadata": {},
   "outputs": [
    {
     "data": {
      "text/plain": [
       "24"
      ]
     },
     "execution_count": 36,
     "metadata": {},
     "output_type": "execute_result"
    }
   ],
   "source": [
    "np.sum(a)"
   ]
  },
  {
   "cell_type": "code",
   "execution_count": 50,
   "metadata": {},
   "outputs": [
    {
     "name": "stdout",
     "output_type": "stream",
     "text": [
      "1\n",
      "Classifications: tp= 61 | fn= 7 | fp= 18 | tn= 248\n",
      "0.9251497005988024 0.7721518987341772 0.8970588235294118 0.8299319727891157\n"
     ]
    }
   ],
   "source": [
    "accuracy, precision, recall, f1 = get_evaluation_metrices(cm, 'Kartoffel')\n",
    "print(accuracy, precision, recall, f1)"
   ]
  }
 ],
 "metadata": {
  "kernelspec": {
   "display_name": "Python 3",
   "language": "python",
   "name": "python3"
  },
  "language_info": {
   "codemirror_mode": {
    "name": "ipython",
    "version": 3
   },
   "file_extension": ".py",
   "mimetype": "text/x-python",
   "name": "python",
   "nbconvert_exporter": "python",
   "pygments_lexer": "ipython3",
   "version": "3.10.6"
  }
 },
 "nbformat": 4,
 "nbformat_minor": 2
}
