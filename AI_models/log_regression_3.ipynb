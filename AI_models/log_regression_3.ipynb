{
 "cells": [
  {
   "cell_type": "code",
   "execution_count": 1,
   "metadata": {},
   "outputs": [],
   "source": [
    "import pandas as pd\n",
    "import numpy as np\n",
    "from sklearn.model_selection import train_test_split\n",
    "from sklearn.linear_model import LogisticRegression\n",
    "from sklearn.metrics import ConfusionMatrixDisplay\n",
    "from sklearn.metrics import accuracy_score\n",
    "from sklearn.compose import ColumnTransformer\n",
    "from sklearn.preprocessing import StandardScaler"
   ]
  },
  {
   "cell_type": "code",
   "execution_count": 2,
   "metadata": {},
   "outputs": [
    {
     "data": {
      "text/html": [
       "<div>\n",
       "<style scoped>\n",
       "    .dataframe tbody tr th:only-of-type {\n",
       "        vertical-align: middle;\n",
       "    }\n",
       "\n",
       "    .dataframe tbody tr th {\n",
       "        vertical-align: top;\n",
       "    }\n",
       "\n",
       "    .dataframe thead th {\n",
       "        text-align: right;\n",
       "    }\n",
       "</style>\n",
       "<table border=\"1\" class=\"dataframe\">\n",
       "  <thead>\n",
       "    <tr style=\"text-align: right;\">\n",
       "      <th></th>\n",
       "      <th>Hight</th>\n",
       "      <th>Width</th>\n",
       "      <th>R</th>\n",
       "      <th>G</th>\n",
       "      <th>B</th>\n",
       "      <th>green onion pixels</th>\n",
       "      <th>ratio area</th>\n",
       "      <th>circularity</th>\n",
       "      <th>keypoints</th>\n",
       "      <th>mean keypoints</th>\n",
       "      <th>Label</th>\n",
       "      <th>Image</th>\n",
       "    </tr>\n",
       "  </thead>\n",
       "  <tbody>\n",
       "    <tr>\n",
       "      <th>0</th>\n",
       "      <td>191</td>\n",
       "      <td>85</td>\n",
       "      <td>141</td>\n",
       "      <td>117</td>\n",
       "      <td>91</td>\n",
       "      <td>0</td>\n",
       "      <td>0.729042</td>\n",
       "      <td>0.574953</td>\n",
       "      <td>40</td>\n",
       "      <td>11.697907</td>\n",
       "      <td>Kartoffel</td>\n",
       "      <td>Kartoffel_1</td>\n",
       "    </tr>\n",
       "    <tr>\n",
       "      <th>1</th>\n",
       "      <td>193</td>\n",
       "      <td>80</td>\n",
       "      <td>141</td>\n",
       "      <td>117</td>\n",
       "      <td>91</td>\n",
       "      <td>0</td>\n",
       "      <td>0.751392</td>\n",
       "      <td>0.566709</td>\n",
       "      <td>41</td>\n",
       "      <td>11.196103</td>\n",
       "      <td>Kartoffel</td>\n",
       "      <td>Kartoffel_2</td>\n",
       "    </tr>\n",
       "    <tr>\n",
       "      <th>2</th>\n",
       "      <td>194</td>\n",
       "      <td>78</td>\n",
       "      <td>141</td>\n",
       "      <td>117</td>\n",
       "      <td>91</td>\n",
       "      <td>0</td>\n",
       "      <td>0.775938</td>\n",
       "      <td>0.583498</td>\n",
       "      <td>35</td>\n",
       "      <td>12.240883</td>\n",
       "      <td>Kartoffel</td>\n",
       "      <td>Kartoffel_3</td>\n",
       "    </tr>\n",
       "    <tr>\n",
       "      <th>3</th>\n",
       "      <td>155</td>\n",
       "      <td>67</td>\n",
       "      <td>136</td>\n",
       "      <td>112</td>\n",
       "      <td>84</td>\n",
       "      <td>0</td>\n",
       "      <td>0.748387</td>\n",
       "      <td>0.649936</td>\n",
       "      <td>40</td>\n",
       "      <td>6.705826</td>\n",
       "      <td>Kartoffel</td>\n",
       "      <td>Kartoffel_4</td>\n",
       "    </tr>\n",
       "    <tr>\n",
       "      <th>4</th>\n",
       "      <td>166</td>\n",
       "      <td>68</td>\n",
       "      <td>136</td>\n",
       "      <td>112</td>\n",
       "      <td>84</td>\n",
       "      <td>0</td>\n",
       "      <td>0.694454</td>\n",
       "      <td>0.562511</td>\n",
       "      <td>40</td>\n",
       "      <td>6.861728</td>\n",
       "      <td>Kartoffel</td>\n",
       "      <td>Kartoffel_5</td>\n",
       "    </tr>\n",
       "    <tr>\n",
       "      <th>5</th>\n",
       "      <td>168</td>\n",
       "      <td>68</td>\n",
       "      <td>136</td>\n",
       "      <td>112</td>\n",
       "      <td>84</td>\n",
       "      <td>0</td>\n",
       "      <td>0.713323</td>\n",
       "      <td>0.578262</td>\n",
       "      <td>41</td>\n",
       "      <td>7.037449</td>\n",
       "      <td>Kartoffel</td>\n",
       "      <td>Kartoffel_6</td>\n",
       "    </tr>\n",
       "    <tr>\n",
       "      <th>6</th>\n",
       "      <td>150</td>\n",
       "      <td>130</td>\n",
       "      <td>136</td>\n",
       "      <td>112</td>\n",
       "      <td>84</td>\n",
       "      <td>0</td>\n",
       "      <td>0.800256</td>\n",
       "      <td>0.674584</td>\n",
       "      <td>49</td>\n",
       "      <td>8.504246</td>\n",
       "      <td>Kartoffel</td>\n",
       "      <td>Kartoffel_7</td>\n",
       "    </tr>\n",
       "    <tr>\n",
       "      <th>7</th>\n",
       "      <td>148</td>\n",
       "      <td>126</td>\n",
       "      <td>119</td>\n",
       "      <td>95</td>\n",
       "      <td>72</td>\n",
       "      <td>0</td>\n",
       "      <td>0.811937</td>\n",
       "      <td>0.823492</td>\n",
       "      <td>47</td>\n",
       "      <td>8.894188</td>\n",
       "      <td>Kartoffel</td>\n",
       "      <td>Kartoffel_8</td>\n",
       "    </tr>\n",
       "    <tr>\n",
       "      <th>8</th>\n",
       "      <td>147</td>\n",
       "      <td>125</td>\n",
       "      <td>119</td>\n",
       "      <td>95</td>\n",
       "      <td>72</td>\n",
       "      <td>0</td>\n",
       "      <td>0.810803</td>\n",
       "      <td>0.835890</td>\n",
       "      <td>52</td>\n",
       "      <td>8.337561</td>\n",
       "      <td>Kartoffel</td>\n",
       "      <td>Kartoffel_9</td>\n",
       "    </tr>\n",
       "    <tr>\n",
       "      <th>9</th>\n",
       "      <td>181</td>\n",
       "      <td>131</td>\n",
       "      <td>115</td>\n",
       "      <td>90</td>\n",
       "      <td>69</td>\n",
       "      <td>0</td>\n",
       "      <td>0.763253</td>\n",
       "      <td>0.756819</td>\n",
       "      <td>34</td>\n",
       "      <td>9.984699</td>\n",
       "      <td>Kartoffel</td>\n",
       "      <td>Kartoffel_10</td>\n",
       "    </tr>\n",
       "  </tbody>\n",
       "</table>\n",
       "</div>"
      ],
      "text/plain": [
       "   Hight  Width    R    G   B  green onion pixels  ratio area  circularity  \\\n",
       "0    191     85  141  117  91                   0    0.729042     0.574953   \n",
       "1    193     80  141  117  91                   0    0.751392     0.566709   \n",
       "2    194     78  141  117  91                   0    0.775938     0.583498   \n",
       "3    155     67  136  112  84                   0    0.748387     0.649936   \n",
       "4    166     68  136  112  84                   0    0.694454     0.562511   \n",
       "5    168     68  136  112  84                   0    0.713323     0.578262   \n",
       "6    150    130  136  112  84                   0    0.800256     0.674584   \n",
       "7    148    126  119   95  72                   0    0.811937     0.823492   \n",
       "8    147    125  119   95  72                   0    0.810803     0.835890   \n",
       "9    181    131  115   90  69                   0    0.763253     0.756819   \n",
       "\n",
       "   keypoints  mean keypoints      Label         Image  \n",
       "0         40       11.697907  Kartoffel   Kartoffel_1  \n",
       "1         41       11.196103  Kartoffel   Kartoffel_2  \n",
       "2         35       12.240883  Kartoffel   Kartoffel_3  \n",
       "3         40        6.705826  Kartoffel   Kartoffel_4  \n",
       "4         40        6.861728  Kartoffel   Kartoffel_5  \n",
       "5         41        7.037449  Kartoffel   Kartoffel_6  \n",
       "6         49        8.504246  Kartoffel   Kartoffel_7  \n",
       "7         47        8.894188  Kartoffel   Kartoffel_8  \n",
       "8         52        8.337561  Kartoffel   Kartoffel_9  \n",
       "9         34        9.984699  Kartoffel  Kartoffel_10  "
      ]
     },
     "execution_count": 2,
     "metadata": {},
     "output_type": "execute_result"
    }
   ],
   "source": [
    "vegi_df = pd.read_csv(\"G:/Meine Ablage/KI_Projekt/Daten/vegis_all.csv\")\n",
    "vegi_df = vegi_df.drop(columns=[\"Unnamed: 0\", \"green pixels\"])\n",
    "vegi_df.head(10)"
   ]
  },
  {
   "cell_type": "code",
   "execution_count": 133,
   "metadata": {},
   "outputs": [
    {
     "data": {
      "text/html": [
       "<div>\n",
       "<style scoped>\n",
       "    .dataframe tbody tr th:only-of-type {\n",
       "        vertical-align: middle;\n",
       "    }\n",
       "\n",
       "    .dataframe tbody tr th {\n",
       "        vertical-align: top;\n",
       "    }\n",
       "\n",
       "    .dataframe thead th {\n",
       "        text-align: right;\n",
       "    }\n",
       "</style>\n",
       "<table border=\"1\" class=\"dataframe\">\n",
       "  <thead>\n",
       "    <tr style=\"text-align: right;\">\n",
       "      <th></th>\n",
       "      <th>Hight</th>\n",
       "      <th>Width</th>\n",
       "      <th>R</th>\n",
       "      <th>G</th>\n",
       "      <th>B</th>\n",
       "      <th>green pixels</th>\n",
       "      <th>ratio area</th>\n",
       "      <th>circularity</th>\n",
       "    </tr>\n",
       "  </thead>\n",
       "  <tbody>\n",
       "    <tr>\n",
       "      <th>count</th>\n",
       "      <td>1467.000000</td>\n",
       "      <td>1467.000000</td>\n",
       "      <td>1467.000000</td>\n",
       "      <td>1467.000000</td>\n",
       "      <td>1467.000000</td>\n",
       "      <td>1467.000000</td>\n",
       "      <td>1467.000000</td>\n",
       "      <td>1467.000000</td>\n",
       "    </tr>\n",
       "    <tr>\n",
       "      <th>mean</th>\n",
       "      <td>186.783913</td>\n",
       "      <td>110.134288</td>\n",
       "      <td>113.753238</td>\n",
       "      <td>88.509202</td>\n",
       "      <td>58.438309</td>\n",
       "      <td>797.755965</td>\n",
       "      <td>0.467672</td>\n",
       "      <td>0.421072</td>\n",
       "    </tr>\n",
       "    <tr>\n",
       "      <th>std</th>\n",
       "      <td>64.923150</td>\n",
       "      <td>48.972070</td>\n",
       "      <td>26.711902</td>\n",
       "      <td>23.025116</td>\n",
       "      <td>19.967456</td>\n",
       "      <td>2055.226414</td>\n",
       "      <td>0.308599</td>\n",
       "      <td>0.277029</td>\n",
       "    </tr>\n",
       "    <tr>\n",
       "      <th>min</th>\n",
       "      <td>53.000000</td>\n",
       "      <td>22.000000</td>\n",
       "      <td>24.000000</td>\n",
       "      <td>24.000000</td>\n",
       "      <td>8.000000</td>\n",
       "      <td>0.000000</td>\n",
       "      <td>0.000000</td>\n",
       "      <td>0.008207</td>\n",
       "    </tr>\n",
       "    <tr>\n",
       "      <th>25%</th>\n",
       "      <td>133.500000</td>\n",
       "      <td>71.000000</td>\n",
       "      <td>96.000000</td>\n",
       "      <td>74.000000</td>\n",
       "      <td>47.000000</td>\n",
       "      <td>0.000000</td>\n",
       "      <td>0.171172</td>\n",
       "      <td>0.156769</td>\n",
       "    </tr>\n",
       "    <tr>\n",
       "      <th>50%</th>\n",
       "      <td>188.000000</td>\n",
       "      <td>103.000000</td>\n",
       "      <td>115.000000</td>\n",
       "      <td>87.000000</td>\n",
       "      <td>58.000000</td>\n",
       "      <td>0.000000</td>\n",
       "      <td>0.571470</td>\n",
       "      <td>0.358547</td>\n",
       "    </tr>\n",
       "    <tr>\n",
       "      <th>75%</th>\n",
       "      <td>249.000000</td>\n",
       "      <td>136.000000</td>\n",
       "      <td>134.000000</td>\n",
       "      <td>103.000000</td>\n",
       "      <td>69.000000</td>\n",
       "      <td>269.000000</td>\n",
       "      <td>0.749589</td>\n",
       "      <td>0.688988</td>\n",
       "    </tr>\n",
       "    <tr>\n",
       "      <th>max</th>\n",
       "      <td>351.000000</td>\n",
       "      <td>255.000000</td>\n",
       "      <td>189.000000</td>\n",
       "      <td>188.000000</td>\n",
       "      <td>191.000000</td>\n",
       "      <td>15125.000000</td>\n",
       "      <td>0.960428</td>\n",
       "      <td>0.898365</td>\n",
       "    </tr>\n",
       "  </tbody>\n",
       "</table>\n",
       "</div>"
      ],
      "text/plain": [
       "             Hight        Width            R            G            B  \\\n",
       "count  1467.000000  1467.000000  1467.000000  1467.000000  1467.000000   \n",
       "mean    186.783913   110.134288   113.753238    88.509202    58.438309   \n",
       "std      64.923150    48.972070    26.711902    23.025116    19.967456   \n",
       "min      53.000000    22.000000    24.000000    24.000000     8.000000   \n",
       "25%     133.500000    71.000000    96.000000    74.000000    47.000000   \n",
       "50%     188.000000   103.000000   115.000000    87.000000    58.000000   \n",
       "75%     249.000000   136.000000   134.000000   103.000000    69.000000   \n",
       "max     351.000000   255.000000   189.000000   188.000000   191.000000   \n",
       "\n",
       "       green pixels   ratio area  circularity  \n",
       "count   1467.000000  1467.000000  1467.000000  \n",
       "mean     797.755965     0.467672     0.421072  \n",
       "std     2055.226414     0.308599     0.277029  \n",
       "min        0.000000     0.000000     0.008207  \n",
       "25%        0.000000     0.171172     0.156769  \n",
       "50%        0.000000     0.571470     0.358547  \n",
       "75%      269.000000     0.749589     0.688988  \n",
       "max    15125.000000     0.960428     0.898365  "
      ]
     },
     "execution_count": 133,
     "metadata": {},
     "output_type": "execute_result"
    }
   ],
   "source": [
    "vegi_df.describe()"
   ]
  },
  {
   "cell_type": "code",
   "execution_count": 3,
   "metadata": {},
   "outputs": [
    {
     "data": {
      "text/plain": [
       "Label\n",
       "3    1632\n",
       "1    1221\n",
       "0    1056\n",
       "2    1003\n",
       "4     822\n",
       "5     780\n",
       "Name: count, dtype: int64"
      ]
     },
     "execution_count": 3,
     "metadata": {},
     "output_type": "execute_result"
    }
   ],
   "source": [
    "vegi_encoded_df = vegi_df.copy()\n",
    "\n",
    "vegi_encoded_df.loc[vegi_encoded_df['Label'] == 'Karotte', 'Label'] = 0\n",
    "vegi_encoded_df.loc[vegi_encoded_df['Label'] == 'Kartoffel', 'Label'] = 1\n",
    "vegi_encoded_df.loc[vegi_encoded_df['Label'] == 'Zwiebel', 'Label'] = 2\n",
    "vegi_encoded_df.loc[vegi_encoded_df['Label'] == 'Karotte_Trieb', 'Label'] = 3\n",
    "vegi_encoded_df.loc[vegi_encoded_df['Label'] == 'Kartoffel_Trieb', 'Label'] = 4\n",
    "vegi_encoded_df.loc[vegi_encoded_df['Label'] == 'Zwiebel_Trieb', 'Label'] = 5\n",
    "\n",
    "vegi_encoded_df['Label'] = vegi_encoded_df['Label'].astype('int')\n",
    "vegi_encoded_df['Label'].value_counts()"
   ]
  },
  {
   "cell_type": "code",
   "execution_count": 5,
   "metadata": {},
   "outputs": [],
   "source": [
    "X = vegi_encoded_df.iloc[:, 0:10]\n",
    "y = vegi_encoded_df.iloc[:, 10:12]\n",
    "\n",
    "X_train, X_test, y_train, y_test = train_test_split(X, y, test_size=0.25, random_state=42)\n",
    "\n",
    "# Image names are only for assignment from datapoint to corresponding image\n",
    "image_names = y_train.iloc[:,1]  \n",
    "image_names_test = y_test.iloc[:,1]\n",
    "\n",
    "y_train_clean = y_train.drop(columns=\"Image\")\n",
    "y_test_clean = y_test.drop(columns=\"Image\")\n"
   ]
  },
  {
   "cell_type": "code",
   "execution_count": 6,
   "metadata": {},
   "outputs": [
    {
     "name": "stdout",
     "output_type": "stream",
     "text": [
      "      Hight  Width    R    G   B  green onion pixels  ratio area  circularity  \\\n",
      "6211    207    129  149  127  73                  33    0.722765     0.726994   \n",
      "2476    123     55  119   75  63                   0    0.668662     0.511018   \n",
      "5223    269    111  100   89  57                2515    0.364363     0.156674   \n",
      "3832    255    173  109   99  62                6991    0.001791     0.517762   \n",
      "5774    100     80  128   99  66                   0    0.780813     0.781659   \n",
      "\n",
      "      keypoints  mean keypoints  \n",
      "6211         48        5.562044  \n",
      "2476         24        5.131930  \n",
      "5223         53        6.428029  \n",
      "3832        242        4.243097  \n",
      "5774         19       12.654041  \n",
      "      Hight  Width    R    G   B  green onion pixels  ratio area  circularity  \\\n",
      "5932    119     73  104   72  33                   0    0.785139     0.615918   \n",
      "1872    187     31  111   64  40                   0    0.696653     0.267553   \n",
      "1002     85     62   45   30  17                   0    0.773340     0.803860   \n",
      "6036    112     84  119   88  48                   0    0.711469     0.580993   \n",
      "5421    218    108  121  104  81                 303    0.382645     0.140019   \n",
      "\n",
      "      keypoints  mean keypoints  \n",
      "5932         55        4.333995  \n",
      "1872         19        6.692570  \n",
      "1002          7       19.354682  \n",
      "6036         29        5.761435  \n",
      "5421         43        7.713984  \n",
      "      Label\n",
      "6211      4\n",
      "2476      2\n",
      "5223      5\n",
      "3832      3\n",
      "5774      4\n",
      "      Label\n",
      "5932      4\n",
      "1872      0\n",
      "1002      1\n",
      "6036      4\n",
      "5421      5\n",
      "6211    Kartoffel_Trieb_120\n",
      "2476            Zwiebel_238\n",
      "5223       Zwiebel_Trieb_72\n",
      "3832      Karotte_Trieb_553\n",
      "5774    Kartoffel_Trieb_115\n",
      "Name: Image, dtype: object\n"
     ]
    }
   ],
   "source": [
    "print(X_train.head())\n",
    "print(X_test.head())\n",
    "print(y_train_clean.head())\n",
    "print(y_test_clean.head())\n",
    "print(image_names.head())"
   ]
  },
  {
   "cell_type": "code",
   "execution_count": 7,
   "metadata": {},
   "outputs": [],
   "source": [
    "# Scaler\n",
    "X_train_copy = X_train.copy()\n",
    "\n",
    "col_names = ['Hight', 'Width', 'R', 'G', 'B', 'green onion pixels', 'ratio area', 'circularity', 'keypoints', 'mean keypoints']\n",
    "features = X_train_copy[col_names]\n",
    "\n",
    "ct = ColumnTransformer([\n",
    "        ('standard1', StandardScaler(), ['Hight', 'Width', 'R', 'G', 'B', 'green onion pixels'])\n",
    "    ], remainder='passthrough')\n",
    "\n",
    "X_train_scaled = ct.fit_transform(features)\n",
    "\n",
    "# Scale Testdata\n",
    "col_names = ['Hight', 'Width', 'R', 'G', 'B', 'green onion pixels', 'ratio area', 'circularity', 'keypoints', 'mean keypoints']\n",
    "features_test = X_test[col_names]\n",
    "X_test_scaled = ct.transform(features_test)"
   ]
  },
  {
   "cell_type": "code",
   "execution_count": 42,
   "metadata": {},
   "outputs": [
    {
     "name": "stderr",
     "output_type": "stream",
     "text": [
      "c:\\Users\\Leon\\AppData\\Local\\Programs\\Python\\Python310\\lib\\site-packages\\sklearn\\utils\\validation.py:1143: DataConversionWarning: A column-vector y was passed when a 1d array was expected. Please change the shape of y to (n_samples, ), for example using ravel().\n",
      "  y = column_or_1d(y, warn=True)\n"
     ]
    },
    {
     "data": {
      "text/html": [
       "<style>#sk-container-id-8 {color: black;background-color: white;}#sk-container-id-8 pre{padding: 0;}#sk-container-id-8 div.sk-toggleable {background-color: white;}#sk-container-id-8 label.sk-toggleable__label {cursor: pointer;display: block;width: 100%;margin-bottom: 0;padding: 0.3em;box-sizing: border-box;text-align: center;}#sk-container-id-8 label.sk-toggleable__label-arrow:before {content: \"▸\";float: left;margin-right: 0.25em;color: #696969;}#sk-container-id-8 label.sk-toggleable__label-arrow:hover:before {color: black;}#sk-container-id-8 div.sk-estimator:hover label.sk-toggleable__label-arrow:before {color: black;}#sk-container-id-8 div.sk-toggleable__content {max-height: 0;max-width: 0;overflow: hidden;text-align: left;background-color: #f0f8ff;}#sk-container-id-8 div.sk-toggleable__content pre {margin: 0.2em;color: black;border-radius: 0.25em;background-color: #f0f8ff;}#sk-container-id-8 input.sk-toggleable__control:checked~div.sk-toggleable__content {max-height: 200px;max-width: 100%;overflow: auto;}#sk-container-id-8 input.sk-toggleable__control:checked~label.sk-toggleable__label-arrow:before {content: \"▾\";}#sk-container-id-8 div.sk-estimator input.sk-toggleable__control:checked~label.sk-toggleable__label {background-color: #d4ebff;}#sk-container-id-8 div.sk-label input.sk-toggleable__control:checked~label.sk-toggleable__label {background-color: #d4ebff;}#sk-container-id-8 input.sk-hidden--visually {border: 0;clip: rect(1px 1px 1px 1px);clip: rect(1px, 1px, 1px, 1px);height: 1px;margin: -1px;overflow: hidden;padding: 0;position: absolute;width: 1px;}#sk-container-id-8 div.sk-estimator {font-family: monospace;background-color: #f0f8ff;border: 1px dotted black;border-radius: 0.25em;box-sizing: border-box;margin-bottom: 0.5em;}#sk-container-id-8 div.sk-estimator:hover {background-color: #d4ebff;}#sk-container-id-8 div.sk-parallel-item::after {content: \"\";width: 100%;border-bottom: 1px solid gray;flex-grow: 1;}#sk-container-id-8 div.sk-label:hover label.sk-toggleable__label {background-color: #d4ebff;}#sk-container-id-8 div.sk-serial::before {content: \"\";position: absolute;border-left: 1px solid gray;box-sizing: border-box;top: 0;bottom: 0;left: 50%;z-index: 0;}#sk-container-id-8 div.sk-serial {display: flex;flex-direction: column;align-items: center;background-color: white;padding-right: 0.2em;padding-left: 0.2em;position: relative;}#sk-container-id-8 div.sk-item {position: relative;z-index: 1;}#sk-container-id-8 div.sk-parallel {display: flex;align-items: stretch;justify-content: center;background-color: white;position: relative;}#sk-container-id-8 div.sk-item::before, #sk-container-id-8 div.sk-parallel-item::before {content: \"\";position: absolute;border-left: 1px solid gray;box-sizing: border-box;top: 0;bottom: 0;left: 50%;z-index: -1;}#sk-container-id-8 div.sk-parallel-item {display: flex;flex-direction: column;z-index: 1;position: relative;background-color: white;}#sk-container-id-8 div.sk-parallel-item:first-child::after {align-self: flex-end;width: 50%;}#sk-container-id-8 div.sk-parallel-item:last-child::after {align-self: flex-start;width: 50%;}#sk-container-id-8 div.sk-parallel-item:only-child::after {width: 0;}#sk-container-id-8 div.sk-dashed-wrapped {border: 1px dashed gray;margin: 0 0.4em 0.5em 0.4em;box-sizing: border-box;padding-bottom: 0.4em;background-color: white;}#sk-container-id-8 div.sk-label label {font-family: monospace;font-weight: bold;display: inline-block;line-height: 1.2em;}#sk-container-id-8 div.sk-label-container {text-align: center;}#sk-container-id-8 div.sk-container {/* jupyter's `normalize.less` sets `[hidden] { display: none; }` but bootstrap.min.css set `[hidden] { display: none !important; }` so we also need the `!important` here to be able to override the default hidden behavior on the sphinx rendered scikit-learn.org. See: https://github.com/scikit-learn/scikit-learn/issues/21755 */display: inline-block !important;position: relative;}#sk-container-id-8 div.sk-text-repr-fallback {display: none;}</style><div id=\"sk-container-id-8\" class=\"sk-top-container\"><div class=\"sk-text-repr-fallback\"><pre>LogisticRegression(max_iter=20000, multi_class=&#x27;multinomial&#x27;, penalty=None,\n",
       "                   tol=0.001)</pre><b>In a Jupyter environment, please rerun this cell to show the HTML representation or trust the notebook. <br />On GitHub, the HTML representation is unable to render, please try loading this page with nbviewer.org.</b></div><div class=\"sk-container\" hidden><div class=\"sk-item\"><div class=\"sk-estimator sk-toggleable\"><input class=\"sk-toggleable__control sk-hidden--visually\" id=\"sk-estimator-id-8\" type=\"checkbox\" checked><label for=\"sk-estimator-id-8\" class=\"sk-toggleable__label sk-toggleable__label-arrow\">LogisticRegression</label><div class=\"sk-toggleable__content\"><pre>LogisticRegression(max_iter=20000, multi_class=&#x27;multinomial&#x27;, penalty=None,\n",
       "                   tol=0.001)</pre></div></div></div></div></div>"
      ],
      "text/plain": [
       "LogisticRegression(max_iter=20000, multi_class='multinomial', penalty=None,\n",
       "                   tol=0.001)"
      ]
     },
     "execution_count": 42,
     "metadata": {},
     "output_type": "execute_result"
    }
   ],
   "source": [
    "y_train_clean_2 = y_train_clean.to_numpy()\n",
    "\n",
    "clf = LogisticRegression(penalty=None, solver='lbfgs', tol=0.001, max_iter=20000, multi_class='multinomial')\n",
    "clf.fit(X_train_scaled, y_train_clean_2)"
   ]
  },
  {
   "cell_type": "code",
   "execution_count": 43,
   "metadata": {},
   "outputs": [
    {
     "name": "stdout",
     "output_type": "stream",
     "text": [
      "[0 1 2 3 4 5]\n",
      "[[ 1.69136317e+00 -1.69292094e+00  3.58254806e+00 -4.84416233e+00\n",
      "   1.69544458e+00  7.50222677e+01  1.84372125e+00 -1.34400787e+00\n",
      "  -4.27933807e-02  3.74771355e-02]\n",
      " [-3.53555913e-01  8.53360788e-01 -1.13422982e+01  1.49420253e+01\n",
      "  -5.18299636e+00 -1.86899598e+02  2.62815980e+00  1.03427331e+01\n",
      "   4.26728754e-03  1.83500425e-01]\n",
      " [-1.29480071e+00  1.51899864e+00  5.76515240e+00 -8.51317850e+00\n",
      "   3.95574855e+00 -5.14244945e+00 -2.27249811e-01  2.07303296e+00\n",
      "  -3.21218106e-02  3.58407604e-02]\n",
      " [ 8.89498265e-01 -2.57023753e+00  3.08918047e+00 -4.03634155e+00\n",
      "   1.60436951e+00  7.90375836e+01 -4.95899467e+00 -1.45776350e+01\n",
      "   4.88967935e-02 -4.47065580e-01]\n",
      " [-1.85930520e+00  2.08489441e+00 -3.54615791e+00  7.23776652e+00\n",
      "  -3.58402328e+00 -3.97753799e+01  2.01317462e+00  3.83148276e+00\n",
      "   1.85834028e-02  1.21283679e-01]\n",
      " [ 9.26800388e-01 -1.94095372e-01  2.45157519e+00 -4.78610941e+00\n",
      "   1.51145700e+00  7.77575759e+01 -1.29881120e+00 -3.25605962e-01\n",
      "   3.16770736e-03  6.89635804e-02]]\n"
     ]
    }
   ],
   "source": [
    "print(clf.classes_)\n",
    "print(clf.coef_[:10])"
   ]
  },
  {
   "cell_type": "code",
   "execution_count": 44,
   "metadata": {},
   "outputs": [
    {
     "name": "stdout",
     "output_type": "stream",
     "text": [
      "Predicted: [2]. Groundtruth: [2]\n"
     ]
    }
   ],
   "source": [
    "pred_vegi = clf.predict(X_train_scaled[200].reshape(1, -1))\n",
    "print(f\"Predicted: {pred_vegi}. Groundtruth: {y_train_clean_2[200]}\")"
   ]
  },
  {
   "cell_type": "code",
   "execution_count": 45,
   "metadata": {},
   "outputs": [],
   "source": [
    "y_train_pred = clf.predict(X_train_scaled)\n",
    "y_test_pred = clf.predict(X_test_scaled)"
   ]
  },
  {
   "cell_type": "code",
   "execution_count": 46,
   "metadata": {},
   "outputs": [
    {
     "name": "stdout",
     "output_type": "stream",
     "text": [
      "Accuracy Test: 0.8385512584407612\n",
      "Accuracy Train: 0.84503582395087\n",
      "Number Correct Predicions Test: 1366\n",
      "Number Correct Predicions Train: 4128\n"
     ]
    }
   ],
   "source": [
    "accuracy_testdata = accuracy_score(y_test_clean, y_test_pred)\n",
    "accuracy_traindata = accuracy_score(y_train_clean_2, y_train_pred)\n",
    "print(f\"Accuracy Test: {accuracy_testdata}\\nAccuracy Train: {accuracy_traindata}\")\n",
    "\n",
    "number_correct_testdata = accuracy_score(y_test_clean, y_test_pred, normalize=False)\n",
    "number_correct_traindata = accuracy_score(y_train_clean_2, y_train_pred, normalize=False)\n",
    "print(f\"Number Correct Predicions Test: {number_correct_testdata}\\nNumber Correct Predicions Train: {number_correct_traindata}\")"
   ]
  },
  {
   "cell_type": "code",
   "execution_count": 47,
   "metadata": {},
   "outputs": [
    {
     "name": "stdout",
     "output_type": "stream",
     "text": [
      "Vegis\n",
      "[[200   7  21   4   5  30]\n",
      " [ 11 282  10   0  31   0]\n",
      " [  5   8 220   1   9   2]\n",
      " [ 17   0   1 361   0  13]\n",
      " [  1  30   0   1 160   1]\n",
      " [ 14   3   9  22   7 143]]\n"
     ]
    },
    {
     "data": {
      "image/png": "[encoded data removed]",
      "text/plain": [
       "<Figure size 640x480 with 2 Axes>"
      ]
     },
     "metadata": {},
     "output_type": "display_data"
    }
   ],
   "source": [
    "disp = ConfusionMatrixDisplay.from_estimator(\n",
    "    clf,\n",
    "    X_test_scaled,\n",
    "    y_test_clean,\n",
    "    display_labels=['Karotte', 'Kartoffel', 'Zwiebel', 'Karotte_Trieb', 'Kartoffel_Trieb', 'Zwiebel_Trieb'],\n",
    "    cmap='viridis',\n",
    "    normalize=None,\n",
    ")\n",
    "disp.ax_.set_title(\"Vegis TEST DATA\")\n",
    "\n",
    "print(\"Vegis\")\n",
    "print(disp.confusion_matrix)"
   ]
  },
  {
   "cell_type": "code",
   "execution_count": null,
   "metadata": {},
   "outputs": [],
   "source": [
    "[[147  14  30   3   6  17]\n",
    " [ 12 152  12   0  34   0]\n",
    " [ 21  13 164   0   5   2]\n",
    " [ 13   0   0 169   0  14]\n",
    " [  4  37   3   0  95   0]\n",
    " [ 27   3  10  32   2  59]]"
   ]
  },
  {
   "cell_type": "code",
   "execution_count": 48,
   "metadata": {},
   "outputs": [
    {
     "name": "stdout",
     "output_type": "stream",
     "text": [
      "Vegis TRAIN\n",
      "[[ 601   18   79    6   17   68]\n",
      " [  27  746   19    0   92    3]\n",
      " [  40    8  678    4   17   11]\n",
      " [  50    0    0 1148    0   42]\n",
      " [   2  100    3    5  514    5]\n",
      " [  35    3   26   59   18  441]]\n"
     ]
    },
    {
     "data": {
      "image/png": "[encoded data removed]",
      "text/plain": [
       "<Figure size 640x480 with 2 Axes>"
      ]
     },
     "metadata": {},
     "output_type": "display_data"
    }
   ],
   "source": [
    "disp = ConfusionMatrixDisplay.from_estimator(\n",
    "    clf,\n",
    "    X_train_scaled,\n",
    "    y_train_clean,\n",
    "    display_labels=['Karotte', 'Kartoffel', 'Zwiebel', 'Karotte_Trieb', 'Kartoffel_Trieb', 'Zwiebel_Trieb'],\n",
    "    cmap='viridis',\n",
    "    normalize=None,\n",
    ")\n",
    "disp.ax_.set_title(\"Vegis TRAIN  DATA\")\n",
    "\n",
    "print(\"Vegis TRAIN\")\n",
    "print(disp.confusion_matrix)"
   ]
  }
 ],
 "metadata": {
  "kernelspec": {
   "display_name": "Python 3",
   "language": "python",
   "name": "python3"
  },
  "language_info": {
   "codemirror_mode": {
    "name": "ipython",
    "version": 3
   },
   "file_extension": ".py",
   "mimetype": "text/x-python",
   "name": "python",
   "nbconvert_exporter": "python",
   "pygments_lexer": "ipython3",
   "version": "3.10.6"
  }
 },
 "nbformat": 4,
 "nbformat_minor": 2
}
