{
 "cells": [
  {
   "cell_type": "code",
   "execution_count": 131,
   "metadata": {},
   "outputs": [],
   "source": [
    "import pandas as pd\n",
    "import numpy as np\n",
    "from sklearn.model_selection import train_test_split\n",
    "from sklearn.linear_model import LogisticRegression\n",
    "from sklearn.metrics import ConfusionMatrixDisplay\n",
    "from sklearn.metrics import accuracy_score\n",
    "from sklearn.compose import ColumnTransformer\n",
    "from sklearn.preprocessing import StandardScaler"
   ]
  },
  {
   "cell_type": "code",
   "execution_count": 132,
   "metadata": {},
   "outputs": [
    {
     "data": {
      "text/html": [
       "<div>\n",
       "<style scoped>\n",
       "    .dataframe tbody tr th:only-of-type {\n",
       "        vertical-align: middle;\n",
       "    }\n",
       "\n",
       "    .dataframe tbody tr th {\n",
       "        vertical-align: top;\n",
       "    }\n",
       "\n",
       "    .dataframe thead th {\n",
       "        text-align: right;\n",
       "    }\n",
       "</style>\n",
       "<table border=\"1\" class=\"dataframe\">\n",
       "  <thead>\n",
       "    <tr style=\"text-align: right;\">\n",
       "      <th></th>\n",
       "      <th>Hight</th>\n",
       "      <th>Width</th>\n",
       "      <th>R</th>\n",
       "      <th>G</th>\n",
       "      <th>B</th>\n",
       "      <th>green pixels</th>\n",
       "      <th>ratio area</th>\n",
       "      <th>circularity</th>\n",
       "      <th>Label</th>\n",
       "      <th>Image</th>\n",
       "    </tr>\n",
       "  </thead>\n",
       "  <tbody>\n",
       "    <tr>\n",
       "      <th>0</th>\n",
       "      <td>77</td>\n",
       "      <td>66</td>\n",
       "      <td>140</td>\n",
       "      <td>121</td>\n",
       "      <td>87</td>\n",
       "      <td>0</td>\n",
       "      <td>0.009937</td>\n",
       "      <td>0.495770</td>\n",
       "      <td>Kartoffel</td>\n",
       "      <td>Kartoffel_136</td>\n",
       "    </tr>\n",
       "    <tr>\n",
       "      <th>1</th>\n",
       "      <td>204</td>\n",
       "      <td>154</td>\n",
       "      <td>106</td>\n",
       "      <td>94</td>\n",
       "      <td>83</td>\n",
       "      <td>0</td>\n",
       "      <td>0.002228</td>\n",
       "      <td>0.118154</td>\n",
       "      <td>Kartoffel</td>\n",
       "      <td>Kartoffel_134</td>\n",
       "    </tr>\n",
       "    <tr>\n",
       "      <th>2</th>\n",
       "      <td>65</td>\n",
       "      <td>62</td>\n",
       "      <td>97</td>\n",
       "      <td>78</td>\n",
       "      <td>55</td>\n",
       "      <td>0</td>\n",
       "      <td>0.778040</td>\n",
       "      <td>0.709109</td>\n",
       "      <td>Kartoffel</td>\n",
       "      <td>Kartoffel_445</td>\n",
       "    </tr>\n",
       "    <tr>\n",
       "      <th>3</th>\n",
       "      <td>81</td>\n",
       "      <td>66</td>\n",
       "      <td>88</td>\n",
       "      <td>71</td>\n",
       "      <td>49</td>\n",
       "      <td>0</td>\n",
       "      <td>0.796203</td>\n",
       "      <td>0.870627</td>\n",
       "      <td>Kartoffel</td>\n",
       "      <td>Kartoffel_376</td>\n",
       "    </tr>\n",
       "    <tr>\n",
       "      <th>4</th>\n",
       "      <td>67</td>\n",
       "      <td>65</td>\n",
       "      <td>88</td>\n",
       "      <td>69</td>\n",
       "      <td>49</td>\n",
       "      <td>0</td>\n",
       "      <td>0.779564</td>\n",
       "      <td>0.769380</td>\n",
       "      <td>Kartoffel</td>\n",
       "      <td>Kartoffel_437</td>\n",
       "    </tr>\n",
       "    <tr>\n",
       "      <th>5</th>\n",
       "      <td>78</td>\n",
       "      <td>58</td>\n",
       "      <td>80</td>\n",
       "      <td>68</td>\n",
       "      <td>51</td>\n",
       "      <td>0</td>\n",
       "      <td>0.834881</td>\n",
       "      <td>0.866015</td>\n",
       "      <td>Kartoffel</td>\n",
       "      <td>Kartoffel_431</td>\n",
       "    </tr>\n",
       "    <tr>\n",
       "      <th>6</th>\n",
       "      <td>79</td>\n",
       "      <td>67</td>\n",
       "      <td>81</td>\n",
       "      <td>69</td>\n",
       "      <td>54</td>\n",
       "      <td>0</td>\n",
       "      <td>0.799452</td>\n",
       "      <td>0.873754</td>\n",
       "      <td>Kartoffel</td>\n",
       "      <td>Kartoffel_397</td>\n",
       "    </tr>\n",
       "    <tr>\n",
       "      <th>7</th>\n",
       "      <td>77</td>\n",
       "      <td>75</td>\n",
       "      <td>85</td>\n",
       "      <td>69</td>\n",
       "      <td>51</td>\n",
       "      <td>0</td>\n",
       "      <td>0.783463</td>\n",
       "      <td>0.862881</td>\n",
       "      <td>Kartoffel</td>\n",
       "      <td>Kartoffel_393</td>\n",
       "    </tr>\n",
       "    <tr>\n",
       "      <th>8</th>\n",
       "      <td>68</td>\n",
       "      <td>51</td>\n",
       "      <td>50</td>\n",
       "      <td>32</td>\n",
       "      <td>12</td>\n",
       "      <td>0</td>\n",
       "      <td>0.813581</td>\n",
       "      <td>0.856689</td>\n",
       "      <td>Kartoffel</td>\n",
       "      <td>Kartoffel_438</td>\n",
       "    </tr>\n",
       "    <tr>\n",
       "      <th>9</th>\n",
       "      <td>71</td>\n",
       "      <td>61</td>\n",
       "      <td>81</td>\n",
       "      <td>69</td>\n",
       "      <td>55</td>\n",
       "      <td>0</td>\n",
       "      <td>0.802932</td>\n",
       "      <td>0.873084</td>\n",
       "      <td>Kartoffel</td>\n",
       "      <td>Kartoffel_408</td>\n",
       "    </tr>\n",
       "  </tbody>\n",
       "</table>\n",
       "</div>"
      ],
      "text/plain": [
       "   Hight  Width    R    G   B  green pixels  ratio area  circularity  \\\n",
       "0     77     66  140  121  87             0    0.009937     0.495770   \n",
       "1    204    154  106   94  83             0    0.002228     0.118154   \n",
       "2     65     62   97   78  55             0    0.778040     0.709109   \n",
       "3     81     66   88   71  49             0    0.796203     0.870627   \n",
       "4     67     65   88   69  49             0    0.779564     0.769380   \n",
       "5     78     58   80   68  51             0    0.834881     0.866015   \n",
       "6     79     67   81   69  54             0    0.799452     0.873754   \n",
       "7     77     75   85   69  51             0    0.783463     0.862881   \n",
       "8     68     51   50   32  12             0    0.813581     0.856689   \n",
       "9     71     61   81   69  55             0    0.802932     0.873084   \n",
       "\n",
       "       Label          Image  \n",
       "0  Kartoffel  Kartoffel_136  \n",
       "1  Kartoffel  Kartoffel_134  \n",
       "2  Kartoffel  Kartoffel_445  \n",
       "3  Kartoffel  Kartoffel_376  \n",
       "4  Kartoffel  Kartoffel_437  \n",
       "5  Kartoffel  Kartoffel_431  \n",
       "6  Kartoffel  Kartoffel_397  \n",
       "7  Kartoffel  Kartoffel_393  \n",
       "8  Kartoffel  Kartoffel_438  \n",
       "9  Kartoffel  Kartoffel_408  "
      ]
     },
     "execution_count": 132,
     "metadata": {},
     "output_type": "execute_result"
    }
   ],
   "source": [
    "vegi_df = pd.read_csv(\"G:/Meine Ablage/KI_Projekt/Daten/vegi_benchmark_2.csv\")\n",
    "vegi_df = vegi_df.drop(columns=[\"Unnamed: 0\", \"green pixels\"])\n",
    "vegi_df.head(10)"
   ]
  },
  {
   "cell_type": "code",
   "execution_count": 133,
   "metadata": {},
   "outputs": [
    {
     "data": {
      "text/html": [
       "<div>\n",
       "<style scoped>\n",
       "    .dataframe tbody tr th:only-of-type {\n",
       "        vertical-align: middle;\n",
       "    }\n",
       "\n",
       "    .dataframe tbody tr th {\n",
       "        vertical-align: top;\n",
       "    }\n",
       "\n",
       "    .dataframe thead th {\n",
       "        text-align: right;\n",
       "    }\n",
       "</style>\n",
       "<table border=\"1\" class=\"dataframe\">\n",
       "  <thead>\n",
       "    <tr style=\"text-align: right;\">\n",
       "      <th></th>\n",
       "      <th>Hight</th>\n",
       "      <th>Width</th>\n",
       "      <th>R</th>\n",
       "      <th>G</th>\n",
       "      <th>B</th>\n",
       "      <th>green pixels</th>\n",
       "      <th>ratio area</th>\n",
       "      <th>circularity</th>\n",
       "    </tr>\n",
       "  </thead>\n",
       "  <tbody>\n",
       "    <tr>\n",
       "      <th>count</th>\n",
       "      <td>1467.000000</td>\n",
       "      <td>1467.000000</td>\n",
       "      <td>1467.000000</td>\n",
       "      <td>1467.000000</td>\n",
       "      <td>1467.000000</td>\n",
       "      <td>1467.000000</td>\n",
       "      <td>1467.000000</td>\n",
       "      <td>1467.000000</td>\n",
       "    </tr>\n",
       "    <tr>\n",
       "      <th>mean</th>\n",
       "      <td>186.783913</td>\n",
       "      <td>110.134288</td>\n",
       "      <td>113.753238</td>\n",
       "      <td>88.509202</td>\n",
       "      <td>58.438309</td>\n",
       "      <td>797.755965</td>\n",
       "      <td>0.467672</td>\n",
       "      <td>0.421072</td>\n",
       "    </tr>\n",
       "    <tr>\n",
       "      <th>std</th>\n",
       "      <td>64.923150</td>\n",
       "      <td>48.972070</td>\n",
       "      <td>26.711902</td>\n",
       "      <td>23.025116</td>\n",
       "      <td>19.967456</td>\n",
       "      <td>2055.226414</td>\n",
       "      <td>0.308599</td>\n",
       "      <td>0.277029</td>\n",
       "    </tr>\n",
       "    <tr>\n",
       "      <th>min</th>\n",
       "      <td>53.000000</td>\n",
       "      <td>22.000000</td>\n",
       "      <td>24.000000</td>\n",
       "      <td>24.000000</td>\n",
       "      <td>8.000000</td>\n",
       "      <td>0.000000</td>\n",
       "      <td>0.000000</td>\n",
       "      <td>0.008207</td>\n",
       "    </tr>\n",
       "    <tr>\n",
       "      <th>25%</th>\n",
       "      <td>133.500000</td>\n",
       "      <td>71.000000</td>\n",
       "      <td>96.000000</td>\n",
       "      <td>74.000000</td>\n",
       "      <td>47.000000</td>\n",
       "      <td>0.000000</td>\n",
       "      <td>0.171172</td>\n",
       "      <td>0.156769</td>\n",
       "    </tr>\n",
       "    <tr>\n",
       "      <th>50%</th>\n",
       "      <td>188.000000</td>\n",
       "      <td>103.000000</td>\n",
       "      <td>115.000000</td>\n",
       "      <td>87.000000</td>\n",
       "      <td>58.000000</td>\n",
       "      <td>0.000000</td>\n",
       "      <td>0.571470</td>\n",
       "      <td>0.358547</td>\n",
       "    </tr>\n",
       "    <tr>\n",
       "      <th>75%</th>\n",
       "      <td>249.000000</td>\n",
       "      <td>136.000000</td>\n",
       "      <td>134.000000</td>\n",
       "      <td>103.000000</td>\n",
       "      <td>69.000000</td>\n",
       "      <td>269.000000</td>\n",
       "      <td>0.749589</td>\n",
       "      <td>0.688988</td>\n",
       "    </tr>\n",
       "    <tr>\n",
       "      <th>max</th>\n",
       "      <td>351.000000</td>\n",
       "      <td>255.000000</td>\n",
       "      <td>189.000000</td>\n",
       "      <td>188.000000</td>\n",
       "      <td>191.000000</td>\n",
       "      <td>15125.000000</td>\n",
       "      <td>0.960428</td>\n",
       "      <td>0.898365</td>\n",
       "    </tr>\n",
       "  </tbody>\n",
       "</table>\n",
       "</div>"
      ],
      "text/plain": [
       "             Hight        Width            R            G            B  \\\n",
       "count  1467.000000  1467.000000  1467.000000  1467.000000  1467.000000   \n",
       "mean    186.783913   110.134288   113.753238    88.509202    58.438309   \n",
       "std      64.923150    48.972070    26.711902    23.025116    19.967456   \n",
       "min      53.000000    22.000000    24.000000    24.000000     8.000000   \n",
       "25%     133.500000    71.000000    96.000000    74.000000    47.000000   \n",
       "50%     188.000000   103.000000   115.000000    87.000000    58.000000   \n",
       "75%     249.000000   136.000000   134.000000   103.000000    69.000000   \n",
       "max     351.000000   255.000000   189.000000   188.000000   191.000000   \n",
       "\n",
       "       green pixels   ratio area  circularity  \n",
       "count   1467.000000  1467.000000  1467.000000  \n",
       "mean     797.755965     0.467672     0.421072  \n",
       "std     2055.226414     0.308599     0.277029  \n",
       "min        0.000000     0.000000     0.008207  \n",
       "25%        0.000000     0.171172     0.156769  \n",
       "50%        0.000000     0.571470     0.358547  \n",
       "75%      269.000000     0.749589     0.688988  \n",
       "max    15125.000000     0.960428     0.898365  "
      ]
     },
     "execution_count": 133,
     "metadata": {},
     "output_type": "execute_result"
    }
   ],
   "source": [
    "vegi_df.describe()"
   ]
  },
  {
   "cell_type": "code",
   "execution_count": 134,
   "metadata": {},
   "outputs": [
    {
     "data": {
      "text/plain": [
       "Label\n",
       "0    294\n",
       "1    276\n",
       "2    267\n",
       "3    260\n",
       "4    190\n",
       "5    180\n",
       "Name: count, dtype: int64"
      ]
     },
     "execution_count": 134,
     "metadata": {},
     "output_type": "execute_result"
    }
   ],
   "source": [
    "vegi_encoded_df = vegi_df.copy()\n",
    "\n",
    "vegi_encoded_df.loc[vegi_encoded_df['Label'] == 'Karotte', 'Label'] = 0\n",
    "vegi_encoded_df.loc[vegi_encoded_df['Label'] == 'Kartoffel', 'Label'] = 1\n",
    "vegi_encoded_df.loc[vegi_encoded_df['Label'] == 'Zwiebel', 'Label'] = 2\n",
    "vegi_encoded_df.loc[vegi_encoded_df['Label'] == 'Karotte_Trieb', 'Label'] = 3\n",
    "vegi_encoded_df.loc[vegi_encoded_df['Label'] == 'Kartoffel_Trieb', 'Label'] = 4\n",
    "vegi_encoded_df.loc[vegi_encoded_df['Label'] == 'Zwiebel_Trieb', 'Label'] = 5\n",
    "\n",
    "vegi_encoded_df['Label'] = vegi_encoded_df['Label'].astype('int')\n",
    "vegi_encoded_df['Label'].value_counts()"
   ]
  },
  {
   "cell_type": "code",
   "execution_count": 135,
   "metadata": {},
   "outputs": [],
   "source": [
    "X = vegi_encoded_df.iloc[:, 0:8]\n",
    "y = vegi_encoded_df.iloc[:, 8:10]\n",
    "\n",
    "X_train, X_test, y_train, y_test = train_test_split(X, y, test_size=0.25, random_state=42)\n",
    "\n",
    "# Image names are only for assignment from datapoint to corresponding image\n",
    "image_names = y_train.iloc[:,1]  \n",
    "image_names_test = y_test.iloc[:,1]\n",
    "\n",
    "y_train_clean = y_train.drop(columns=\"Image\")\n",
    "y_test_clean = y_test.drop(columns=\"Image\")\n"
   ]
  },
  {
   "cell_type": "code",
   "execution_count": 136,
   "metadata": {},
   "outputs": [
    {
     "name": "stdout",
     "output_type": "stream",
     "text": [
      "      Hight  Width    R    G   B  green pixels  ratio area  circularity\n",
      "1367    114     80  124   96  64             0    0.778564     0.802140\n",
      "733     109    109  120   66  56             0    0.698805     0.679840\n",
      "852     285    116  101   89  48          6817    0.480913     0.308431\n",
      "1037    245    127  130  118  83          1366    0.533489     0.208252\n",
      "1405    103     71  106   75  37             0    0.611924     0.449701\n",
      "      Hight  Width    R    G   B  green pixels  ratio area  circularity\n",
      "1192    171    130   65   68  63           840    0.573144     0.317039\n",
      "184     255    102  113   87  65            76    0.620473     0.238582\n",
      "1220    267    216   97   68  41            30    0.000321     0.042433\n",
      "67       96     65   63   53  41             0    0.811619     0.822255\n",
      "220     238    149  115  106  94             0    0.000169     0.123223\n",
      "      Label\n",
      "1367      4\n",
      "733       2\n",
      "852       3\n",
      "1037      3\n",
      "1405      4\n",
      "      Label\n",
      "1192      5\n",
      "184       1\n",
      "1220      5\n",
      "67        1\n",
      "220       1\n",
      "1367     Kartoffel_Trieb_30\n",
      "733              Zwiebel_50\n",
      "852        Karotte_Trieb_93\n",
      "1037       Karotte_Trieb_27\n",
      "1405    Kartoffel_Trieb_175\n",
      "Name: Image, dtype: object\n"
     ]
    }
   ],
   "source": [
    "print(X_train.head())\n",
    "print(X_test.head())\n",
    "print(y_train_clean.head())\n",
    "print(y_test_clean.head())\n",
    "print(image_names.head())"
   ]
  },
  {
   "cell_type": "code",
   "execution_count": 137,
   "metadata": {},
   "outputs": [],
   "source": [
    "# Scaler\n",
    "X_train_copy = X_train.copy()\n",
    "\n",
    "col_names = ['Hight', 'Width', 'R', 'G', 'B', 'green onion pixels', 'ratio area', 'circularity']\n",
    "features = X_train_copy[col_names]\n",
    "\n",
    "ct = ColumnTransformer([\n",
    "        ('standard1', StandardScaler(), ['Hight', 'Width', 'R', 'G', 'B', 'green onion pixels'])\n",
    "    ], remainder='passthrough')\n",
    "\n",
    "X_train_scaled = ct.fit_transform(features)\n",
    "\n",
    "# Scale Testdata\n",
    "col_names = ['Hight', 'Width', 'R', 'G', 'B', 'green onion pixels', 'ratio area', 'circularity']\n",
    "features_test = X_test[col_names]\n",
    "X_test_scaled = ct.transform(features_test)"
   ]
  },
  {
   "cell_type": "code",
   "execution_count": 138,
   "metadata": {},
   "outputs": [
    {
     "name": "stderr",
     "output_type": "stream",
     "text": [
      "c:\\Users\\Leon\\AppData\\Local\\Programs\\Python\\Python310\\lib\\site-packages\\sklearn\\utils\\validation.py:1143: DataConversionWarning: A column-vector y was passed when a 1d array was expected. Please change the shape of y to (n_samples, ), for example using ravel().\n",
      "  y = column_or_1d(y, warn=True)\n",
      "c:\\Users\\Leon\\AppData\\Local\\Programs\\Python\\Python310\\lib\\site-packages\\sklearn\\linear_model\\_logistic.py:458: ConvergenceWarning: lbfgs failed to converge (status=1):\n",
      "STOP: TOTAL NO. of ITERATIONS REACHED LIMIT.\n",
      "\n",
      "Increase the number of iterations (max_iter) or scale the data as shown in:\n",
      "    https://scikit-learn.org/stable/modules/preprocessing.html\n",
      "Please also refer to the documentation for alternative solver options:\n",
      "    https://scikit-learn.org/stable/modules/linear_model.html#logistic-regression\n",
      "  n_iter_i = _check_optimize_result(\n"
     ]
    },
    {
     "data": {
      "text/html": [
       "<style>#sk-container-id-8 {color: black;background-color: white;}#sk-container-id-8 pre{padding: 0;}#sk-container-id-8 div.sk-toggleable {background-color: white;}#sk-container-id-8 label.sk-toggleable__label {cursor: pointer;display: block;width: 100%;margin-bottom: 0;padding: 0.3em;box-sizing: border-box;text-align: center;}#sk-container-id-8 label.sk-toggleable__label-arrow:before {content: \"▸\";float: left;margin-right: 0.25em;color: #696969;}#sk-container-id-8 label.sk-toggleable__label-arrow:hover:before {color: black;}#sk-container-id-8 div.sk-estimator:hover label.sk-toggleable__label-arrow:before {color: black;}#sk-container-id-8 div.sk-toggleable__content {max-height: 0;max-width: 0;overflow: hidden;text-align: left;background-color: #f0f8ff;}#sk-container-id-8 div.sk-toggleable__content pre {margin: 0.2em;color: black;border-radius: 0.25em;background-color: #f0f8ff;}#sk-container-id-8 input.sk-toggleable__control:checked~div.sk-toggleable__content {max-height: 200px;max-width: 100%;overflow: auto;}#sk-container-id-8 input.sk-toggleable__control:checked~label.sk-toggleable__label-arrow:before {content: \"▾\";}#sk-container-id-8 div.sk-estimator input.sk-toggleable__control:checked~label.sk-toggleable__label {background-color: #d4ebff;}#sk-container-id-8 div.sk-label input.sk-toggleable__control:checked~label.sk-toggleable__label {background-color: #d4ebff;}#sk-container-id-8 input.sk-hidden--visually {border: 0;clip: rect(1px 1px 1px 1px);clip: rect(1px, 1px, 1px, 1px);height: 1px;margin: -1px;overflow: hidden;padding: 0;position: absolute;width: 1px;}#sk-container-id-8 div.sk-estimator {font-family: monospace;background-color: #f0f8ff;border: 1px dotted black;border-radius: 0.25em;box-sizing: border-box;margin-bottom: 0.5em;}#sk-container-id-8 div.sk-estimator:hover {background-color: #d4ebff;}#sk-container-id-8 div.sk-parallel-item::after {content: \"\";width: 100%;border-bottom: 1px solid gray;flex-grow: 1;}#sk-container-id-8 div.sk-label:hover label.sk-toggleable__label {background-color: #d4ebff;}#sk-container-id-8 div.sk-serial::before {content: \"\";position: absolute;border-left: 1px solid gray;box-sizing: border-box;top: 0;bottom: 0;left: 50%;z-index: 0;}#sk-container-id-8 div.sk-serial {display: flex;flex-direction: column;align-items: center;background-color: white;padding-right: 0.2em;padding-left: 0.2em;position: relative;}#sk-container-id-8 div.sk-item {position: relative;z-index: 1;}#sk-container-id-8 div.sk-parallel {display: flex;align-items: stretch;justify-content: center;background-color: white;position: relative;}#sk-container-id-8 div.sk-item::before, #sk-container-id-8 div.sk-parallel-item::before {content: \"\";position: absolute;border-left: 1px solid gray;box-sizing: border-box;top: 0;bottom: 0;left: 50%;z-index: -1;}#sk-container-id-8 div.sk-parallel-item {display: flex;flex-direction: column;z-index: 1;position: relative;background-color: white;}#sk-container-id-8 div.sk-parallel-item:first-child::after {align-self: flex-end;width: 50%;}#sk-container-id-8 div.sk-parallel-item:last-child::after {align-self: flex-start;width: 50%;}#sk-container-id-8 div.sk-parallel-item:only-child::after {width: 0;}#sk-container-id-8 div.sk-dashed-wrapped {border: 1px dashed gray;margin: 0 0.4em 0.5em 0.4em;box-sizing: border-box;padding-bottom: 0.4em;background-color: white;}#sk-container-id-8 div.sk-label label {font-family: monospace;font-weight: bold;display: inline-block;line-height: 1.2em;}#sk-container-id-8 div.sk-label-container {text-align: center;}#sk-container-id-8 div.sk-container {/* jupyter's `normalize.less` sets `[hidden] { display: none; }` but bootstrap.min.css set `[hidden] { display: none !important; }` so we also need the `!important` here to be able to override the default hidden behavior on the sphinx rendered scikit-learn.org. See: https://github.com/scikit-learn/scikit-learn/issues/21755 */display: inline-block !important;position: relative;}#sk-container-id-8 div.sk-text-repr-fallback {display: none;}</style><div id=\"sk-container-id-8\" class=\"sk-top-container\"><div class=\"sk-text-repr-fallback\"><pre>LogisticRegression(multi_class=&#x27;multinomial&#x27;, penalty=None)</pre><b>In a Jupyter environment, please rerun this cell to show the HTML representation or trust the notebook. <br />On GitHub, the HTML representation is unable to render, please try loading this page with nbviewer.org.</b></div><div class=\"sk-container\" hidden><div class=\"sk-item\"><div class=\"sk-estimator sk-toggleable\"><input class=\"sk-toggleable__control sk-hidden--visually\" id=\"sk-estimator-id-8\" type=\"checkbox\" checked><label for=\"sk-estimator-id-8\" class=\"sk-toggleable__label sk-toggleable__label-arrow\">LogisticRegression</label><div class=\"sk-toggleable__content\"><pre>LogisticRegression(multi_class=&#x27;multinomial&#x27;, penalty=None)</pre></div></div></div></div></div>"
      ],
      "text/plain": [
       "LogisticRegression(multi_class='multinomial', penalty=None)"
      ]
     },
     "execution_count": 138,
     "metadata": {},
     "output_type": "execute_result"
    }
   ],
   "source": [
    "y_train_clean_2 = y_train_clean.to_numpy()\n",
    "\n",
    "clf = LogisticRegression(penalty=None, solver='lbfgs', multi_class='multinomial')\n",
    "clf.fit(X_train_scaled, y_train_clean_2)"
   ]
  },
  {
   "cell_type": "code",
   "execution_count": 139,
   "metadata": {},
   "outputs": [
    {
     "name": "stdout",
     "output_type": "stream",
     "text": [
      "[0 1 2 3 4 5]\n",
      "[[  1.07052809  -1.33535009   1.83175783  -2.24374485   0.6192158\n",
      "   10.14079124   1.86881367  -3.41334287]\n",
      " [ -0.8120655    0.53051373  -5.81651244   7.23492837  -2.01214187\n",
      "  -19.10588466  -0.55847055   4.8210093 ]\n",
      " [ -0.83583469   0.82175627   4.3201595   -6.54677205   3.08387474\n",
      "  -12.7905032   -1.2151835    2.01188851]\n",
      " [  1.30116458  -0.33747391  -0.10563823   0.5301096   -0.37315427\n",
      "   16.33658734  -0.73756504  -2.9248036 ]\n",
      " [ -1.30478008   0.88344228  -1.42211988   3.6016094   -2.15121757\n",
      "  -10.66594934  -0.77717354   3.57052922]\n",
      " [  0.58098759  -0.56288829   1.19235322  -2.57613047   0.83342316\n",
      "   16.08495862   1.41957897  -4.06528055]]\n"
     ]
    }
   ],
   "source": [
    "print(clf.classes_)\n",
    "print(clf.coef_[:10])"
   ]
  },
  {
   "cell_type": "code",
   "execution_count": 140,
   "metadata": {},
   "outputs": [
    {
     "name": "stdout",
     "output_type": "stream",
     "text": [
      "Predicted: [0]. Groundtruth: [0]\n"
     ]
    }
   ],
   "source": [
    "pred_vegi = clf.predict(X_train_scaled[200].reshape(1, -1))\n",
    "print(f\"Predicted: {pred_vegi}. Groundtruth: {y_train_clean_2[200]}\")"
   ]
  },
  {
   "cell_type": "code",
   "execution_count": 141,
   "metadata": {},
   "outputs": [],
   "source": [
    "y_train_pred = clf.predict(X_train_scaled)\n",
    "y_test_pred = clf.predict(X_test_scaled)"
   ]
  },
  {
   "cell_type": "code",
   "execution_count": 142,
   "metadata": {},
   "outputs": [
    {
     "name": "stdout",
     "output_type": "stream",
     "text": [
      "Accuracy Test: 0.7220708446866485\n",
      "Accuracy Train: 0.6963636363636364\n",
      "Number Correct Predicions Test: 265\n",
      "Number Correct Predicions Train: 766\n"
     ]
    }
   ],
   "source": [
    "accuracy_testdata = accuracy_score(y_test_clean, y_test_pred)\n",
    "accuracy_traindata = accuracy_score(y_train_clean_2, y_train_pred)\n",
    "print(f\"Accuracy Test: {accuracy_testdata}\\nAccuracy Train: {accuracy_traindata}\")\n",
    "\n",
    "number_correct_testdata = accuracy_score(y_test_clean, y_test_pred, normalize=False)\n",
    "number_correct_traindata = accuracy_score(y_train_clean_2, y_train_pred, normalize=False)\n",
    "print(f\"Number Correct Predicions Test: {number_correct_testdata}\\nNumber Correct Predicions Train: {number_correct_traindata}\")"
   ]
  },
  {
   "cell_type": "code",
   "execution_count": 129,
   "metadata": {},
   "outputs": [
    {
     "name": "stdout",
     "output_type": "stream",
     "text": [
      "Vegis\n",
      "[[57  4  9  4  1  2]\n",
      " [ 4 48  4  0 10  0]\n",
      " [ 2  3 54  0  3  0]\n",
      " [ 6  0  0 51  0  7]\n",
      " [ 1 11  1  0 38  0]\n",
      " [ 7  3  6  8  0 23]]\n"
     ]
    },
    {
     "data": {
      "image/png": "[encoded data removed]",
      "text/plain": [
       "<Figure size 640x480 with 2 Axes>"
      ]
     },
     "metadata": {},
     "output_type": "display_data"
    }
   ],
   "source": [
    "disp = ConfusionMatrixDisplay.from_estimator(\n",
    "    clf,\n",
    "    X_test_scaled,\n",
    "    y_test_clean,\n",
    "    display_labels=['Karotte', 'Kartoffel', 'Zwiebel', 'Karotte_Trieb', 'Kartoffel_Trieb', 'Zwiebel_Trieb'],\n",
    "    cmap='viridis',\n",
    "    normalize=None,\n",
    ")\n",
    "disp.ax_.set_title(\"Vegis TEST DATA\")\n",
    "\n",
    "print(\"Vegis\")\n",
    "print(disp.confusion_matrix)"
   ]
  },
  {
   "cell_type": "code",
   "execution_count": null,
   "metadata": {},
   "outputs": [],
   "source": [
    "[[147  14  30   3   6  17]\n",
    " [ 12 152  12   0  34   0]\n",
    " [ 21  13 164   0   5   2]\n",
    " [ 13   0   0 169   0  14]\n",
    " [  4  37   3   0  95   0]\n",
    " [ 27   3  10  32   2  59]]"
   ]
  },
  {
   "cell_type": "code",
   "execution_count": 130,
   "metadata": {},
   "outputs": [
    {
     "name": "stdout",
     "output_type": "stream",
     "text": [
      "Vegis TRAIN\n",
      "[[143  13  31   3   7  20]\n",
      " [ 15 151   9   0  35   0]\n",
      " [ 20  12 165   0   6   2]\n",
      " [ 12   0   0 169   0  15]\n",
      " [  5  37   1   0  96   0]\n",
      " [ 28   4  10  31   2  58]]\n"
     ]
    },
    {
     "data": {
      "image/png": "[encoded data removed]",
      "text/plain": [
       "<Figure size 640x480 with 2 Axes>"
      ]
     },
     "metadata": {},
     "output_type": "display_data"
    }
   ],
   "source": [
    "disp = ConfusionMatrixDisplay.from_estimator(\n",
    "    clf,\n",
    "    X_train_scaled,\n",
    "    y_train_clean,\n",
    "    display_labels=['Karotte', 'Kartoffel', 'Zwiebel', 'Karotte_Trieb', 'Kartoffel_Trieb', 'Zwiebel_Trieb'],\n",
    "    cmap='viridis',\n",
    "    normalize=None,\n",
    ")\n",
    "disp.ax_.set_title(\"Vegis TRAIN  DATA\")\n",
    "\n",
    "print(\"Vegis TRAIN\")\n",
    "print(disp.confusion_matrix)"
   ]
  }
 ],
 "metadata": {
  "kernelspec": {
   "display_name": "Python 3",
   "language": "python",
   "name": "python3"
  },
  "language_info": {
   "codemirror_mode": {
    "name": "ipython",
    "version": 3
   },
   "file_extension": ".py",
   "mimetype": "text/x-python",
   "name": "python",
   "nbconvert_exporter": "python",
   "pygments_lexer": "ipython3",
   "version": "3.10.6"
  }
 },
 "nbformat": 4,
 "nbformat_minor": 2
}
