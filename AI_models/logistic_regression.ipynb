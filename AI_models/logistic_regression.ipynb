{
 "cells": [
  {
   "cell_type": "code",
   "execution_count": 73,
   "metadata": {},
   "outputs": [],
   "source": [
    "import pandas as pd\n",
    "import numpy as np\n",
    "from sklearn.model_selection import train_test_split\n",
    "from sklearn.linear_model import LogisticRegression\n",
    "from sklearn.metrics import ConfusionMatrixDisplay\n",
    "from sklearn.metrics import accuracy_score"
   ]
  },
  {
   "cell_type": "code",
   "execution_count": 23,
   "metadata": {},
   "outputs": [
    {
     "data": {
      "text/html": [
       "<div>\n",
       "<style scoped>\n",
       "    .dataframe tbody tr th:only-of-type {\n",
       "        vertical-align: middle;\n",
       "    }\n",
       "\n",
       "    .dataframe tbody tr th {\n",
       "        vertical-align: top;\n",
       "    }\n",
       "\n",
       "    .dataframe thead th {\n",
       "        text-align: right;\n",
       "    }\n",
       "</style>\n",
       "<table border=\"1\" class=\"dataframe\">\n",
       "  <thead>\n",
       "    <tr style=\"text-align: right;\">\n",
       "      <th></th>\n",
       "      <th>Hight</th>\n",
       "      <th>Width</th>\n",
       "      <th>R</th>\n",
       "      <th>G</th>\n",
       "      <th>B</th>\n",
       "      <th>green pixels</th>\n",
       "      <th>Label</th>\n",
       "    </tr>\n",
       "  </thead>\n",
       "  <tbody>\n",
       "    <tr>\n",
       "      <th>0</th>\n",
       "      <td>193</td>\n",
       "      <td>78</td>\n",
       "      <td>141</td>\n",
       "      <td>117</td>\n",
       "      <td>91</td>\n",
       "      <td>0</td>\n",
       "      <td>Kartoffel</td>\n",
       "    </tr>\n",
       "    <tr>\n",
       "      <th>1</th>\n",
       "      <td>139</td>\n",
       "      <td>55</td>\n",
       "      <td>143</td>\n",
       "      <td>111</td>\n",
       "      <td>70</td>\n",
       "      <td>0</td>\n",
       "      <td>Kartoffel</td>\n",
       "    </tr>\n",
       "    <tr>\n",
       "      <th>2</th>\n",
       "      <td>159</td>\n",
       "      <td>61</td>\n",
       "      <td>143</td>\n",
       "      <td>113</td>\n",
       "      <td>76</td>\n",
       "      <td>0</td>\n",
       "      <td>Kartoffel</td>\n",
       "    </tr>\n",
       "    <tr>\n",
       "      <th>3</th>\n",
       "      <td>144</td>\n",
       "      <td>92</td>\n",
       "      <td>126</td>\n",
       "      <td>97</td>\n",
       "      <td>66</td>\n",
       "      <td>0</td>\n",
       "      <td>Kartoffel</td>\n",
       "    </tr>\n",
       "    <tr>\n",
       "      <th>4</th>\n",
       "      <td>114</td>\n",
       "      <td>91</td>\n",
       "      <td>141</td>\n",
       "      <td>113</td>\n",
       "      <td>78</td>\n",
       "      <td>0</td>\n",
       "      <td>Kartoffel</td>\n",
       "    </tr>\n",
       "    <tr>\n",
       "      <th>5</th>\n",
       "      <td>175</td>\n",
       "      <td>64</td>\n",
       "      <td>135</td>\n",
       "      <td>108</td>\n",
       "      <td>78</td>\n",
       "      <td>0</td>\n",
       "      <td>Kartoffel</td>\n",
       "    </tr>\n",
       "    <tr>\n",
       "      <th>6</th>\n",
       "      <td>162</td>\n",
       "      <td>80</td>\n",
       "      <td>129</td>\n",
       "      <td>99</td>\n",
       "      <td>68</td>\n",
       "      <td>0</td>\n",
       "      <td>Kartoffel</td>\n",
       "    </tr>\n",
       "    <tr>\n",
       "      <th>7</th>\n",
       "      <td>142</td>\n",
       "      <td>66</td>\n",
       "      <td>102</td>\n",
       "      <td>80</td>\n",
       "      <td>62</td>\n",
       "      <td>0</td>\n",
       "      <td>Kartoffel</td>\n",
       "    </tr>\n",
       "    <tr>\n",
       "      <th>8</th>\n",
       "      <td>127</td>\n",
       "      <td>57</td>\n",
       "      <td>134</td>\n",
       "      <td>106</td>\n",
       "      <td>77</td>\n",
       "      <td>0</td>\n",
       "      <td>Kartoffel</td>\n",
       "    </tr>\n",
       "    <tr>\n",
       "      <th>9</th>\n",
       "      <td>152</td>\n",
       "      <td>67</td>\n",
       "      <td>136</td>\n",
       "      <td>111</td>\n",
       "      <td>84</td>\n",
       "      <td>0</td>\n",
       "      <td>Kartoffel</td>\n",
       "    </tr>\n",
       "  </tbody>\n",
       "</table>\n",
       "</div>"
      ],
      "text/plain": [
       "   Hight  Width    R    G   B  green pixels      Label\n",
       "0    193     78  141  117  91             0  Kartoffel\n",
       "1    139     55  143  111  70             0  Kartoffel\n",
       "2    159     61  143  113  76             0  Kartoffel\n",
       "3    144     92  126   97  66             0  Kartoffel\n",
       "4    114     91  141  113  78             0  Kartoffel\n",
       "5    175     64  135  108  78             0  Kartoffel\n",
       "6    162     80  129   99  68             0  Kartoffel\n",
       "7    142     66  102   80  62             0  Kartoffel\n",
       "8    127     57  134  106  77             0  Kartoffel\n",
       "9    152     67  136  111  84             0  Kartoffel"
      ]
     },
     "execution_count": 23,
     "metadata": {},
     "output_type": "execute_result"
    }
   ],
   "source": [
    "vegi_df = pd.read_csv(\"G:/Meine Ablage/KI_Projekt/Daten/pot_car_onio_carTribe.csv\")\n",
    "vegi_df = vegi_df.drop(columns=\"Unnamed: 0\")\n",
    "vegi_df.head(10)"
   ]
  },
  {
   "cell_type": "code",
   "execution_count": 24,
   "metadata": {},
   "outputs": [
    {
     "name": "stdout",
     "output_type": "stream",
     "text": [
      "<class 'pandas.core.frame.DataFrame'>\n",
      "RangeIndex: 873 entries, 0 to 872\n",
      "Data columns (total 7 columns):\n",
      " #   Column        Non-Null Count  Dtype \n",
      "---  ------        --------------  ----- \n",
      " 0   Hight         873 non-null    int64 \n",
      " 1   Width         873 non-null    int64 \n",
      " 2   R             873 non-null    int64 \n",
      " 3   G             873 non-null    int64 \n",
      " 4   B             873 non-null    int64 \n",
      " 5   green pixels  873 non-null    int64 \n",
      " 6   Label         873 non-null    object\n",
      "dtypes: int64(6), object(1)\n",
      "memory usage: 47.9+ KB\n"
     ]
    }
   ],
   "source": [
    "vegi_df.info()"
   ]
  },
  {
   "cell_type": "code",
   "execution_count": 25,
   "metadata": {},
   "outputs": [
    {
     "data": {
      "text/html": [
       "<div>\n",
       "<style scoped>\n",
       "    .dataframe tbody tr th:only-of-type {\n",
       "        vertical-align: middle;\n",
       "    }\n",
       "\n",
       "    .dataframe tbody tr th {\n",
       "        vertical-align: top;\n",
       "    }\n",
       "\n",
       "    .dataframe thead th {\n",
       "        text-align: right;\n",
       "    }\n",
       "</style>\n",
       "<table border=\"1\" class=\"dataframe\">\n",
       "  <thead>\n",
       "    <tr style=\"text-align: right;\">\n",
       "      <th></th>\n",
       "      <th>count</th>\n",
       "      <th>mean</th>\n",
       "      <th>std</th>\n",
       "      <th>min</th>\n",
       "      <th>25%</th>\n",
       "      <th>50%</th>\n",
       "      <th>75%</th>\n",
       "      <th>max</th>\n",
       "    </tr>\n",
       "  </thead>\n",
       "  <tbody>\n",
       "    <tr>\n",
       "      <th>Hight</th>\n",
       "      <td>873.0</td>\n",
       "      <td>184.248568</td>\n",
       "      <td>68.712780</td>\n",
       "      <td>45.0</td>\n",
       "      <td>128.0</td>\n",
       "      <td>183.0</td>\n",
       "      <td>254.0</td>\n",
       "      <td>323.0</td>\n",
       "    </tr>\n",
       "    <tr>\n",
       "      <th>Width</th>\n",
       "      <td>873.0</td>\n",
       "      <td>96.712486</td>\n",
       "      <td>47.322590</td>\n",
       "      <td>25.0</td>\n",
       "      <td>58.0</td>\n",
       "      <td>85.0</td>\n",
       "      <td>123.0</td>\n",
       "      <td>255.0</td>\n",
       "    </tr>\n",
       "    <tr>\n",
       "      <th>R</th>\n",
       "      <td>873.0</td>\n",
       "      <td>121.221077</td>\n",
       "      <td>24.543827</td>\n",
       "      <td>48.0</td>\n",
       "      <td>106.0</td>\n",
       "      <td>124.0</td>\n",
       "      <td>140.0</td>\n",
       "      <td>189.0</td>\n",
       "    </tr>\n",
       "    <tr>\n",
       "      <th>G</th>\n",
       "      <td>873.0</td>\n",
       "      <td>93.816724</td>\n",
       "      <td>21.147382</td>\n",
       "      <td>40.0</td>\n",
       "      <td>79.0</td>\n",
       "      <td>92.0</td>\n",
       "      <td>109.0</td>\n",
       "      <td>155.0</td>\n",
       "    </tr>\n",
       "    <tr>\n",
       "      <th>B</th>\n",
       "      <td>873.0</td>\n",
       "      <td>61.222222</td>\n",
       "      <td>16.711629</td>\n",
       "      <td>12.0</td>\n",
       "      <td>51.0</td>\n",
       "      <td>60.0</td>\n",
       "      <td>71.0</td>\n",
       "      <td>143.0</td>\n",
       "    </tr>\n",
       "    <tr>\n",
       "      <th>green pixels</th>\n",
       "      <td>873.0</td>\n",
       "      <td>731.214204</td>\n",
       "      <td>2082.333186</td>\n",
       "      <td>0.0</td>\n",
       "      <td>0.0</td>\n",
       "      <td>0.0</td>\n",
       "      <td>193.0</td>\n",
       "      <td>14693.0</td>\n",
       "    </tr>\n",
       "  </tbody>\n",
       "</table>\n",
       "</div>"
      ],
      "text/plain": [
       "              count        mean          std   min    25%    50%    75%  \\\n",
       "Hight         873.0  184.248568    68.712780  45.0  128.0  183.0  254.0   \n",
       "Width         873.0   96.712486    47.322590  25.0   58.0   85.0  123.0   \n",
       "R             873.0  121.221077    24.543827  48.0  106.0  124.0  140.0   \n",
       "G             873.0   93.816724    21.147382  40.0   79.0   92.0  109.0   \n",
       "B             873.0   61.222222    16.711629  12.0   51.0   60.0   71.0   \n",
       "green pixels  873.0  731.214204  2082.333186   0.0    0.0    0.0  193.0   \n",
       "\n",
       "                  max  \n",
       "Hight           323.0  \n",
       "Width           255.0  \n",
       "R               189.0  \n",
       "G               155.0  \n",
       "B               143.0  \n",
       "green pixels  14693.0  "
      ]
     },
     "execution_count": 25,
     "metadata": {},
     "output_type": "execute_result"
    }
   ],
   "source": [
    "vegi_df.describe().T"
   ]
  },
  {
   "cell_type": "code",
   "execution_count": 43,
   "metadata": {},
   "outputs": [
    {
     "data": {
      "text/plain": [
       "Label\n",
       "2    219\n",
       "3    219\n",
       "0    218\n",
       "1    217\n",
       "Name: count, dtype: int64"
      ]
     },
     "execution_count": 43,
     "metadata": {},
     "output_type": "execute_result"
    }
   ],
   "source": [
    "vegi_encoded_df = vegi_df.copy()\n",
    "\n",
    "vegi_encoded_df.loc[vegi_encoded_df['Label'] == 'Karotte', 'Label'] = 0\n",
    "vegi_encoded_df.loc[vegi_encoded_df['Label'] == 'Kartoffel', 'Label'] = 1\n",
    "vegi_encoded_df.loc[vegi_encoded_df['Label'] == 'Zwiebel', 'Label'] = 2\n",
    "vegi_encoded_df.loc[vegi_encoded_df['Label'] == 'Karotte_Trieb', 'Label'] = 3\n",
    "\n",
    "vegi_encoded_df['Label'] = vegi_encoded_df['Label'].astype('int')\n",
    "vegi_encoded_df['Label'].value_counts()"
   ]
  },
  {
   "cell_type": "code",
   "execution_count": 45,
   "metadata": {},
   "outputs": [
    {
     "data": {
      "text/plain": [
       "Hight           int64\n",
       "Width           int64\n",
       "R               int64\n",
       "G               int64\n",
       "B               int64\n",
       "green pixels    int64\n",
       "Label           int32\n",
       "dtype: object"
      ]
     },
     "execution_count": 45,
     "metadata": {},
     "output_type": "execute_result"
    }
   ],
   "source": [
    "vegi_encoded_df.dtypes"
   ]
  },
  {
   "cell_type": "code",
   "execution_count": 46,
   "metadata": {},
   "outputs": [
    {
     "name": "stdout",
     "output_type": "stream",
     "text": [
      "<class 'pandas.core.series.Series'>\n",
      "RangeIndex: 873 entries, 0 to 872\n",
      "Series name: Label\n",
      "Non-Null Count  Dtype\n",
      "--------------  -----\n",
      "873 non-null    int32\n",
      "dtypes: int32(1)\n",
      "memory usage: 3.5 KB\n"
     ]
    }
   ],
   "source": [
    "vegi_encoded_df['Label'].info()"
   ]
  },
  {
   "cell_type": "code",
   "execution_count": 47,
   "metadata": {},
   "outputs": [
    {
     "name": "stdout",
     "output_type": "stream",
     "text": [
      "     Hight  Width    R    G   B  green pixels\n",
      "0      193     78  141  117  91             0\n",
      "1      139     55  143  111  70             0\n",
      "2      159     61  143  113  76             0\n",
      "3      144     92  126   97  66             0\n",
      "4      114     91  141  113  78             0\n",
      "..     ...    ...  ...  ...  ..           ...\n",
      "868    254    240  100   95  57         10638\n",
      "869    312    184   86   83  43          6540\n",
      "870    255    144  129  108  78          1126\n",
      "871    283    185  106   95  55          5837\n",
      "872    255    255   98   93  53          9929\n",
      "\n",
      "[873 rows x 6 columns]\n",
      "0      1\n",
      "1      1\n",
      "2      1\n",
      "3      1\n",
      "4      1\n",
      "      ..\n",
      "868    3\n",
      "869    3\n",
      "870    3\n",
      "871    3\n",
      "872    3\n",
      "Name: Label, Length: 873, dtype: int32\n"
     ]
    }
   ],
   "source": [
    "X = vegi_encoded_df.iloc[:,0:6]\n",
    "print(X)\n",
    "y = vegi_encoded_df.iloc[:,6]\n",
    "print(y)"
   ]
  },
  {
   "cell_type": "code",
   "execution_count": 48,
   "metadata": {},
   "outputs": [],
   "source": [
    "X_train, X_test, y_train, y_test = train_test_split(X, y, test_size=0.2, random_state=42)"
   ]
  },
  {
   "cell_type": "code",
   "execution_count": 49,
   "metadata": {},
   "outputs": [
    {
     "name": "stdout",
     "output_type": "stream",
     "text": [
      "     Hight  Width    R    G    B  green pixels\n",
      "544    146    122  129   94   72             0\n",
      "398    201     85  130  117   80           117\n",
      "765    177    152  155  141  103           376\n",
      "312    222     66  152  120   76             0\n",
      "326    203    108   70   56   48             0\n",
      "544    2\n",
      "398    0\n",
      "765    3\n",
      "312    0\n",
      "326    0\n",
      "Name: Label, dtype: int32\n"
     ]
    }
   ],
   "source": [
    "print(X_train.head())\n",
    "print(y_train.head())\n"
   ]
  },
  {
   "cell_type": "code",
   "execution_count": 33,
   "metadata": {},
   "outputs": [],
   "source": [
    "from sklearn.preprocessing import StandardScaler"
   ]
  },
  {
   "cell_type": "code",
   "execution_count": 50,
   "metadata": {},
   "outputs": [],
   "source": [
    "scaler = StandardScaler()\n",
    "X_train_scaled = scaler.fit_transform(X_train)\n",
    "X_test_scaled = scaler.transform(X_test)"
   ]
  },
  {
   "cell_type": "code",
   "execution_count": 51,
   "metadata": {},
   "outputs": [
    {
     "data": {
      "text/plain": [
       "array([[-0.56121482,  0.57827887,  0.29794154, -0.01579839,  0.5843258 ,\n",
       "        -0.34845653],\n",
       "       [ 0.23645408, -0.22534952,  0.33875064,  1.07742273,  1.06128462,\n",
       "        -0.29057582],\n",
       "       [-0.11161962,  1.22986945,  1.35897824,  2.2181752 ,  2.43254121,\n",
       "        -0.16244673],\n",
       "       ...,\n",
       "       [ 1.06312911,  0.6868773 , -0.72228606, -0.87136274, -1.20426976,\n",
       "         0.06561316],\n",
       "       [-0.66273631,  0.14388514,  0.78765078, -0.2059238 , -0.42921169,\n",
       "        -0.34845653],\n",
       "       [-0.15512883,  0.33936232, -0.02853129,  0.12679567,  0.7035655 ,\n",
       "        -0.34845653]])"
      ]
     },
     "execution_count": 51,
     "metadata": {},
     "output_type": "execute_result"
    }
   ],
   "source": [
    "X_train_scaled"
   ]
  },
  {
   "cell_type": "code",
   "execution_count": 52,
   "metadata": {},
   "outputs": [
    {
     "data": {
      "text/html": [
       "<style>#sk-container-id-1 {color: black;background-color: white;}#sk-container-id-1 pre{padding: 0;}#sk-container-id-1 div.sk-toggleable {background-color: white;}#sk-container-id-1 label.sk-toggleable__label {cursor: pointer;display: block;width: 100%;margin-bottom: 0;padding: 0.3em;box-sizing: border-box;text-align: center;}#sk-container-id-1 label.sk-toggleable__label-arrow:before {content: \"▸\";float: left;margin-right: 0.25em;color: #696969;}#sk-container-id-1 label.sk-toggleable__label-arrow:hover:before {color: black;}#sk-container-id-1 div.sk-estimator:hover label.sk-toggleable__label-arrow:before {color: black;}#sk-container-id-1 div.sk-toggleable__content {max-height: 0;max-width: 0;overflow: hidden;text-align: left;background-color: #f0f8ff;}#sk-container-id-1 div.sk-toggleable__content pre {margin: 0.2em;color: black;border-radius: 0.25em;background-color: #f0f8ff;}#sk-container-id-1 input.sk-toggleable__control:checked~div.sk-toggleable__content {max-height: 200px;max-width: 100%;overflow: auto;}#sk-container-id-1 input.sk-toggleable__control:checked~label.sk-toggleable__label-arrow:before {content: \"▾\";}#sk-container-id-1 div.sk-estimator input.sk-toggleable__control:checked~label.sk-toggleable__label {background-color: #d4ebff;}#sk-container-id-1 div.sk-label input.sk-toggleable__control:checked~label.sk-toggleable__label {background-color: #d4ebff;}#sk-container-id-1 input.sk-hidden--visually {border: 0;clip: rect(1px 1px 1px 1px);clip: rect(1px, 1px, 1px, 1px);height: 1px;margin: -1px;overflow: hidden;padding: 0;position: absolute;width: 1px;}#sk-container-id-1 div.sk-estimator {font-family: monospace;background-color: #f0f8ff;border: 1px dotted black;border-radius: 0.25em;box-sizing: border-box;margin-bottom: 0.5em;}#sk-container-id-1 div.sk-estimator:hover {background-color: #d4ebff;}#sk-container-id-1 div.sk-parallel-item::after {content: \"\";width: 100%;border-bottom: 1px solid gray;flex-grow: 1;}#sk-container-id-1 div.sk-label:hover label.sk-toggleable__label {background-color: #d4ebff;}#sk-container-id-1 div.sk-serial::before {content: \"\";position: absolute;border-left: 1px solid gray;box-sizing: border-box;top: 0;bottom: 0;left: 50%;z-index: 0;}#sk-container-id-1 div.sk-serial {display: flex;flex-direction: column;align-items: center;background-color: white;padding-right: 0.2em;padding-left: 0.2em;position: relative;}#sk-container-id-1 div.sk-item {position: relative;z-index: 1;}#sk-container-id-1 div.sk-parallel {display: flex;align-items: stretch;justify-content: center;background-color: white;position: relative;}#sk-container-id-1 div.sk-item::before, #sk-container-id-1 div.sk-parallel-item::before {content: \"\";position: absolute;border-left: 1px solid gray;box-sizing: border-box;top: 0;bottom: 0;left: 50%;z-index: -1;}#sk-container-id-1 div.sk-parallel-item {display: flex;flex-direction: column;z-index: 1;position: relative;background-color: white;}#sk-container-id-1 div.sk-parallel-item:first-child::after {align-self: flex-end;width: 50%;}#sk-container-id-1 div.sk-parallel-item:last-child::after {align-self: flex-start;width: 50%;}#sk-container-id-1 div.sk-parallel-item:only-child::after {width: 0;}#sk-container-id-1 div.sk-dashed-wrapped {border: 1px dashed gray;margin: 0 0.4em 0.5em 0.4em;box-sizing: border-box;padding-bottom: 0.4em;background-color: white;}#sk-container-id-1 div.sk-label label {font-family: monospace;font-weight: bold;display: inline-block;line-height: 1.2em;}#sk-container-id-1 div.sk-label-container {text-align: center;}#sk-container-id-1 div.sk-container {/* jupyter's `normalize.less` sets `[hidden] { display: none; }` but bootstrap.min.css set `[hidden] { display: none !important; }` so we also need the `!important` here to be able to override the default hidden behavior on the sphinx rendered scikit-learn.org. See: https://github.com/scikit-learn/scikit-learn/issues/21755 */display: inline-block !important;position: relative;}#sk-container-id-1 div.sk-text-repr-fallback {display: none;}</style><div id=\"sk-container-id-1\" class=\"sk-top-container\"><div class=\"sk-text-repr-fallback\"><pre>LogisticRegression(multi_class=&#x27;multinomial&#x27;)</pre><b>In a Jupyter environment, please rerun this cell to show the HTML representation or trust the notebook. <br />On GitHub, the HTML representation is unable to render, please try loading this page with nbviewer.org.</b></div><div class=\"sk-container\" hidden><div class=\"sk-item\"><div class=\"sk-estimator sk-toggleable\"><input class=\"sk-toggleable__control sk-hidden--visually\" id=\"sk-estimator-id-1\" type=\"checkbox\" checked><label for=\"sk-estimator-id-1\" class=\"sk-toggleable__label sk-toggleable__label-arrow\">LogisticRegression</label><div class=\"sk-toggleable__content\"><pre>LogisticRegression(multi_class=&#x27;multinomial&#x27;)</pre></div></div></div></div></div>"
      ],
      "text/plain": [
       "LogisticRegression(multi_class='multinomial')"
      ]
     },
     "execution_count": 52,
     "metadata": {},
     "output_type": "execute_result"
    }
   ],
   "source": [
    "clf = LogisticRegression(multi_class='multinomial')\n",
    "clf.fit(X_train_scaled, y_train)"
   ]
  },
  {
   "cell_type": "code",
   "execution_count": 53,
   "metadata": {},
   "outputs": [
    {
     "name": "stdout",
     "output_type": "stream",
     "text": [
      "[0 1 2 3]\n",
      "[[ 1.24405632e+00 -1.72854625e+00  7.26221130e-02 -1.25617856e-03\n",
      "  -4.00396754e-01 -1.07593798e+00]\n",
      " [-1.59178921e+00  5.20448376e-01 -1.18622064e+00  2.32409303e+00\n",
      "  -7.76557235e-01 -1.55676719e+00]\n",
      " [-1.67310336e+00  1.28051708e+00  1.62842235e+00 -3.21545591e+00\n",
      "   1.25139555e+00 -1.38134399e+00]\n",
      " [ 2.02083625e+00 -7.24192106e-02 -5.14823824e-01  8.92619055e-01\n",
      "  -7.44415601e-02  4.01404915e+00]]\n"
     ]
    }
   ],
   "source": [
    "print(clf.classes_)\n",
    "print(clf.coef_[:10])"
   ]
  },
  {
   "cell_type": "code",
   "execution_count": 54,
   "metadata": {},
   "outputs": [
    {
     "data": {
      "text/plain": [
       "array([-0.56121482,  0.57827887,  0.29794154, -0.01579839,  0.5843258 ,\n",
       "       -0.34845653])"
      ]
     },
     "execution_count": 54,
     "metadata": {},
     "output_type": "execute_result"
    }
   ],
   "source": [
    "X_train_scaled[0]"
   ]
  },
  {
   "cell_type": "code",
   "execution_count": 56,
   "metadata": {},
   "outputs": [
    {
     "name": "stdout",
     "output_type": "stream",
     "text": [
      "Predicted: [2]. Groundtruth: 1\n"
     ]
    }
   ],
   "source": [
    "pred_vegi = clf.predict(X_train_scaled[0].reshape(1, -1))\n",
    "print(f\"Predicted: {pred_vegi}. Groundtruth: {y_train[0]}\")"
   ]
  },
  {
   "cell_type": "code",
   "execution_count": 58,
   "metadata": {},
   "outputs": [
    {
     "name": "stdout",
     "output_type": "stream",
     "text": [
      "Predicted: [[0.0109218  0.1118529  0.87158338 0.00564192]]. Groundtruth: 1\n"
     ]
    }
   ],
   "source": [
    "pred_vegi = clf.predict_proba(X_train_scaled[0].reshape(1, -1))\n",
    "print(f\"Predicted: {pred_vegi}. Groundtruth: {y_train[0]}\")"
   ]
  },
  {
   "cell_type": "code",
   "execution_count": 59,
   "metadata": {},
   "outputs": [],
   "source": [
    "y_train_pred = clf.predict(X_train_scaled)\n",
    "y_test_pred = clf.predict(X_test_scaled)"
   ]
  },
  {
   "cell_type": "code",
   "execution_count": 70,
   "metadata": {},
   "outputs": [
    {
     "name": "stdout",
     "output_type": "stream",
     "text": [
      "[2 1 1 0 2 2 3 0 3 0]\n",
      "[2, 0, 3, 0, 0, 2, 3, 0, 3, 0]\n",
      "Prediction Testset:  [0 1 2 2 1 0 1 0 2 1]\n",
      "Groundtruth:  [0, 0, 2, 0, 1, 0, 1, 0, 2, 1]\n"
     ]
    }
   ],
   "source": [
    "print(y_train_pred[:10])\n",
    "print(y_train[:10].to_list())\n",
    "\n",
    "print(\"Prediction Testset: \", y_test_pred[10:20])\n",
    "print(\"Groundtruth: \", y_test[10:20].to_list())"
   ]
  },
  {
   "cell_type": "code",
   "execution_count": 68,
   "metadata": {},
   "outputs": [
    {
     "ename": "AttributeError",
     "evalue": "'Series' object has no attribute 'target_names'",
     "output_type": "error",
     "traceback": [
      "\u001b[1;31m---------------------------------------------------------------------------\u001b[0m",
      "\u001b[1;31mAttributeError\u001b[0m                            Traceback (most recent call last)",
      "\u001b[1;32m~\\AppData\\Local\\Temp\\ipykernel_12292\\1597306071.py\u001b[0m in \u001b[0;36m?\u001b[1;34m()\u001b[0m\n\u001b[1;32m----> 1\u001b[1;33m \u001b[0mvegi_df\u001b[0m\u001b[1;33m[\u001b[0m\u001b[1;34m'Label'\u001b[0m\u001b[1;33m]\u001b[0m\u001b[1;33m.\u001b[0m\u001b[0mtarget_names\u001b[0m\u001b[1;33m\u001b[0m\u001b[1;33m\u001b[0m\u001b[0m\n\u001b[0m",
      "\u001b[1;32mc:\\Users\\Leon\\AppData\\Local\\Programs\\Python\\Python310\\lib\\site-packages\\pandas\\core\\generic.py\u001b[0m in \u001b[0;36m?\u001b[1;34m(self, name)\u001b[0m\n\u001b[0;32m   5985\u001b[0m             \u001b[1;32mand\u001b[0m \u001b[0mname\u001b[0m \u001b[1;32mnot\u001b[0m \u001b[1;32min\u001b[0m \u001b[0mself\u001b[0m\u001b[1;33m.\u001b[0m\u001b[0m_accessors\u001b[0m\u001b[1;33m\u001b[0m\u001b[1;33m\u001b[0m\u001b[0m\n\u001b[0;32m   5986\u001b[0m             \u001b[1;32mand\u001b[0m \u001b[0mself\u001b[0m\u001b[1;33m.\u001b[0m\u001b[0m_info_axis\u001b[0m\u001b[1;33m.\u001b[0m\u001b[0m_can_hold_identifiers_and_holds_name\u001b[0m\u001b[1;33m(\u001b[0m\u001b[0mname\u001b[0m\u001b[1;33m)\u001b[0m\u001b[1;33m\u001b[0m\u001b[1;33m\u001b[0m\u001b[0m\n\u001b[0;32m   5987\u001b[0m         ):\n\u001b[0;32m   5988\u001b[0m             \u001b[1;32mreturn\u001b[0m \u001b[0mself\u001b[0m\u001b[1;33m[\u001b[0m\u001b[0mname\u001b[0m\u001b[1;33m]\u001b[0m\u001b[1;33m\u001b[0m\u001b[1;33m\u001b[0m\u001b[0m\n\u001b[1;32m-> 5989\u001b[1;33m         \u001b[1;32mreturn\u001b[0m \u001b[0mobject\u001b[0m\u001b[1;33m.\u001b[0m\u001b[0m__getattribute__\u001b[0m\u001b[1;33m(\u001b[0m\u001b[0mself\u001b[0m\u001b[1;33m,\u001b[0m \u001b[0mname\u001b[0m\u001b[1;33m)\u001b[0m\u001b[1;33m\u001b[0m\u001b[1;33m\u001b[0m\u001b[0m\n\u001b[0m",
      "\u001b[1;31mAttributeError\u001b[0m: 'Series' object has no attribute 'target_names'"
     ]
    }
   ],
   "source": [
    "vegi_df['Label'].target_names"
   ]
  },
  {
   "cell_type": "code",
   "execution_count": 72,
   "metadata": {},
   "outputs": [
    {
     "name": "stdout",
     "output_type": "stream",
     "text": [
      "Vegis\n",
      "[[33  5  5  0]\n",
      " [ 1 37  5  1]\n",
      " [ 4  3 37  0]\n",
      " [ 8  0  2 34]]\n"
     ]
    },
    {
     "data": {
      "image/png": "[encoded data removed]",
      "text/plain": [
       "<Figure size 640x480 with 2 Axes>"
      ]
     },
     "metadata": {},
     "output_type": "display_data"
    }
   ],
   "source": [
    "disp = ConfusionMatrixDisplay.from_estimator(\n",
    "    clf,\n",
    "    X_test_scaled,\n",
    "    y_test,\n",
    "    display_labels=['Karotte', 'Kartoffel', 'Zwiebel', 'Karotte_Trieb'],\n",
    "    cmap='viridis',\n",
    "    normalize=None,\n",
    ")\n",
    "disp.ax_.set_title(\"Vegis\")\n",
    "\n",
    "print(\"Vegis\")\n",
    "print(disp.confusion_matrix)"
   ]
  },
  {
   "cell_type": "code",
   "execution_count": 76,
   "metadata": {},
   "outputs": [
    {
     "name": "stdout",
     "output_type": "stream",
     "text": [
      "Accuracy Test: 0.8057142857142857\n",
      "Accuracy Train: 0.8424068767908309\n",
      "Number Correct Predicions Test: 141\n",
      "Number Correct Predicions Train: 588\n"
     ]
    }
   ],
   "source": [
    "accuracy_testdata = accuracy_score(y_test, y_test_pred)\n",
    "accuracy_traindata = accuracy_score(y_train, y_train_pred)\n",
    "print(f\"Accuracy Test: {accuracy_testdata}\\nAccuracy Train: {accuracy_traindata}\")\n",
    "\n",
    "number_correct_testdata = accuracy_score(y_test, y_test_pred, normalize=False)\n",
    "number_correct_traindata = accuracy_score(y_train, y_train_pred, normalize=False)\n",
    "print(f\"Number Correct Predicions Test: {number_correct_testdata}\\nNumber Correct Predicions Train: {number_correct_traindata}\")"
   ]
  },
  {
   "cell_type": "code",
   "execution_count": 11,
   "metadata": {},
   "outputs": [
    {
     "name": "stdout",
     "output_type": "stream",
     "text": [
      "    Hight  Width    R    G   B  green pixels      Label\n",
      "84    183    120  123  100  55           174  Kartoffel\n",
      "95    158    130  118   96  77           318  Kartoffel\n",
      "96    147    125  118   95  75           272  Kartoffel\n",
      "97    183    127  115   91  69           490  Kartoffel\n",
      "98    173    134  115   94  73           532  Kartoffel\n",
      "Label\n",
      "Karotte_Trieb    197\n",
      "Zwiebel           25\n",
      "Karotte           21\n",
      "Kartoffel          6\n",
      "Name: count, dtype: int64\n"
     ]
    }
   ],
   "source": [
    "green_pixels_df = vegi_df.loc[vegi_df['green pixels'] > 100]\n",
    "print(green_pixels_df.head(5))\n",
    "print(green_pixels_df['Label'].value_counts())"
   ]
  }
 ],
 "metadata": {
  "kernelspec": {
   "display_name": "Python 3",
   "language": "python",
   "name": "python3"
  },
  "language_info": {
   "codemirror_mode": {
    "name": "ipython",
    "version": 3
   },
   "file_extension": ".py",
   "mimetype": "text/x-python",
   "name": "python",
   "nbconvert_exporter": "python",
   "pygments_lexer": "ipython3",
   "version": "3.10.6"
  }
 },
 "nbformat": 4,
 "nbformat_minor": 2
}
