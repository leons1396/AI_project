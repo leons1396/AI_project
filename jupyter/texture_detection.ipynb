{
 "cells": [
  {
   "cell_type": "code",
   "execution_count": 2,
   "metadata": {},
   "outputs": [],
   "source": [
    "import cv2\n",
    "from PIL import Image\n",
    "import numpy as np\n",
    "from matplotlib import pyplot as plt\n",
    "import matplotlib.image as mpimg\n",
    "from matplotlib import colors"
   ]
  },
  {
   "cell_type": "code",
   "execution_count": 3,
   "metadata": {},
   "outputs": [],
   "source": [
    "def texture_detection(interest_gray=[],img=[]):\n",
    "    counter=0\n",
    "\n",
    "    bin=cv2.adaptiveThreshold(interest_gray, 150,\n",
    "\tcv2.ADAPTIVE_THRESH_MEAN_C, cv2.THRESH_BINARY_INV, 15, 10)\n",
    "\n",
    "    edges=cv2.Canny(bin,50,100)\n",
    "    contour, hierarchy = cv2.findContours(edges, cv2.RETR_EXTERNAL, cv2.CHAIN_APPROX_SIMPLE)\n",
    "\n",
    "    for i in contour:\n",
    "        area=cv2.contourArea(i)\n",
    "\n",
    "        if area <=1:\n",
    "            \n",
    "            counter=counter+1\n",
    "    \n",
    "    return counter"
   ]
  },
  {
   "cell_type": "code",
   "execution_count": 33,
   "metadata": {},
   "outputs": [],
   "source": [
    "#find reach of interest\n",
    "def find_interest(img=[],gray=[]):\n",
    "    x=0\n",
    "    y=0\n",
    "    w=0\n",
    "    h=0\n",
    "    edges=cv2.Canny(gray,50,200)   \n",
    "    contour, hierarchy = cv2.findContours(edges, cv2.RETR_EXTERNAL, cv2.CHAIN_APPROX_SIMPLE)\n",
    "\n",
    "    for i in contour:\n",
    "        area=cv2.contourArea(i)\n",
    "\n",
    "        if area >=100:\n",
    "\n",
    "            x,y,w,h = cv2.boundingRect(i)\n",
    "        \n",
    "\n",
    "    if y!=0 and x!=0:\n",
    "        new_img=img[y-20:(y+h+20),x-20:(x+w+20)]\n",
    "        new_gray=gray[y-20:(y+h+20),x-20:(x+w+20)]\n",
    "    else:\n",
    "        new_img=img.copy()\n",
    "        new_gray=gray.copy()\n",
    "    \n",
    "\n",
    "    return new_img, new_gray"
   ]
  },
  {
   "cell_type": "code",
   "execution_count": 5,
   "metadata": {},
   "outputs": [],
   "source": [
    "#Adresse=\"D:/Dokumente/Master-Studium/Semester3/KI_Projekt/Bilderdrive/Karotte/karotte_(66).jpg\"\n",
    "#Adresse=\"D:/Dokumente/Master-Studium/Semester3/KI_Projekt/Bilderdrive/Zwiebel/zwiebel_(100).jpg\"\n",
    "#Adresse=\"D:/Dokumente/Master-Studium/Semester3/KI_Projekt/Bilderdrive/Kartoffel/kartoffel_(30).jpg\"\n",
    "Adresse=\"D:/Dokumente/Master-Studium/Semester3/KI_Projekt/Bilderdrive/Kartoffel_trieb/kartoffel_trieb_(80).jpeg\"\n",
    "\n",
    "\n",
    "img = cv2.imread(Adresse)\n",
    "img = cv2.resize(img, dsize=(256, 256), interpolation=cv2.INTER_AREA)\n",
    "gray = cv2.cvtColor(img, cv2.COLOR_BGR2GRAY)\n",
    "\n",
    "\n",
    "            \n",
    "new_img, new_gray= find_interest(img,gray)\n",
    "\n",
    "\n",
    "contour=texture_detection(new_gray,new_img)\n",
    "\n"
   ]
  },
  {
   "cell_type": "code",
   "execution_count": 37,
   "metadata": {},
   "outputs": [
    {
     "name": "stdout",
     "output_type": "stream",
     "text": [
      "[]\n"
     ]
    },
    {
     "ename": "error",
     "evalue": "OpenCV(4.8.1) D:\\a\\opencv-python\\opencv-python\\opencv\\modules\\imgproc\\src\\box_filter.dispatch.cpp:446: error: (-215:Assertion failed) !_src.empty() in function 'cv::boxFilter'\n",
     "output_type": "error",
     "traceback": [
      "\u001b[1;31m---------------------------------------------------------------------------\u001b[0m",
      "\u001b[1;31merror\u001b[0m                                     Traceback (most recent call last)",
      "Cell \u001b[1;32mIn[37], line 14\u001b[0m\n\u001b[0;32m     12\u001b[0m         (new_img, new_gray)\u001b[38;5;241m=\u001b[39m find_interest(img,gray)\n\u001b[0;32m     13\u001b[0m         \u001b[38;5;28mprint\u001b[39m(new_img)\n\u001b[1;32m---> 14\u001b[0m         found\u001b[38;5;241m.\u001b[39mappend(\u001b[43mtexture_detection\u001b[49m\u001b[43m(\u001b[49m\u001b[43mnew_gray\u001b[49m\u001b[43m,\u001b[49m\u001b[43mnew_img\u001b[49m\u001b[43m)\u001b[49m)\n\u001b[0;32m     17\u001b[0m \u001b[38;5;28mprint\u001b[39m(found) \n",
      "Cell \u001b[1;32mIn[3], line 4\u001b[0m, in \u001b[0;36mtexture_detection\u001b[1;34m(interest_gray, img)\u001b[0m\n\u001b[0;32m      1\u001b[0m \u001b[38;5;28;01mdef\u001b[39;00m \u001b[38;5;21mtexture_detection\u001b[39m(interest_gray\u001b[38;5;241m=\u001b[39m[],img\u001b[38;5;241m=\u001b[39m[]):\n\u001b[0;32m      2\u001b[0m     counter\u001b[38;5;241m=\u001b[39m\u001b[38;5;241m0\u001b[39m\n\u001b[1;32m----> 4\u001b[0m     \u001b[38;5;28mbin\u001b[39m\u001b[38;5;241m=\u001b[39m\u001b[43mcv2\u001b[49m\u001b[38;5;241;43m.\u001b[39;49m\u001b[43madaptiveThreshold\u001b[49m\u001b[43m(\u001b[49m\u001b[43minterest_gray\u001b[49m\u001b[43m,\u001b[49m\u001b[43m \u001b[49m\u001b[38;5;241;43m150\u001b[39;49m\u001b[43m,\u001b[49m\n\u001b[0;32m      5\u001b[0m \u001b[43m\t\u001b[49m\u001b[43mcv2\u001b[49m\u001b[38;5;241;43m.\u001b[39;49m\u001b[43mADAPTIVE_THRESH_MEAN_C\u001b[49m\u001b[43m,\u001b[49m\u001b[43m \u001b[49m\u001b[43mcv2\u001b[49m\u001b[38;5;241;43m.\u001b[39;49m\u001b[43mTHRESH_BINARY_INV\u001b[49m\u001b[43m,\u001b[49m\u001b[43m \u001b[49m\u001b[38;5;241;43m15\u001b[39;49m\u001b[43m,\u001b[49m\u001b[43m \u001b[49m\u001b[38;5;241;43m10\u001b[39;49m\u001b[43m)\u001b[49m\n\u001b[0;32m      7\u001b[0m     edges\u001b[38;5;241m=\u001b[39mcv2\u001b[38;5;241m.\u001b[39mCanny(\u001b[38;5;28mbin\u001b[39m,\u001b[38;5;241m50\u001b[39m,\u001b[38;5;241m100\u001b[39m)\n\u001b[0;32m      8\u001b[0m     contour, hierarchy \u001b[38;5;241m=\u001b[39m cv2\u001b[38;5;241m.\u001b[39mfindContours(edges, cv2\u001b[38;5;241m.\u001b[39mRETR_EXTERNAL, cv2\u001b[38;5;241m.\u001b[39mCHAIN_APPROX_SIMPLE)\n",
      "\u001b[1;31merror\u001b[0m: OpenCV(4.8.1) D:\\a\\opencv-python\\opencv-python\\opencv\\modules\\imgproc\\src\\box_filter.dispatch.cpp:446: error: (-215:Assertion failed) !_src.empty() in function 'cv::boxFilter'\n"
     ]
    }
   ],
   "source": [
    "found=[]\n",
    "for i in range(1,22):\n",
    "    Adresse=\"D:/Dokumente/Master-Studium/Semester3/KI_Projekt/Bilderdrive/Karotte/karotte_(\"+str(i)+\").jpg\"\n",
    "\n",
    "    img = cv2.imread(Adresse)\n",
    "    img = cv2.resize(img, dsize=(256, 256), interpolation=cv2.INTER_AREA)\n",
    "    gray = cv2.cvtColor(img, cv2.COLOR_BGR2GRAY)\n",
    "\n",
    "    \n",
    "    if  img is not None:\n",
    "\n",
    "        (new_img, new_gray)= find_interest(img,gray)\n",
    "        print(new_img)\n",
    "        found.append(texture_detection(new_gray,new_img))\n",
    "\n",
    " \n",
    "print(found) "
   ]
  }
 ],
 "metadata": {
  "kernelspec": {
   "display_name": "Python 3",
   "language": "python",
   "name": "python3"
  },
  "language_info": {
   "codemirror_mode": {
    "name": "ipython",
    "version": 3
   },
   "file_extension": ".py",
   "mimetype": "text/x-python",
   "name": "python",
   "nbconvert_exporter": "python",
   "pygments_lexer": "ipython3",
   "version": "3.10.11"
  }
 },
 "nbformat": 4,
 "nbformat_minor": 2
}
