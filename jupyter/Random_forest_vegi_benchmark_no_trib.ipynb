{
 "cells": [
  {
   "cell_type": "code",
   "execution_count": 1,
   "metadata": {},
   "outputs": [],
   "source": [
    "import numpy as np\n",
    "from matplotlib import pyplot as plt\n",
    "import matplotlib.image as mpimg\n",
    "from matplotlib import colors\n",
    "from sklearn.ensemble import RandomForestClassifier\n",
    "from sklearn.model_selection import train_test_split\n",
    "from sklearn.linear_model import LogisticRegression\n",
    "from sklearn.metrics import ConfusionMatrixDisplay\n",
    "from sklearn.metrics import accuracy_score\n",
    "from sklearn.compose import ColumnTransformer\n",
    "from sklearn.preprocessing import StandardScaler\n",
    "from sklearn import tree\n",
    "import pandas as pd"
   ]
  },
  {
   "cell_type": "code",
   "execution_count": 2,
   "metadata": {},
   "outputs": [
    {
     "data": {
      "text/html": [
       "<div>\n",
       "<style scoped>\n",
       "    .dataframe tbody tr th:only-of-type {\n",
       "        vertical-align: middle;\n",
       "    }\n",
       "\n",
       "    .dataframe tbody tr th {\n",
       "        vertical-align: top;\n",
       "    }\n",
       "\n",
       "    .dataframe thead th {\n",
       "        text-align: right;\n",
       "    }\n",
       "</style>\n",
       "<table border=\"1\" class=\"dataframe\">\n",
       "  <thead>\n",
       "    <tr style=\"text-align: right;\">\n",
       "      <th></th>\n",
       "      <th>Unnamed: 0</th>\n",
       "      <th>Hight</th>\n",
       "      <th>Width</th>\n",
       "      <th>R</th>\n",
       "      <th>G</th>\n",
       "      <th>B</th>\n",
       "      <th>green pixels</th>\n",
       "      <th>green onion pixels</th>\n",
       "      <th>ratio area</th>\n",
       "      <th>Label</th>\n",
       "      <th>Image</th>\n",
       "    </tr>\n",
       "  </thead>\n",
       "  <tbody>\n",
       "    <tr>\n",
       "      <th>0</th>\n",
       "      <td>0</td>\n",
       "      <td>131</td>\n",
       "      <td>97</td>\n",
       "      <td>131</td>\n",
       "      <td>98</td>\n",
       "      <td>59</td>\n",
       "      <td>0</td>\n",
       "      <td>0</td>\n",
       "      <td>0.805619</td>\n",
       "      <td>Kartoffel</td>\n",
       "      <td>Kartoffel_0</td>\n",
       "    </tr>\n",
       "    <tr>\n",
       "      <th>1</th>\n",
       "      <td>1</td>\n",
       "      <td>128</td>\n",
       "      <td>111</td>\n",
       "      <td>141</td>\n",
       "      <td>106</td>\n",
       "      <td>61</td>\n",
       "      <td>0</td>\n",
       "      <td>0</td>\n",
       "      <td>0.796523</td>\n",
       "      <td>Kartoffel</td>\n",
       "      <td>Kartoffel_1</td>\n",
       "    </tr>\n",
       "    <tr>\n",
       "      <th>2</th>\n",
       "      <td>2</td>\n",
       "      <td>152</td>\n",
       "      <td>116</td>\n",
       "      <td>148</td>\n",
       "      <td>118</td>\n",
       "      <td>75</td>\n",
       "      <td>0</td>\n",
       "      <td>0</td>\n",
       "      <td>0.787971</td>\n",
       "      <td>Kartoffel</td>\n",
       "      <td>Kartoffel_2</td>\n",
       "    </tr>\n",
       "    <tr>\n",
       "      <th>3</th>\n",
       "      <td>3</td>\n",
       "      <td>111</td>\n",
       "      <td>108</td>\n",
       "      <td>153</td>\n",
       "      <td>122</td>\n",
       "      <td>76</td>\n",
       "      <td>0</td>\n",
       "      <td>0</td>\n",
       "      <td>0.794086</td>\n",
       "      <td>Kartoffel</td>\n",
       "      <td>Kartoffel_3</td>\n",
       "    </tr>\n",
       "    <tr>\n",
       "      <th>4</th>\n",
       "      <td>4</td>\n",
       "      <td>131</td>\n",
       "      <td>114</td>\n",
       "      <td>144</td>\n",
       "      <td>112</td>\n",
       "      <td>68</td>\n",
       "      <td>0</td>\n",
       "      <td>0</td>\n",
       "      <td>0.037900</td>\n",
       "      <td>Kartoffel</td>\n",
       "      <td>Kartoffel_4</td>\n",
       "    </tr>\n",
       "  </tbody>\n",
       "</table>\n",
       "</div>"
      ],
      "text/plain": [
       "   Unnamed: 0  Hight  Width    R    G   B  green pixels  green onion pixels   \n",
       "0           0    131     97  131   98  59             0                   0  \\\n",
       "1           1    128    111  141  106  61             0                   0   \n",
       "2           2    152    116  148  118  75             0                   0   \n",
       "3           3    111    108  153  122  76             0                   0   \n",
       "4           4    131    114  144  112  68             0                   0   \n",
       "\n",
       "   ratio area      Label        Image  \n",
       "0    0.805619  Kartoffel  Kartoffel_0  \n",
       "1    0.796523  Kartoffel  Kartoffel_1  \n",
       "2    0.787971  Kartoffel  Kartoffel_2  \n",
       "3    0.794086  Kartoffel  Kartoffel_3  \n",
       "4    0.037900  Kartoffel  Kartoffel_4  "
      ]
     },
     "execution_count": 2,
     "metadata": {},
     "output_type": "execute_result"
    }
   ],
   "source": [
    "#import data\n",
    "data= pd.read_csv(\"D:\\Dokumente\\Master-Studium\\Semester3\\KI_Projekt\\egi_benchmark.csv\")\n",
    "data.head()"
   ]
  },
  {
   "cell_type": "code",
   "execution_count": 3,
   "metadata": {},
   "outputs": [],
   "source": [
    "data=data.drop(columns=[\"Unnamed: 0\", \"green pixels\", \"green onion pixels\"])"
   ]
  },
  {
   "cell_type": "code",
   "execution_count": 4,
   "metadata": {},
   "outputs": [
    {
     "data": {
      "text/html": [
       "<div>\n",
       "<style scoped>\n",
       "    .dataframe tbody tr th:only-of-type {\n",
       "        vertical-align: middle;\n",
       "    }\n",
       "\n",
       "    .dataframe tbody tr th {\n",
       "        vertical-align: top;\n",
       "    }\n",
       "\n",
       "    .dataframe thead th {\n",
       "        text-align: right;\n",
       "    }\n",
       "</style>\n",
       "<table border=\"1\" class=\"dataframe\">\n",
       "  <thead>\n",
       "    <tr style=\"text-align: right;\">\n",
       "      <th></th>\n",
       "      <th>Hight</th>\n",
       "      <th>Width</th>\n",
       "      <th>R</th>\n",
       "      <th>G</th>\n",
       "      <th>B</th>\n",
       "      <th>ratio area</th>\n",
       "      <th>Label</th>\n",
       "      <th>Image</th>\n",
       "    </tr>\n",
       "  </thead>\n",
       "  <tbody>\n",
       "    <tr>\n",
       "      <th>0</th>\n",
       "      <td>131</td>\n",
       "      <td>97</td>\n",
       "      <td>131</td>\n",
       "      <td>98</td>\n",
       "      <td>59</td>\n",
       "      <td>0.805619</td>\n",
       "      <td>1</td>\n",
       "      <td>Kartoffel_0</td>\n",
       "    </tr>\n",
       "    <tr>\n",
       "      <th>1</th>\n",
       "      <td>128</td>\n",
       "      <td>111</td>\n",
       "      <td>141</td>\n",
       "      <td>106</td>\n",
       "      <td>61</td>\n",
       "      <td>0.796523</td>\n",
       "      <td>1</td>\n",
       "      <td>Kartoffel_1</td>\n",
       "    </tr>\n",
       "    <tr>\n",
       "      <th>2</th>\n",
       "      <td>152</td>\n",
       "      <td>116</td>\n",
       "      <td>148</td>\n",
       "      <td>118</td>\n",
       "      <td>75</td>\n",
       "      <td>0.787971</td>\n",
       "      <td>1</td>\n",
       "      <td>Kartoffel_2</td>\n",
       "    </tr>\n",
       "    <tr>\n",
       "      <th>3</th>\n",
       "      <td>111</td>\n",
       "      <td>108</td>\n",
       "      <td>153</td>\n",
       "      <td>122</td>\n",
       "      <td>76</td>\n",
       "      <td>0.794086</td>\n",
       "      <td>1</td>\n",
       "      <td>Kartoffel_3</td>\n",
       "    </tr>\n",
       "    <tr>\n",
       "      <th>4</th>\n",
       "      <td>131</td>\n",
       "      <td>114</td>\n",
       "      <td>144</td>\n",
       "      <td>112</td>\n",
       "      <td>68</td>\n",
       "      <td>0.037900</td>\n",
       "      <td>1</td>\n",
       "      <td>Kartoffel_4</td>\n",
       "    </tr>\n",
       "    <tr>\n",
       "      <th>...</th>\n",
       "      <td>...</td>\n",
       "      <td>...</td>\n",
       "      <td>...</td>\n",
       "      <td>...</td>\n",
       "      <td>...</td>\n",
       "      <td>...</td>\n",
       "      <td>...</td>\n",
       "      <td>...</td>\n",
       "    </tr>\n",
       "    <tr>\n",
       "      <th>1172</th>\n",
       "      <td>88</td>\n",
       "      <td>65</td>\n",
       "      <td>107</td>\n",
       "      <td>76</td>\n",
       "      <td>40</td>\n",
       "      <td>0.753234</td>\n",
       "      <td>1</td>\n",
       "      <td>Kartoffel_Trieb_96</td>\n",
       "    </tr>\n",
       "    <tr>\n",
       "      <th>1173</th>\n",
       "      <td>106</td>\n",
       "      <td>74</td>\n",
       "      <td>105</td>\n",
       "      <td>71</td>\n",
       "      <td>29</td>\n",
       "      <td>0.772820</td>\n",
       "      <td>1</td>\n",
       "      <td>Kartoffel_Trieb_97</td>\n",
       "    </tr>\n",
       "    <tr>\n",
       "      <th>1174</th>\n",
       "      <td>89</td>\n",
       "      <td>77</td>\n",
       "      <td>100</td>\n",
       "      <td>70</td>\n",
       "      <td>34</td>\n",
       "      <td>0.749380</td>\n",
       "      <td>1</td>\n",
       "      <td>Kartoffel_Trieb_98</td>\n",
       "    </tr>\n",
       "    <tr>\n",
       "      <th>1175</th>\n",
       "      <td>131</td>\n",
       "      <td>91</td>\n",
       "      <td>106</td>\n",
       "      <td>76</td>\n",
       "      <td>43</td>\n",
       "      <td>0.704010</td>\n",
       "      <td>1</td>\n",
       "      <td>Kartoffel_Trieb_99</td>\n",
       "    </tr>\n",
       "    <tr>\n",
       "      <th>1176</th>\n",
       "      <td>133</td>\n",
       "      <td>74</td>\n",
       "      <td>103</td>\n",
       "      <td>74</td>\n",
       "      <td>35</td>\n",
       "      <td>0.593883</td>\n",
       "      <td>1</td>\n",
       "      <td>Kartoffel_Trieb_100</td>\n",
       "    </tr>\n",
       "  </tbody>\n",
       "</table>\n",
       "<p>1177 rows × 8 columns</p>\n",
       "</div>"
      ],
      "text/plain": [
       "      Hight  Width    R    G   B  ratio area  Label                Image\n",
       "0       131     97  131   98  59    0.805619      1          Kartoffel_0\n",
       "1       128    111  141  106  61    0.796523      1          Kartoffel_1\n",
       "2       152    116  148  118  75    0.787971      1          Kartoffel_2\n",
       "3       111    108  153  122  76    0.794086      1          Kartoffel_3\n",
       "4       131    114  144  112  68    0.037900      1          Kartoffel_4\n",
       "...     ...    ...  ...  ...  ..         ...    ...                  ...\n",
       "1172     88     65  107   76  40    0.753234      1   Kartoffel_Trieb_96\n",
       "1173    106     74  105   71  29    0.772820      1   Kartoffel_Trieb_97\n",
       "1174     89     77  100   70  34    0.749380      1   Kartoffel_Trieb_98\n",
       "1175    131     91  106   76  43    0.704010      1   Kartoffel_Trieb_99\n",
       "1176    133     74  103   74  35    0.593883      1  Kartoffel_Trieb_100\n",
       "\n",
       "[1177 rows x 8 columns]"
      ]
     },
     "execution_count": 4,
     "metadata": {},
     "output_type": "execute_result"
    }
   ],
   "source": [
    "data.loc[data[\"Label\"]==\"Karotte\",\"Label\"]=0\n",
    "data.loc[data[\"Label\"]==\"Kartoffel\",\"Label\"]=1\n",
    "data.loc[data[\"Label\"]==\"Zwiebel\",\"Label\"]=2\n",
    "data.loc[data[\"Label\"]==\"Karotte_Trieb\",\"Label\"]=0\n",
    "data.loc[data[\"Label\"]==\"Kartoffel_Trieb\",\"Label\"]=1\n",
    "data.loc[data[\"Label\"]==\"Zwiebel_Trieb\",\"Label\"]=2\n",
    "\n",
    "data[\"Label\"]=data[\"Label\"].astype(\"int\")\n",
    "data"
   ]
  },
  {
   "cell_type": "code",
   "execution_count": 5,
   "metadata": {},
   "outputs": [
    {
     "data": {
      "text/html": [
       "<div>\n",
       "<style scoped>\n",
       "    .dataframe tbody tr th:only-of-type {\n",
       "        vertical-align: middle;\n",
       "    }\n",
       "\n",
       "    .dataframe tbody tr th {\n",
       "        vertical-align: top;\n",
       "    }\n",
       "\n",
       "    .dataframe thead th {\n",
       "        text-align: right;\n",
       "    }\n",
       "</style>\n",
       "<table border=\"1\" class=\"dataframe\">\n",
       "  <thead>\n",
       "    <tr style=\"text-align: right;\">\n",
       "      <th></th>\n",
       "      <th>Hight</th>\n",
       "      <th>Width</th>\n",
       "      <th>R</th>\n",
       "      <th>G</th>\n",
       "      <th>B</th>\n",
       "      <th>ratio area</th>\n",
       "    </tr>\n",
       "  </thead>\n",
       "  <tbody>\n",
       "    <tr>\n",
       "      <th>0</th>\n",
       "      <td>131</td>\n",
       "      <td>97</td>\n",
       "      <td>131</td>\n",
       "      <td>98</td>\n",
       "      <td>59</td>\n",
       "      <td>0.805619</td>\n",
       "    </tr>\n",
       "    <tr>\n",
       "      <th>1</th>\n",
       "      <td>128</td>\n",
       "      <td>111</td>\n",
       "      <td>141</td>\n",
       "      <td>106</td>\n",
       "      <td>61</td>\n",
       "      <td>0.796523</td>\n",
       "    </tr>\n",
       "    <tr>\n",
       "      <th>2</th>\n",
       "      <td>152</td>\n",
       "      <td>116</td>\n",
       "      <td>148</td>\n",
       "      <td>118</td>\n",
       "      <td>75</td>\n",
       "      <td>0.787971</td>\n",
       "    </tr>\n",
       "    <tr>\n",
       "      <th>3</th>\n",
       "      <td>111</td>\n",
       "      <td>108</td>\n",
       "      <td>153</td>\n",
       "      <td>122</td>\n",
       "      <td>76</td>\n",
       "      <td>0.794086</td>\n",
       "    </tr>\n",
       "    <tr>\n",
       "      <th>4</th>\n",
       "      <td>131</td>\n",
       "      <td>114</td>\n",
       "      <td>144</td>\n",
       "      <td>112</td>\n",
       "      <td>68</td>\n",
       "      <td>0.037900</td>\n",
       "    </tr>\n",
       "  </tbody>\n",
       "</table>\n",
       "</div>"
      ],
      "text/plain": [
       "   Hight  Width    R    G   B  ratio area\n",
       "0    131     97  131   98  59    0.805619\n",
       "1    128    111  141  106  61    0.796523\n",
       "2    152    116  148  118  75    0.787971\n",
       "3    111    108  153  122  76    0.794086\n",
       "4    131    114  144  112  68    0.037900"
      ]
     },
     "execution_count": 5,
     "metadata": {},
     "output_type": "execute_result"
    }
   ],
   "source": [
    "X=data.iloc[:,0:6]\n",
    "X.head()"
   ]
  },
  {
   "cell_type": "code",
   "execution_count": 6,
   "metadata": {},
   "outputs": [
    {
     "data": {
      "text/plain": [
       "0    1\n",
       "1    1\n",
       "2    1\n",
       "3    1\n",
       "4    1\n",
       "Name: Label, dtype: int32"
      ]
     },
     "execution_count": 6,
     "metadata": {},
     "output_type": "execute_result"
    }
   ],
   "source": [
    "y=data.iloc[:,6]\n",
    "y.head()"
   ]
  },
  {
   "cell_type": "code",
   "execution_count": 7,
   "metadata": {},
   "outputs": [],
   "source": [
    "X_train, X_test, y_train, y_test = train_test_split(X, y, test_size=0.2, random_state=42)"
   ]
  },
  {
   "cell_type": "code",
   "execution_count": 8,
   "metadata": {},
   "outputs": [
    {
     "data": {
      "text/html": [
       "<div>\n",
       "<style scoped>\n",
       "    .dataframe tbody tr th:only-of-type {\n",
       "        vertical-align: middle;\n",
       "    }\n",
       "\n",
       "    .dataframe tbody tr th {\n",
       "        vertical-align: top;\n",
       "    }\n",
       "\n",
       "    .dataframe thead th {\n",
       "        text-align: right;\n",
       "    }\n",
       "</style>\n",
       "<table border=\"1\" class=\"dataframe\">\n",
       "  <thead>\n",
       "    <tr style=\"text-align: right;\">\n",
       "      <th></th>\n",
       "      <th>Hight</th>\n",
       "      <th>Width</th>\n",
       "      <th>R</th>\n",
       "      <th>G</th>\n",
       "      <th>B</th>\n",
       "      <th>ratio area</th>\n",
       "    </tr>\n",
       "  </thead>\n",
       "  <tbody>\n",
       "    <tr>\n",
       "      <th>715</th>\n",
       "      <td>124</td>\n",
       "      <td>108</td>\n",
       "      <td>91</td>\n",
       "      <td>50</td>\n",
       "      <td>53</td>\n",
       "      <td>0.772737</td>\n",
       "    </tr>\n",
       "    <tr>\n",
       "      <th>43</th>\n",
       "      <td>182</td>\n",
       "      <td>173</td>\n",
       "      <td>152</td>\n",
       "      <td>126</td>\n",
       "      <td>75</td>\n",
       "      <td>0.006177</td>\n",
       "    </tr>\n",
       "    <tr>\n",
       "      <th>461</th>\n",
       "      <td>274</td>\n",
       "      <td>53</td>\n",
       "      <td>74</td>\n",
       "      <td>62</td>\n",
       "      <td>57</td>\n",
       "      <td>0.667401</td>\n",
       "    </tr>\n",
       "    <tr>\n",
       "      <th>535</th>\n",
       "      <td>167</td>\n",
       "      <td>67</td>\n",
       "      <td>111</td>\n",
       "      <td>81</td>\n",
       "      <td>56</td>\n",
       "      <td>0.411163</td>\n",
       "    </tr>\n",
       "    <tr>\n",
       "      <th>380</th>\n",
       "      <td>251</td>\n",
       "      <td>59</td>\n",
       "      <td>154</td>\n",
       "      <td>89</td>\n",
       "      <td>24</td>\n",
       "      <td>0.785401</td>\n",
       "    </tr>\n",
       "    <tr>\n",
       "      <th>...</th>\n",
       "      <td>...</td>\n",
       "      <td>...</td>\n",
       "      <td>...</td>\n",
       "      <td>...</td>\n",
       "      <td>...</td>\n",
       "      <td>...</td>\n",
       "    </tr>\n",
       "    <tr>\n",
       "      <th>1044</th>\n",
       "      <td>226</td>\n",
       "      <td>119</td>\n",
       "      <td>101</td>\n",
       "      <td>87</td>\n",
       "      <td>76</td>\n",
       "      <td>0.325110</td>\n",
       "    </tr>\n",
       "    <tr>\n",
       "      <th>1095</th>\n",
       "      <td>119</td>\n",
       "      <td>98</td>\n",
       "      <td>137</td>\n",
       "      <td>104</td>\n",
       "      <td>67</td>\n",
       "      <td>0.809981</td>\n",
       "    </tr>\n",
       "    <tr>\n",
       "      <th>1130</th>\n",
       "      <td>136</td>\n",
       "      <td>114</td>\n",
       "      <td>134</td>\n",
       "      <td>105</td>\n",
       "      <td>67</td>\n",
       "      <td>0.802632</td>\n",
       "    </tr>\n",
       "    <tr>\n",
       "      <th>860</th>\n",
       "      <td>261</td>\n",
       "      <td>47</td>\n",
       "      <td>141</td>\n",
       "      <td>127</td>\n",
       "      <td>70</td>\n",
       "      <td>0.473995</td>\n",
       "    </tr>\n",
       "    <tr>\n",
       "      <th>1126</th>\n",
       "      <td>160</td>\n",
       "      <td>153</td>\n",
       "      <td>145</td>\n",
       "      <td>112</td>\n",
       "      <td>70</td>\n",
       "      <td>0.010069</td>\n",
       "    </tr>\n",
       "  </tbody>\n",
       "</table>\n",
       "<p>941 rows × 6 columns</p>\n",
       "</div>"
      ],
      "text/plain": [
       "      Hight  Width    R    G   B  ratio area\n",
       "715     124    108   91   50  53    0.772737\n",
       "43      182    173  152  126  75    0.006177\n",
       "461     274     53   74   62  57    0.667401\n",
       "535     167     67  111   81  56    0.411163\n",
       "380     251     59  154   89  24    0.785401\n",
       "...     ...    ...  ...  ...  ..         ...\n",
       "1044    226    119  101   87  76    0.325110\n",
       "1095    119     98  137  104  67    0.809981\n",
       "1130    136    114  134  105  67    0.802632\n",
       "860     261     47  141  127  70    0.473995\n",
       "1126    160    153  145  112  70    0.010069\n",
       "\n",
       "[941 rows x 6 columns]"
      ]
     },
     "execution_count": 8,
     "metadata": {},
     "output_type": "execute_result"
    }
   ],
   "source": [
    "X_train"
   ]
  },
  {
   "cell_type": "code",
   "execution_count": 9,
   "metadata": {},
   "outputs": [
    {
     "data": {
      "text/plain": [
       "715     2\n",
       "43      1\n",
       "461     0\n",
       "535     0\n",
       "380     0\n",
       "       ..\n",
       "1044    2\n",
       "1095    1\n",
       "1130    1\n",
       "860     0\n",
       "1126    1\n",
       "Name: Label, Length: 941, dtype: int32"
      ]
     },
     "execution_count": 9,
     "metadata": {},
     "output_type": "execute_result"
    }
   ],
   "source": [
    "y_train"
   ]
  },
  {
   "cell_type": "code",
   "execution_count": 10,
   "metadata": {},
   "outputs": [
    {
     "data": {
      "text/html": [
       "<style>#sk-container-id-1 {color: black;}#sk-container-id-1 pre{padding: 0;}#sk-container-id-1 div.sk-toggleable {background-color: white;}#sk-container-id-1 label.sk-toggleable__label {cursor: pointer;display: block;width: 100%;margin-bottom: 0;padding: 0.3em;box-sizing: border-box;text-align: center;}#sk-container-id-1 label.sk-toggleable__label-arrow:before {content: \"▸\";float: left;margin-right: 0.25em;color: #696969;}#sk-container-id-1 label.sk-toggleable__label-arrow:hover:before {color: black;}#sk-container-id-1 div.sk-estimator:hover label.sk-toggleable__label-arrow:before {color: black;}#sk-container-id-1 div.sk-toggleable__content {max-height: 0;max-width: 0;overflow: hidden;text-align: left;background-color: #f0f8ff;}#sk-container-id-1 div.sk-toggleable__content pre {margin: 0.2em;color: black;border-radius: 0.25em;background-color: #f0f8ff;}#sk-container-id-1 input.sk-toggleable__control:checked~div.sk-toggleable__content {max-height: 200px;max-width: 100%;overflow: auto;}#sk-container-id-1 input.sk-toggleable__control:checked~label.sk-toggleable__label-arrow:before {content: \"▾\";}#sk-container-id-1 div.sk-estimator input.sk-toggleable__control:checked~label.sk-toggleable__label {background-color: #d4ebff;}#sk-container-id-1 div.sk-label input.sk-toggleable__control:checked~label.sk-toggleable__label {background-color: #d4ebff;}#sk-container-id-1 input.sk-hidden--visually {border: 0;clip: rect(1px 1px 1px 1px);clip: rect(1px, 1px, 1px, 1px);height: 1px;margin: -1px;overflow: hidden;padding: 0;position: absolute;width: 1px;}#sk-container-id-1 div.sk-estimator {font-family: monospace;background-color: #f0f8ff;border: 1px dotted black;border-radius: 0.25em;box-sizing: border-box;margin-bottom: 0.5em;}#sk-container-id-1 div.sk-estimator:hover {background-color: #d4ebff;}#sk-container-id-1 div.sk-parallel-item::after {content: \"\";width: 100%;border-bottom: 1px solid gray;flex-grow: 1;}#sk-container-id-1 div.sk-label:hover label.sk-toggleable__label {background-color: #d4ebff;}#sk-container-id-1 div.sk-serial::before {content: \"\";position: absolute;border-left: 1px solid gray;box-sizing: border-box;top: 0;bottom: 0;left: 50%;z-index: 0;}#sk-container-id-1 div.sk-serial {display: flex;flex-direction: column;align-items: center;background-color: white;padding-right: 0.2em;padding-left: 0.2em;position: relative;}#sk-container-id-1 div.sk-item {position: relative;z-index: 1;}#sk-container-id-1 div.sk-parallel {display: flex;align-items: stretch;justify-content: center;background-color: white;position: relative;}#sk-container-id-1 div.sk-item::before, #sk-container-id-1 div.sk-parallel-item::before {content: \"\";position: absolute;border-left: 1px solid gray;box-sizing: border-box;top: 0;bottom: 0;left: 50%;z-index: -1;}#sk-container-id-1 div.sk-parallel-item {display: flex;flex-direction: column;z-index: 1;position: relative;background-color: white;}#sk-container-id-1 div.sk-parallel-item:first-child::after {align-self: flex-end;width: 50%;}#sk-container-id-1 div.sk-parallel-item:last-child::after {align-self: flex-start;width: 50%;}#sk-container-id-1 div.sk-parallel-item:only-child::after {width: 0;}#sk-container-id-1 div.sk-dashed-wrapped {border: 1px dashed gray;margin: 0 0.4em 0.5em 0.4em;box-sizing: border-box;padding-bottom: 0.4em;background-color: white;}#sk-container-id-1 div.sk-label label {font-family: monospace;font-weight: bold;display: inline-block;line-height: 1.2em;}#sk-container-id-1 div.sk-label-container {text-align: center;}#sk-container-id-1 div.sk-container {/* jupyter's `normalize.less` sets `[hidden] { display: none; }` but bootstrap.min.css set `[hidden] { display: none !important; }` so we also need the `!important` here to be able to override the default hidden behavior on the sphinx rendered scikit-learn.org. See: https://github.com/scikit-learn/scikit-learn/issues/21755 */display: inline-block !important;position: relative;}#sk-container-id-1 div.sk-text-repr-fallback {display: none;}</style><div id=\"sk-container-id-1\" class=\"sk-top-container\"><div class=\"sk-text-repr-fallback\"><pre>RandomForestClassifier(n_estimators=33, random_state=4)</pre><b>In a Jupyter environment, please rerun this cell to show the HTML representation or trust the notebook. <br />On GitHub, the HTML representation is unable to render, please try loading this page with nbviewer.org.</b></div><div class=\"sk-container\" hidden><div class=\"sk-item\"><div class=\"sk-estimator sk-toggleable\"><input class=\"sk-toggleable__control sk-hidden--visually\" id=\"sk-estimator-id-1\" type=\"checkbox\" checked><label for=\"sk-estimator-id-1\" class=\"sk-toggleable__label sk-toggleable__label-arrow\">RandomForestClassifier</label><div class=\"sk-toggleable__content\"><pre>RandomForestClassifier(n_estimators=33, random_state=4)</pre></div></div></div></div></div>"
      ],
      "text/plain": [
       "RandomForestClassifier(n_estimators=33, random_state=4)"
      ]
     },
     "execution_count": 10,
     "metadata": {},
     "output_type": "execute_result"
    }
   ],
   "source": [
    "clf = RandomForestClassifier(bootstrap=True, random_state=4, n_estimators=33)\n",
    "#clf = RandomForestClassifier(random_state=None)\n",
    "clf.fit(X_train,y_train)\n"
   ]
  },
  {
   "cell_type": "code",
   "execution_count": 11,
   "metadata": {},
   "outputs": [
    {
     "name": "stdout",
     "output_type": "stream",
     "text": [
      "Accuracy Test: 0.8728813559322034\n",
      "Accuracy Train: 0.9989373007438895\n"
     ]
    }
   ],
   "source": [
    "y_test_pred=clf.predict(X_test)\n",
    "y_train_pred=clf.predict(X_train)\n",
    "accuracy_testdata = accuracy_score(y_test, y_test_pred)\n",
    "accuracy_traindata = accuracy_score(y_train, y_train_pred)\n",
    "print(f\"Accuracy Test: {accuracy_testdata}\\nAccuracy Train: {accuracy_traindata}\")"
   ]
  },
  {
   "cell_type": "code",
   "execution_count": 12,
   "metadata": {},
   "outputs": [
    {
     "data": {
      "text/plain": [
       "Text(0.5, 1.0, 'Vegis TEST DATA')"
      ]
     },
     "execution_count": 12,
     "metadata": {},
     "output_type": "execute_result"
    },
    {
     "data": {
      "image/png": "[encoded data removed]",
      "text/plain": [
       "<Figure size 640x480 with 2 Axes>"
      ]
     },
     "metadata": {},
     "output_type": "display_data"
    }
   ],
   "source": [
    "disp = ConfusionMatrixDisplay.from_estimator(\n",
    "    clf,\n",
    "    X_test,\n",
    "    y_test,\n",
    "    display_labels=['Karotte', 'Kartoffel', 'Zwiebel'],\n",
    "    cmap='viridis',\n",
    "    normalize=None,\n",
    ")\n",
    "disp.ax_.set_title(\"Vegis TEST DATA\")"
   ]
  },
  {
   "cell_type": "code",
   "execution_count": 13,
   "metadata": {},
   "outputs": [
    {
     "data": {
      "text/plain": [
       "Text(0.5, 1.0, 'Vegis TRAIN  DATA')"
      ]
     },
     "execution_count": 13,
     "metadata": {},
     "output_type": "execute_result"
    },
    {
     "data": {
      "image/png": "[encoded data removed]",
      "text/plain": [
       "<Figure size 640x480 with 2 Axes>"
      ]
     },
     "metadata": {},
     "output_type": "display_data"
    }
   ],
   "source": [
    "disp = ConfusionMatrixDisplay.from_estimator(\n",
    "    clf,\n",
    "    X_train,\n",
    "    y_train,\n",
    "    display_labels=['Karotte', 'Kartoffel', 'Zwiebel'],\n",
    "    cmap='viridis',\n",
    "    normalize=None,\n",
    ")\n",
    "disp.ax_.set_title(\"Vegis TRAIN  DATA\")"
   ]
  },
  {
   "cell_type": "code",
   "execution_count": 14,
   "metadata": {},
   "outputs": [
    {
     "data": {
      "image/png": "[encoded data removed]",
      "text/plain": [
       "<Figure size 640x480 with 1 Axes>"
      ]
     },
     "metadata": {},
     "output_type": "display_data"
    }
   ],
   "source": [
    "tree.plot_tree(clf.estimators_[0],\n",
    "               feature_names = X.columns, \n",
    "               filled = True);"
   ]
  },
  {
   "cell_type": "code",
   "execution_count": null,
   "metadata": {},
   "outputs": [],
   "source": []
  }
 ],
 "metadata": {
  "kernelspec": {
   "display_name": "Python 3",
   "language": "python",
   "name": "python3"
  },
  "language_info": {
   "codemirror_mode": {
    "name": "ipython",
    "version": 3
   },
   "file_extension": ".py",
   "mimetype": "text/x-python",
   "name": "python",
   "nbconvert_exporter": "python",
   "pygments_lexer": "ipython3",
   "version": "3.10.11"
  }
 },
 "nbformat": 4,
 "nbformat_minor": 2
}
