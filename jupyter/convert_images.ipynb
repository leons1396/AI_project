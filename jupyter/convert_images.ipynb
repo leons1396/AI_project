{
 "cells": [
  {
   "cell_type": "code",
   "execution_count": 1,
   "metadata": {},
   "outputs": [],
   "source": [
    "import pandas as pd\n",
    "from PIL import Image\n",
    "from pillow_heif import register_heif_opener\n",
    "import os"
   ]
  },
  {
   "cell_type": "code",
   "execution_count": 2,
   "metadata": {},
   "outputs": [],
   "source": [
    "register_heif_opener()"
   ]
  },
  {
   "cell_type": "code",
   "execution_count": 4,
   "metadata": {},
   "outputs": [],
   "source": [
    "def convert_from_heic_to_jpg(imgs, heic_path, jpg_path, vegi):\n",
    "    for id, img in enumerate(imgs):\n",
    "        try:\n",
    "            heic_bild = Image.open(os.path.join(heic_path, img))\n",
    "            new_jpg_name = f\"{vegi}_{id+1}.jpg\"\n",
    "            path = os.path.join(jpg_path, new_jpg_name).replace(\"\\\\\",\"/\")\n",
    "            heic_bild.save(path, \"JPEG\")\n",
    "            #print(path)\n",
    "            print(f\"Successfully converted from: {os.path.join(heic_path, img)} to {os.path.join(jpg_path, new_jpg_name)}\")\n",
    "\n",
    "        except Exception as e:\n",
    "            print(f\"Error due converting: {e}\")"
   ]
  },
  {
   "cell_type": "code",
   "execution_count": 8,
   "metadata": {},
   "outputs": [
    {
     "name": "stdout",
     "output_type": "stream",
     "text": [
      "Successfully converted from: G:\\Meine Ablage\\Images_AI_Project\\zwiebel\\IMG_3125.HEIC to G:\\Meine Ablage\\Images_AI_Project\\zwiebel_jpg\\zwiebel_1.jpg\n",
      "Successfully converted from: G:\\Meine Ablage\\Images_AI_Project\\zwiebel\\IMG_3134.HEIC to G:\\Meine Ablage\\Images_AI_Project\\zwiebel_jpg\\zwiebel_2.jpg\n",
      "Successfully converted from: G:\\Meine Ablage\\Images_AI_Project\\zwiebel\\IMG_3248.HEIC to G:\\Meine Ablage\\Images_AI_Project\\zwiebel_jpg\\zwiebel_3.jpg\n",
      "Successfully converted from: G:\\Meine Ablage\\Images_AI_Project\\zwiebel\\IMG_3245.HEIC to G:\\Meine Ablage\\Images_AI_Project\\zwiebel_jpg\\zwiebel_4.jpg\n",
      "Successfully converted from: G:\\Meine Ablage\\Images_AI_Project\\zwiebel\\IMG_3247.HEIC to G:\\Meine Ablage\\Images_AI_Project\\zwiebel_jpg\\zwiebel_5.jpg\n",
      "Successfully converted from: G:\\Meine Ablage\\Images_AI_Project\\zwiebel\\IMG_3246.HEIC to G:\\Meine Ablage\\Images_AI_Project\\zwiebel_jpg\\zwiebel_6.jpg\n",
      "Successfully converted from: G:\\Meine Ablage\\Images_AI_Project\\zwiebel\\IMG_3251.HEIC to G:\\Meine Ablage\\Images_AI_Project\\zwiebel_jpg\\zwiebel_7.jpg\n",
      "Successfully converted from: G:\\Meine Ablage\\Images_AI_Project\\zwiebel\\IMG_3249.HEIC to G:\\Meine Ablage\\Images_AI_Project\\zwiebel_jpg\\zwiebel_8.jpg\n",
      "Successfully converted from: G:\\Meine Ablage\\Images_AI_Project\\zwiebel\\IMG_3243.HEIC to G:\\Meine Ablage\\Images_AI_Project\\zwiebel_jpg\\zwiebel_9.jpg\n",
      "Successfully converted from: G:\\Meine Ablage\\Images_AI_Project\\zwiebel\\IMG_3242.HEIC to G:\\Meine Ablage\\Images_AI_Project\\zwiebel_jpg\\zwiebel_10.jpg\n",
      "Successfully converted from: G:\\Meine Ablage\\Images_AI_Project\\zwiebel\\IMG_3244.HEIC to G:\\Meine Ablage\\Images_AI_Project\\zwiebel_jpg\\zwiebel_11.jpg\n",
      "Successfully converted from: G:\\Meine Ablage\\Images_AI_Project\\zwiebel\\IMG_3240.HEIC to G:\\Meine Ablage\\Images_AI_Project\\zwiebel_jpg\\zwiebel_12.jpg\n",
      "Successfully converted from: G:\\Meine Ablage\\Images_AI_Project\\zwiebel\\IMG_3239.HEIC to G:\\Meine Ablage\\Images_AI_Project\\zwiebel_jpg\\zwiebel_13.jpg\n",
      "Successfully converted from: G:\\Meine Ablage\\Images_AI_Project\\zwiebel\\IMG_3241.HEIC to G:\\Meine Ablage\\Images_AI_Project\\zwiebel_jpg\\zwiebel_14.jpg\n",
      "Successfully converted from: G:\\Meine Ablage\\Images_AI_Project\\zwiebel\\IMG_3238.HEIC to G:\\Meine Ablage\\Images_AI_Project\\zwiebel_jpg\\zwiebel_15.jpg\n",
      "Successfully converted from: G:\\Meine Ablage\\Images_AI_Project\\zwiebel\\IMG_3236.HEIC to G:\\Meine Ablage\\Images_AI_Project\\zwiebel_jpg\\zwiebel_16.jpg\n",
      "Successfully converted from: G:\\Meine Ablage\\Images_AI_Project\\zwiebel\\IMG_3237.HEIC to G:\\Meine Ablage\\Images_AI_Project\\zwiebel_jpg\\zwiebel_17.jpg\n",
      "Successfully converted from: G:\\Meine Ablage\\Images_AI_Project\\zwiebel\\IMG_3140.HEIC to G:\\Meine Ablage\\Images_AI_Project\\zwiebel_jpg\\zwiebel_18.jpg\n",
      "Successfully converted from: G:\\Meine Ablage\\Images_AI_Project\\zwiebel\\IMG_3235.HEIC to G:\\Meine Ablage\\Images_AI_Project\\zwiebel_jpg\\zwiebel_19.jpg\n",
      "Successfully converted from: G:\\Meine Ablage\\Images_AI_Project\\zwiebel\\IMG_3139.heic to G:\\Meine Ablage\\Images_AI_Project\\zwiebel_jpg\\zwiebel_20.jpg\n",
      "Successfully converted from: G:\\Meine Ablage\\Images_AI_Project\\zwiebel\\IMG_3138.HEIC to G:\\Meine Ablage\\Images_AI_Project\\zwiebel_jpg\\zwiebel_21.jpg\n",
      "Successfully converted from: G:\\Meine Ablage\\Images_AI_Project\\zwiebel\\IMG_3133.HEIC to G:\\Meine Ablage\\Images_AI_Project\\zwiebel_jpg\\zwiebel_22.jpg\n",
      "Successfully converted from: G:\\Meine Ablage\\Images_AI_Project\\zwiebel\\IMG_3131.HEIC to G:\\Meine Ablage\\Images_AI_Project\\zwiebel_jpg\\zwiebel_23.jpg\n",
      "Successfully converted from: G:\\Meine Ablage\\Images_AI_Project\\zwiebel\\IMG_3135.HEIC to G:\\Meine Ablage\\Images_AI_Project\\zwiebel_jpg\\zwiebel_24.jpg\n",
      "Successfully converted from: G:\\Meine Ablage\\Images_AI_Project\\zwiebel\\IMG_3132.heic to G:\\Meine Ablage\\Images_AI_Project\\zwiebel_jpg\\zwiebel_25.jpg\n",
      "Successfully converted from: G:\\Meine Ablage\\Images_AI_Project\\zwiebel\\IMG_3137.HEIC to G:\\Meine Ablage\\Images_AI_Project\\zwiebel_jpg\\zwiebel_26.jpg\n",
      "Successfully converted from: G:\\Meine Ablage\\Images_AI_Project\\zwiebel\\IMG_3130.HEIC to G:\\Meine Ablage\\Images_AI_Project\\zwiebel_jpg\\zwiebel_27.jpg\n",
      "Successfully converted from: G:\\Meine Ablage\\Images_AI_Project\\zwiebel\\IMG_3126.HEIC to G:\\Meine Ablage\\Images_AI_Project\\zwiebel_jpg\\zwiebel_28.jpg\n",
      "Successfully converted from: G:\\Meine Ablage\\Images_AI_Project\\zwiebel\\IMG_3136.HEIC to G:\\Meine Ablage\\Images_AI_Project\\zwiebel_jpg\\zwiebel_29.jpg\n",
      "Successfully converted from: G:\\Meine Ablage\\Images_AI_Project\\zwiebel\\IMG_3258.HEIC to G:\\Meine Ablage\\Images_AI_Project\\zwiebel_jpg\\zwiebel_30.jpg\n",
      "Successfully converted from: G:\\Meine Ablage\\Images_AI_Project\\zwiebel\\IMG_3256.HEIC to G:\\Meine Ablage\\Images_AI_Project\\zwiebel_jpg\\zwiebel_31.jpg\n",
      "Successfully converted from: G:\\Meine Ablage\\Images_AI_Project\\zwiebel\\IMG_3255.HEIC to G:\\Meine Ablage\\Images_AI_Project\\zwiebel_jpg\\zwiebel_32.jpg\n",
      "Successfully converted from: G:\\Meine Ablage\\Images_AI_Project\\zwiebel\\IMG_3257.HEIC to G:\\Meine Ablage\\Images_AI_Project\\zwiebel_jpg\\zwiebel_33.jpg\n",
      "Successfully converted from: G:\\Meine Ablage\\Images_AI_Project\\zwiebel\\IMG_3254.HEIC to G:\\Meine Ablage\\Images_AI_Project\\zwiebel_jpg\\zwiebel_34.jpg\n",
      "Successfully converted from: G:\\Meine Ablage\\Images_AI_Project\\zwiebel\\IMG_3252.HEIC to G:\\Meine Ablage\\Images_AI_Project\\zwiebel_jpg\\zwiebel_35.jpg\n",
      "Successfully converted from: G:\\Meine Ablage\\Images_AI_Project\\zwiebel\\IMG_3250.HEIC to G:\\Meine Ablage\\Images_AI_Project\\zwiebel_jpg\\zwiebel_36.jpg\n",
      "Successfully converted from: G:\\Meine Ablage\\Images_AI_Project\\zwiebel\\IMG_3253.HEIC to G:\\Meine Ablage\\Images_AI_Project\\zwiebel_jpg\\zwiebel_37.jpg\n"
     ]
    }
   ],
   "source": [
    "vegi = \"zwiebel\"\n",
    "heic_path = f\"G:\\Meine Ablage\\Images_AI_Project\\{vegi}\"\n",
    "jpg_path = f\"G:\\Meine Ablage\\Images_AI_Project\\{vegi}_jpg\"\n",
    "\n",
    "images = [image for image in os.listdir(heic_path)]\n",
    "\n",
    "convert_from_heic_to_jpg(images, heic_path, jpg_path, vegi)"
   ]
  },
  {
   "cell_type": "code",
   "execution_count": null,
   "metadata": {},
   "outputs": [],
   "source": []
  }
 ],
 "metadata": {
  "kernelspec": {
   "display_name": "Python 3",
   "language": "python",
   "name": "python3"
  },
  "language_info": {
   "codemirror_mode": {
    "name": "ipython",
    "version": 3
   },
   "file_extension": ".py",
   "mimetype": "text/x-python",
   "name": "python",
   "nbconvert_exporter": "python",
   "pygments_lexer": "ipython3",
   "version": "3.10.6"
  }
 },
 "nbformat": 4,
 "nbformat_minor": 2
}
