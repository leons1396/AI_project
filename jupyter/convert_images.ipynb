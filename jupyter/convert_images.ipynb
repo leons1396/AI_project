{
 "cells": [
  {
   "cell_type": "code",
   "execution_count": 6,
   "metadata": {},
   "outputs": [],
   "source": [
    "import pandas as pd\n",
    "from PIL import Image\n",
    "from pillow_heif import register_heif_opener\n",
    "import os"
   ]
  },
  {
   "cell_type": "code",
   "execution_count": 7,
   "metadata": {},
   "outputs": [],
   "source": [
    "register_heif_opener()"
   ]
  },
  {
   "cell_type": "code",
   "execution_count": 31,
   "metadata": {},
   "outputs": [
    {
     "name": "stdout",
     "output_type": "stream",
     "text": [
      "Successfully converted from: G:\\Meine Ablage\\Images_AI_Project\\kartoffel\\IMG_3348.HEIC to G:\\Meine Ablage\\Images_AI_Project\\kartoffel_jpg\\kartoffel_1.jpg\n",
      "Successfully converted from: G:\\Meine Ablage\\Images_AI_Project\\kartoffel\\IMG_3347.HEIC to G:\\Meine Ablage\\Images_AI_Project\\kartoffel_jpg\\kartoffel_2.jpg\n",
      "Successfully converted from: G:\\Meine Ablage\\Images_AI_Project\\kartoffel\\IMG_3343.HEIC to G:\\Meine Ablage\\Images_AI_Project\\kartoffel_jpg\\kartoffel_3.jpg\n",
      "Successfully converted from: G:\\Meine Ablage\\Images_AI_Project\\kartoffel\\IMG_3349.HEIC to G:\\Meine Ablage\\Images_AI_Project\\kartoffel_jpg\\kartoffel_4.jpg\n",
      "Successfully converted from: G:\\Meine Ablage\\Images_AI_Project\\kartoffel\\IMG_3346.HEIC to G:\\Meine Ablage\\Images_AI_Project\\kartoffel_jpg\\kartoffel_5.jpg\n",
      "Successfully converted from: G:\\Meine Ablage\\Images_AI_Project\\kartoffel\\IMG_3345.HEIC to G:\\Meine Ablage\\Images_AI_Project\\kartoffel_jpg\\kartoffel_6.jpg\n",
      "Successfully converted from: G:\\Meine Ablage\\Images_AI_Project\\kartoffel\\IMG_3350.HEIC to G:\\Meine Ablage\\Images_AI_Project\\kartoffel_jpg\\kartoffel_7.jpg\n",
      "Successfully converted from: G:\\Meine Ablage\\Images_AI_Project\\kartoffel\\IMG_3344.HEIC to G:\\Meine Ablage\\Images_AI_Project\\kartoffel_jpg\\kartoffel_8.jpg\n",
      "Successfully converted from: G:\\Meine Ablage\\Images_AI_Project\\kartoffel\\IMG_3342.HEIC to G:\\Meine Ablage\\Images_AI_Project\\kartoffel_jpg\\kartoffel_9.jpg\n",
      "Successfully converted from: G:\\Meine Ablage\\Images_AI_Project\\kartoffel\\IMG_3336.HEIC to G:\\Meine Ablage\\Images_AI_Project\\kartoffel_jpg\\kartoffel_10.jpg\n",
      "Successfully converted from: G:\\Meine Ablage\\Images_AI_Project\\kartoffel\\IMG_3334.HEIC to G:\\Meine Ablage\\Images_AI_Project\\kartoffel_jpg\\kartoffel_11.jpg\n",
      "Successfully converted from: G:\\Meine Ablage\\Images_AI_Project\\kartoffel\\IMG_3341.HEIC to G:\\Meine Ablage\\Images_AI_Project\\kartoffel_jpg\\kartoffel_12.jpg\n",
      "Successfully converted from: G:\\Meine Ablage\\Images_AI_Project\\kartoffel\\IMG_3340.HEIC to G:\\Meine Ablage\\Images_AI_Project\\kartoffel_jpg\\kartoffel_13.jpg\n",
      "Successfully converted from: G:\\Meine Ablage\\Images_AI_Project\\kartoffel\\IMG_3338.HEIC to G:\\Meine Ablage\\Images_AI_Project\\kartoffel_jpg\\kartoffel_14.jpg\n",
      "Successfully converted from: G:\\Meine Ablage\\Images_AI_Project\\kartoffel\\IMG_3339.HEIC to G:\\Meine Ablage\\Images_AI_Project\\kartoffel_jpg\\kartoffel_15.jpg\n",
      "Successfully converted from: G:\\Meine Ablage\\Images_AI_Project\\kartoffel\\IMG_3331.HEIC to G:\\Meine Ablage\\Images_AI_Project\\kartoffel_jpg\\kartoffel_16.jpg\n",
      "Successfully converted from: G:\\Meine Ablage\\Images_AI_Project\\kartoffel\\IMG_3337.HEIC to G:\\Meine Ablage\\Images_AI_Project\\kartoffel_jpg\\kartoffel_17.jpg\n",
      "Successfully converted from: G:\\Meine Ablage\\Images_AI_Project\\kartoffel\\IMG_3332.HEIC to G:\\Meine Ablage\\Images_AI_Project\\kartoffel_jpg\\kartoffel_18.jpg\n",
      "Successfully converted from: G:\\Meine Ablage\\Images_AI_Project\\kartoffel\\IMG_3335.HEIC to G:\\Meine Ablage\\Images_AI_Project\\kartoffel_jpg\\kartoffel_19.jpg\n",
      "Successfully converted from: G:\\Meine Ablage\\Images_AI_Project\\kartoffel\\IMG_3333.HEIC to G:\\Meine Ablage\\Images_AI_Project\\kartoffel_jpg\\kartoffel_20.jpg\n",
      "Successfully converted from: G:\\Meine Ablage\\Images_AI_Project\\kartoffel\\IMG_3329.HEIC to G:\\Meine Ablage\\Images_AI_Project\\kartoffel_jpg\\kartoffel_21.jpg\n",
      "Successfully converted from: G:\\Meine Ablage\\Images_AI_Project\\kartoffel\\IMG_3324.HEIC to G:\\Meine Ablage\\Images_AI_Project\\kartoffel_jpg\\kartoffel_22.jpg\n",
      "Successfully converted from: G:\\Meine Ablage\\Images_AI_Project\\kartoffel\\IMG_3330.HEIC to G:\\Meine Ablage\\Images_AI_Project\\kartoffel_jpg\\kartoffel_23.jpg\n",
      "Successfully converted from: G:\\Meine Ablage\\Images_AI_Project\\kartoffel\\IMG_3323.HEIC to G:\\Meine Ablage\\Images_AI_Project\\kartoffel_jpg\\kartoffel_24.jpg\n",
      "Successfully converted from: G:\\Meine Ablage\\Images_AI_Project\\kartoffel\\IMG_3320.HEIC to G:\\Meine Ablage\\Images_AI_Project\\kartoffel_jpg\\kartoffel_25.jpg\n",
      "Successfully converted from: G:\\Meine Ablage\\Images_AI_Project\\kartoffel\\IMG_3319.HEIC to G:\\Meine Ablage\\Images_AI_Project\\kartoffel_jpg\\kartoffel_26.jpg\n",
      "Successfully converted from: G:\\Meine Ablage\\Images_AI_Project\\kartoffel\\IMG_3321.HEIC to G:\\Meine Ablage\\Images_AI_Project\\kartoffel_jpg\\kartoffel_27.jpg\n",
      "Successfully converted from: G:\\Meine Ablage\\Images_AI_Project\\kartoffel\\IMG_3328.HEIC to G:\\Meine Ablage\\Images_AI_Project\\kartoffel_jpg\\kartoffel_28.jpg\n",
      "Successfully converted from: G:\\Meine Ablage\\Images_AI_Project\\kartoffel\\IMG_3326.HEIC to G:\\Meine Ablage\\Images_AI_Project\\kartoffel_jpg\\kartoffel_29.jpg\n",
      "Successfully converted from: G:\\Meine Ablage\\Images_AI_Project\\kartoffel\\IMG_3322.HEIC to G:\\Meine Ablage\\Images_AI_Project\\kartoffel_jpg\\kartoffel_30.jpg\n",
      "Successfully converted from: G:\\Meine Ablage\\Images_AI_Project\\kartoffel\\IMG_3325.HEIC to G:\\Meine Ablage\\Images_AI_Project\\kartoffel_jpg\\kartoffel_31.jpg\n",
      "Successfully converted from: G:\\Meine Ablage\\Images_AI_Project\\kartoffel\\IMG_3327.HEIC to G:\\Meine Ablage\\Images_AI_Project\\kartoffel_jpg\\kartoffel_32.jpg\n",
      "Successfully converted from: G:\\Meine Ablage\\Images_AI_Project\\kartoffel\\IMG_3378.HEIC to G:\\Meine Ablage\\Images_AI_Project\\kartoffel_jpg\\kartoffel_33.jpg\n",
      "Successfully converted from: G:\\Meine Ablage\\Images_AI_Project\\kartoffel\\IMG_3380.HEIC to G:\\Meine Ablage\\Images_AI_Project\\kartoffel_jpg\\kartoffel_34.jpg\n",
      "Successfully converted from: G:\\Meine Ablage\\Images_AI_Project\\kartoffel\\IMG_3375.HEIC to G:\\Meine Ablage\\Images_AI_Project\\kartoffel_jpg\\kartoffel_35.jpg\n",
      "Successfully converted from: G:\\Meine Ablage\\Images_AI_Project\\kartoffel\\IMG_3379.HEIC to G:\\Meine Ablage\\Images_AI_Project\\kartoffel_jpg\\kartoffel_36.jpg\n",
      "Successfully converted from: G:\\Meine Ablage\\Images_AI_Project\\kartoffel\\IMG_3373.HEIC to G:\\Meine Ablage\\Images_AI_Project\\kartoffel_jpg\\kartoffel_37.jpg\n",
      "Successfully converted from: G:\\Meine Ablage\\Images_AI_Project\\kartoffel\\IMG_3377.HEIC to G:\\Meine Ablage\\Images_AI_Project\\kartoffel_jpg\\kartoffel_38.jpg\n",
      "Successfully converted from: G:\\Meine Ablage\\Images_AI_Project\\kartoffel\\IMG_3374.HEIC to G:\\Meine Ablage\\Images_AI_Project\\kartoffel_jpg\\kartoffel_39.jpg\n",
      "Successfully converted from: G:\\Meine Ablage\\Images_AI_Project\\kartoffel\\IMG_3376.HEIC to G:\\Meine Ablage\\Images_AI_Project\\kartoffel_jpg\\kartoffel_40.jpg\n",
      "Successfully converted from: G:\\Meine Ablage\\Images_AI_Project\\kartoffel\\IMG_3372.HEIC to G:\\Meine Ablage\\Images_AI_Project\\kartoffel_jpg\\kartoffel_41.jpg\n",
      "Successfully converted from: G:\\Meine Ablage\\Images_AI_Project\\kartoffel\\IMG_3371.HEIC to G:\\Meine Ablage\\Images_AI_Project\\kartoffel_jpg\\kartoffel_42.jpg\n",
      "Successfully converted from: G:\\Meine Ablage\\Images_AI_Project\\kartoffel\\IMG_3370.HEIC to G:\\Meine Ablage\\Images_AI_Project\\kartoffel_jpg\\kartoffel_43.jpg\n",
      "Successfully converted from: G:\\Meine Ablage\\Images_AI_Project\\kartoffel\\IMG_3369.HEIC to G:\\Meine Ablage\\Images_AI_Project\\kartoffel_jpg\\kartoffel_44.jpg\n",
      "Successfully converted from: G:\\Meine Ablage\\Images_AI_Project\\kartoffel\\IMG_3366.HEIC to G:\\Meine Ablage\\Images_AI_Project\\kartoffel_jpg\\kartoffel_45.jpg\n",
      "Successfully converted from: G:\\Meine Ablage\\Images_AI_Project\\kartoffel\\IMG_3364.HEIC to G:\\Meine Ablage\\Images_AI_Project\\kartoffel_jpg\\kartoffel_46.jpg\n",
      "Successfully converted from: G:\\Meine Ablage\\Images_AI_Project\\kartoffel\\IMG_3368.HEIC to G:\\Meine Ablage\\Images_AI_Project\\kartoffel_jpg\\kartoffel_47.jpg\n",
      "Successfully converted from: G:\\Meine Ablage\\Images_AI_Project\\kartoffel\\IMG_3365.HEIC to G:\\Meine Ablage\\Images_AI_Project\\kartoffel_jpg\\kartoffel_48.jpg\n",
      "Successfully converted from: G:\\Meine Ablage\\Images_AI_Project\\kartoffel\\IMG_3367.HEIC to G:\\Meine Ablage\\Images_AI_Project\\kartoffel_jpg\\kartoffel_49.jpg\n",
      "Successfully converted from: G:\\Meine Ablage\\Images_AI_Project\\kartoffel\\IMG_3361.HEIC to G:\\Meine Ablage\\Images_AI_Project\\kartoffel_jpg\\kartoffel_50.jpg\n",
      "Successfully converted from: G:\\Meine Ablage\\Images_AI_Project\\kartoffel\\IMG_3363.HEIC to G:\\Meine Ablage\\Images_AI_Project\\kartoffel_jpg\\kartoffel_51.jpg\n",
      "Successfully converted from: G:\\Meine Ablage\\Images_AI_Project\\kartoffel\\IMG_3360.HEIC to G:\\Meine Ablage\\Images_AI_Project\\kartoffel_jpg\\kartoffel_52.jpg\n",
      "Successfully converted from: G:\\Meine Ablage\\Images_AI_Project\\kartoffel\\IMG_3355.HEIC to G:\\Meine Ablage\\Images_AI_Project\\kartoffel_jpg\\kartoffel_53.jpg\n",
      "Successfully converted from: G:\\Meine Ablage\\Images_AI_Project\\kartoffel\\IMG_3362.HEIC to G:\\Meine Ablage\\Images_AI_Project\\kartoffel_jpg\\kartoffel_54.jpg\n",
      "Successfully converted from: G:\\Meine Ablage\\Images_AI_Project\\kartoffel\\IMG_3354.HEIC to G:\\Meine Ablage\\Images_AI_Project\\kartoffel_jpg\\kartoffel_55.jpg\n",
      "Successfully converted from: G:\\Meine Ablage\\Images_AI_Project\\kartoffel\\IMG_3359.HEIC to G:\\Meine Ablage\\Images_AI_Project\\kartoffel_jpg\\kartoffel_56.jpg\n",
      "Successfully converted from: G:\\Meine Ablage\\Images_AI_Project\\kartoffel\\IMG_3358.HEIC to G:\\Meine Ablage\\Images_AI_Project\\kartoffel_jpg\\kartoffel_57.jpg\n",
      "Successfully converted from: G:\\Meine Ablage\\Images_AI_Project\\kartoffel\\IMG_3357.HEIC to G:\\Meine Ablage\\Images_AI_Project\\kartoffel_jpg\\kartoffel_58.jpg\n",
      "Successfully converted from: G:\\Meine Ablage\\Images_AI_Project\\kartoffel\\IMG_3356.HEIC to G:\\Meine Ablage\\Images_AI_Project\\kartoffel_jpg\\kartoffel_59.jpg\n",
      "Successfully converted from: G:\\Meine Ablage\\Images_AI_Project\\kartoffel\\IMG_3351.HEIC to G:\\Meine Ablage\\Images_AI_Project\\kartoffel_jpg\\kartoffel_60.jpg\n",
      "Successfully converted from: G:\\Meine Ablage\\Images_AI_Project\\kartoffel\\IMG_3353.HEIC to G:\\Meine Ablage\\Images_AI_Project\\kartoffel_jpg\\kartoffel_61.jpg\n",
      "Successfully converted from: G:\\Meine Ablage\\Images_AI_Project\\kartoffel\\IMG_3352.HEIC to G:\\Meine Ablage\\Images_AI_Project\\kartoffel_jpg\\kartoffel_62.jpg\n",
      "Successfully converted from: G:\\Meine Ablage\\Images_AI_Project\\kartoffel\\IMG_3391.HEIC to G:\\Meine Ablage\\Images_AI_Project\\kartoffel_jpg\\kartoffel_63.jpg\n",
      "Successfully converted from: G:\\Meine Ablage\\Images_AI_Project\\kartoffel\\IMG_3389.HEIC to G:\\Meine Ablage\\Images_AI_Project\\kartoffel_jpg\\kartoffel_64.jpg\n",
      "Successfully converted from: G:\\Meine Ablage\\Images_AI_Project\\kartoffel\\IMG_3387.HEIC to G:\\Meine Ablage\\Images_AI_Project\\kartoffel_jpg\\kartoffel_65.jpg\n",
      "Successfully converted from: G:\\Meine Ablage\\Images_AI_Project\\kartoffel\\IMG_3390.HEIC to G:\\Meine Ablage\\Images_AI_Project\\kartoffel_jpg\\kartoffel_66.jpg\n",
      "Successfully converted from: G:\\Meine Ablage\\Images_AI_Project\\kartoffel\\IMG_3388.HEIC to G:\\Meine Ablage\\Images_AI_Project\\kartoffel_jpg\\kartoffel_67.jpg\n",
      "Successfully converted from: G:\\Meine Ablage\\Images_AI_Project\\kartoffel\\IMG_3385.HEIC to G:\\Meine Ablage\\Images_AI_Project\\kartoffel_jpg\\kartoffel_68.jpg\n",
      "Successfully converted from: G:\\Meine Ablage\\Images_AI_Project\\kartoffel\\IMG_3384.HEIC to G:\\Meine Ablage\\Images_AI_Project\\kartoffel_jpg\\kartoffel_69.jpg\n",
      "Successfully converted from: G:\\Meine Ablage\\Images_AI_Project\\kartoffel\\IMG_3386.HEIC to G:\\Meine Ablage\\Images_AI_Project\\kartoffel_jpg\\kartoffel_70.jpg\n",
      "Successfully converted from: G:\\Meine Ablage\\Images_AI_Project\\kartoffel\\IMG_3383.HEIC to G:\\Meine Ablage\\Images_AI_Project\\kartoffel_jpg\\kartoffel_71.jpg\n",
      "Successfully converted from: G:\\Meine Ablage\\Images_AI_Project\\kartoffel\\IMG_3381.HEIC to G:\\Meine Ablage\\Images_AI_Project\\kartoffel_jpg\\kartoffel_72.jpg\n",
      "Successfully converted from: G:\\Meine Ablage\\Images_AI_Project\\kartoffel\\IMG_3382.HEIC to G:\\Meine Ablage\\Images_AI_Project\\kartoffel_jpg\\kartoffel_73.jpg\n"
     ]
    }
   ],
   "source": [
    "def convert_from_heic_to_jpg(imgs, heic_path, jpg_path):\n",
    "    for id, img in enumerate(imgs):\n",
    "        try:\n",
    "            heic_bild = Image.open(os.path.join(heic_path, img))\n",
    "            new_jpg_name = f\"kartoffel_{id+1}.jpg\"\n",
    "            path = os.path.join(jpg_path, new_jpg_name).replace(\"\\\\\",\"/\")\n",
    "            heic_bild.save(path, \"JPEG\")\n",
    "            #print(path)\n",
    "            print(f\"Successfully converted from: {os.path.join(heic_path, img)} to {os.path.join(jpg_path, new_jpg_name)}\")\n",
    "\n",
    "        except Exception as e:\n",
    "            print(f\"Error due converting: {e}\")"
   ]
  },
  {
   "cell_type": "code",
   "execution_count": null,
   "metadata": {},
   "outputs": [],
   "source": [
    "heic_path = \"G:\\Meine Ablage\\Images_AI_Project\\kartoffel\"\n",
    "jpg_path = \"G:\\Meine Ablage\\Images_AI_Project\\kartoffel_jpg\"\n",
    "\n",
    "images = [image for image in os.listdir(heic_path)]\n",
    "\n",
    "convert_from_heic_to_jpg(images, heic_path, jpg_path)"
   ]
  },
  {
   "cell_type": "code",
   "execution_count": null,
   "metadata": {},
   "outputs": [],
   "source": []
  }
 ],
 "metadata": {
  "kernelspec": {
   "display_name": "Python 3",
   "language": "python",
   "name": "python3"
  },
  "language_info": {
   "codemirror_mode": {
    "name": "ipython",
    "version": 3
   },
   "file_extension": ".py",
   "mimetype": "text/x-python",
   "name": "python",
   "nbconvert_exporter": "python",
   "pygments_lexer": "ipython3",
   "version": "3.10.6"
  }
 },
 "nbformat": 4,
 "nbformat_minor": 2
}
