{
 "cells": [
  {
   "cell_type": "code",
   "execution_count": 96,
   "metadata": {},
   "outputs": [],
   "source": [
    "import pandas as pd"
   ]
  },
  {
   "cell_type": "code",
   "execution_count": 97,
   "metadata": {},
   "outputs": [],
   "source": [
    "training_df = pd.read_csv(r'C:\\Users\\peter\\Downloads\\vegis_traindata.csv')"
   ]
  },
  {
   "cell_type": "code",
   "execution_count": 98,
   "metadata": {},
   "outputs": [
    {
     "data": {
      "text/html": [
       "<div>\n",
       "<style scoped>\n",
       "    .dataframe tbody tr th:only-of-type {\n",
       "        vertical-align: middle;\n",
       "    }\n",
       "\n",
       "    .dataframe tbody tr th {\n",
       "        vertical-align: top;\n",
       "    }\n",
       "\n",
       "    .dataframe thead th {\n",
       "        text-align: right;\n",
       "    }\n",
       "</style>\n",
       "<table border=\"1\" class=\"dataframe\">\n",
       "  <thead>\n",
       "    <tr style=\"text-align: right;\">\n",
       "      <th></th>\n",
       "      <th>Hight</th>\n",
       "      <th>Width</th>\n",
       "      <th>Aspect ratio</th>\n",
       "      <th>R</th>\n",
       "      <th>G</th>\n",
       "      <th>B</th>\n",
       "      <th>green pixels</th>\n",
       "      <th>green onion pixels</th>\n",
       "      <th>ratio area</th>\n",
       "      <th>circularity</th>\n",
       "      <th>keypoints</th>\n",
       "      <th>mean keypoints</th>\n",
       "      <th>Label</th>\n",
       "    </tr>\n",
       "  </thead>\n",
       "  <tbody>\n",
       "    <tr>\n",
       "      <th>0</th>\n",
       "      <td>174</td>\n",
       "      <td>111</td>\n",
       "      <td>1.567568</td>\n",
       "      <td>121</td>\n",
       "      <td>98</td>\n",
       "      <td>76</td>\n",
       "      <td>0</td>\n",
       "      <td>0</td>\n",
       "      <td>0.747411</td>\n",
       "      <td>0.740759</td>\n",
       "      <td>39</td>\n",
       "      <td>12.664070</td>\n",
       "      <td>Kartoffel</td>\n",
       "    </tr>\n",
       "    <tr>\n",
       "      <th>1</th>\n",
       "      <td>97</td>\n",
       "      <td>65</td>\n",
       "      <td>1.492308</td>\n",
       "      <td>109</td>\n",
       "      <td>84</td>\n",
       "      <td>50</td>\n",
       "      <td>0</td>\n",
       "      <td>0</td>\n",
       "      <td>0.785250</td>\n",
       "      <td>0.812063</td>\n",
       "      <td>18</td>\n",
       "      <td>7.130874</td>\n",
       "      <td>Kartoffel</td>\n",
       "    </tr>\n",
       "    <tr>\n",
       "      <th>2</th>\n",
       "      <td>139</td>\n",
       "      <td>124</td>\n",
       "      <td>1.120968</td>\n",
       "      <td>144</td>\n",
       "      <td>118</td>\n",
       "      <td>84</td>\n",
       "      <td>0</td>\n",
       "      <td>0</td>\n",
       "      <td>0.826178</td>\n",
       "      <td>0.791622</td>\n",
       "      <td>36</td>\n",
       "      <td>5.622304</td>\n",
       "      <td>Kartoffel</td>\n",
       "    </tr>\n",
       "    <tr>\n",
       "      <th>3</th>\n",
       "      <td>90</td>\n",
       "      <td>61</td>\n",
       "      <td>1.475410</td>\n",
       "      <td>108</td>\n",
       "      <td>80</td>\n",
       "      <td>44</td>\n",
       "      <td>0</td>\n",
       "      <td>0</td>\n",
       "      <td>0.782149</td>\n",
       "      <td>0.816098</td>\n",
       "      <td>14</td>\n",
       "      <td>10.524947</td>\n",
       "      <td>Kartoffel</td>\n",
       "    </tr>\n",
       "    <tr>\n",
       "      <th>4</th>\n",
       "      <td>73</td>\n",
       "      <td>50</td>\n",
       "      <td>1.460000</td>\n",
       "      <td>110</td>\n",
       "      <td>83</td>\n",
       "      <td>46</td>\n",
       "      <td>0</td>\n",
       "      <td>0</td>\n",
       "      <td>0.764247</td>\n",
       "      <td>0.810826</td>\n",
       "      <td>11</td>\n",
       "      <td>6.394969</td>\n",
       "      <td>Kartoffel</td>\n",
       "    </tr>\n",
       "  </tbody>\n",
       "</table>\n",
       "</div>"
      ],
      "text/plain": [
       "   Hight  Width  Aspect ratio    R    G   B  green pixels  green onion pixels  \\\n",
       "0    174    111      1.567568  121   98  76             0                   0   \n",
       "1     97     65      1.492308  109   84  50             0                   0   \n",
       "2    139    124      1.120968  144  118  84             0                   0   \n",
       "3     90     61      1.475410  108   80  44             0                   0   \n",
       "4     73     50      1.460000  110   83  46             0                   0   \n",
       "\n",
       "   ratio area  circularity  keypoints  mean keypoints      Label  \n",
       "0    0.747411     0.740759         39       12.664070  Kartoffel  \n",
       "1    0.785250     0.812063         18        7.130874  Kartoffel  \n",
       "2    0.826178     0.791622         36        5.622304  Kartoffel  \n",
       "3    0.782149     0.816098         14       10.524947  Kartoffel  \n",
       "4    0.764247     0.810826         11        6.394969  Kartoffel  "
      ]
     },
     "execution_count": 98,
     "metadata": {},
     "output_type": "execute_result"
    }
   ],
   "source": [
    "# Neues Feature = Aspect Ration\n",
    "aspectratio_df = training_df.loc[:]['Hight']/training_df.loc[:]['Width']\n",
    "training_df['Aspect ratio'] = aspectratio_df\n",
    "col = training_df.pop('Aspect ratio')\n",
    "training_df.insert(loc=3, column='Aspect ratio', value=col)\n",
    "\n",
    "\n",
    "training_df = training_df.drop(columns=['Unnamed: 0', 'Image'])\n",
    "training_df.head()"
   ]
  },
  {
   "cell_type": "code",
   "execution_count": 99,
   "metadata": {},
   "outputs": [
    {
     "data": {
      "text/plain": [
       "(401, 13)"
      ]
     },
     "execution_count": 99,
     "metadata": {},
     "output_type": "execute_result"
    }
   ],
   "source": [
    "Karotte_df = training_df.loc[training_df['Label']=='Karotte']\n",
    "Karotte_df.shape"
   ]
  },
  {
   "cell_type": "code",
   "execution_count": 100,
   "metadata": {},
   "outputs": [
    {
     "data": {
      "text/plain": [
       "(496, 13)"
      ]
     },
     "execution_count": 100,
     "metadata": {},
     "output_type": "execute_result"
    }
   ],
   "source": [
    "Kartoffel_df = training_df.loc[training_df['Label']=='Kartoffel']\n",
    "Kartoffel_df.shape"
   ]
  },
  {
   "cell_type": "code",
   "execution_count": 101,
   "metadata": {},
   "outputs": [
    {
     "data": {
      "text/plain": [
       "(445, 13)"
      ]
     },
     "execution_count": 101,
     "metadata": {},
     "output_type": "execute_result"
    }
   ],
   "source": [
    "Zwiebel_df = training_df.loc[training_df['Label']=='Zwiebel']\n",
    "Zwiebel_df.shape"
   ]
  },
  {
   "cell_type": "code",
   "execution_count": 102,
   "metadata": {},
   "outputs": [
    {
     "data": {
      "text/plain": [
       "(357, 13)"
      ]
     },
     "execution_count": 102,
     "metadata": {},
     "output_type": "execute_result"
    }
   ],
   "source": [
    "Karotte_Trieb_df = training_df.loc[training_df['Label']=='Karotte_Trieb']\n",
    "Karotte_Trieb_df.shape"
   ]
  },
  {
   "cell_type": "code",
   "execution_count": 103,
   "metadata": {},
   "outputs": [
    {
     "data": {
      "text/plain": [
       "(245, 13)"
      ]
     },
     "execution_count": 103,
     "metadata": {},
     "output_type": "execute_result"
    }
   ],
   "source": [
    "Kartoffel_Trieb_df = training_df.loc[training_df['Label']=='Kartoffel_Trieb']\n",
    "Kartoffel_Trieb_df.shape"
   ]
  },
  {
   "cell_type": "code",
   "execution_count": 104,
   "metadata": {},
   "outputs": [
    {
     "data": {
      "text/plain": [
       "(193, 13)"
      ]
     },
     "execution_count": 104,
     "metadata": {},
     "output_type": "execute_result"
    }
   ],
   "source": [
    "Zwiebel_Trieb_df = training_df.loc[training_df['Label']=='Zwiebel_Trieb']\n",
    "Zwiebel_Trieb_df.shape"
   ]
  },
  {
   "cell_type": "code",
   "execution_count": 105,
   "metadata": {},
   "outputs": [],
   "source": [
    "Zeile1_df = Karotte_df.describe().iloc[1:3]"
   ]
  },
  {
   "cell_type": "code",
   "execution_count": 106,
   "metadata": {},
   "outputs": [],
   "source": [
    "Zeile2_df = Kartoffel_df.describe().iloc[1:3]"
   ]
  },
  {
   "cell_type": "code",
   "execution_count": 107,
   "metadata": {},
   "outputs": [],
   "source": [
    "Zeile3_df = Zwiebel_df.describe().iloc[1:3]"
   ]
  },
  {
   "cell_type": "code",
   "execution_count": 108,
   "metadata": {},
   "outputs": [],
   "source": [
    "Zeile4_df = Karotte_Trieb_df.describe().iloc[1:3]"
   ]
  },
  {
   "cell_type": "code",
   "execution_count": 109,
   "metadata": {},
   "outputs": [],
   "source": [
    "Zeile5_df = Kartoffel_Trieb_df.describe().iloc[1:3]"
   ]
  },
  {
   "cell_type": "code",
   "execution_count": 110,
   "metadata": {},
   "outputs": [],
   "source": [
    "Zeile6_df = Zwiebel_Trieb_df.describe().iloc[1:3]"
   ]
  },
  {
   "cell_type": "code",
   "execution_count": 111,
   "metadata": {},
   "outputs": [
    {
     "data": {
      "text/html": [
       "<div>\n",
       "<style scoped>\n",
       "    .dataframe tbody tr th:only-of-type {\n",
       "        vertical-align: middle;\n",
       "    }\n",
       "\n",
       "    .dataframe tbody tr th {\n",
       "        vertical-align: top;\n",
       "    }\n",
       "\n",
       "    .dataframe thead th {\n",
       "        text-align: right;\n",
       "    }\n",
       "</style>\n",
       "<table border=\"1\" class=\"dataframe\">\n",
       "  <thead>\n",
       "    <tr style=\"text-align: right;\">\n",
       "      <th></th>\n",
       "      <th>Klasse</th>\n",
       "      <th>Hight</th>\n",
       "      <th>Width</th>\n",
       "      <th>Aspect ratio</th>\n",
       "      <th>R</th>\n",
       "      <th>G</th>\n",
       "      <th>B</th>\n",
       "      <th>green pixels</th>\n",
       "      <th>green onion pixels</th>\n",
       "      <th>ratio area</th>\n",
       "      <th>circularity</th>\n",
       "      <th>keypoints</th>\n",
       "      <th>mean keypoints</th>\n",
       "    </tr>\n",
       "  </thead>\n",
       "  <tbody>\n",
       "    <tr>\n",
       "      <th>mean</th>\n",
       "      <td>Karotte</td>\n",
       "      <td>222.892768</td>\n",
       "      <td>61.214464</td>\n",
       "      <td>4.182153</td>\n",
       "      <td>134.366584</td>\n",
       "      <td>84.177057</td>\n",
       "      <td>48.089776</td>\n",
       "      <td>34.246883</td>\n",
       "      <td>115.284289</td>\n",
       "      <td>0.550131</td>\n",
       "      <td>0.292904</td>\n",
       "      <td>30.431421</td>\n",
       "      <td>7.636423</td>\n",
       "    </tr>\n",
       "    <tr>\n",
       "      <th>std</th>\n",
       "      <td>Karotte</td>\n",
       "      <td>42.939213</td>\n",
       "      <td>24.997678</td>\n",
       "      <td>1.946815</td>\n",
       "      <td>25.771550</td>\n",
       "      <td>20.463530</td>\n",
       "      <td>19.797902</td>\n",
       "      <td>134.072206</td>\n",
       "      <td>498.853625</td>\n",
       "      <td>0.250927</td>\n",
       "      <td>0.150963</td>\n",
       "      <td>18.220481</td>\n",
       "      <td>4.403209</td>\n",
       "    </tr>\n",
       "    <tr>\n",
       "      <th>mean</th>\n",
       "      <td>Kartoffel</td>\n",
       "      <td>111.016129</td>\n",
       "      <td>87.639113</td>\n",
       "      <td>1.284700</td>\n",
       "      <td>107.270161</td>\n",
       "      <td>81.125000</td>\n",
       "      <td>46.856855</td>\n",
       "      <td>3.540323</td>\n",
       "      <td>0.227823</td>\n",
       "      <td>0.762981</td>\n",
       "      <td>0.800146</td>\n",
       "      <td>31.719758</td>\n",
       "      <td>12.663905</td>\n",
       "    </tr>\n",
       "    <tr>\n",
       "      <th>std</th>\n",
       "      <td>Kartoffel</td>\n",
       "      <td>46.386995</td>\n",
       "      <td>35.381568</td>\n",
       "      <td>0.274077</td>\n",
       "      <td>30.707081</td>\n",
       "      <td>25.602567</td>\n",
       "      <td>18.556539</td>\n",
       "      <td>33.813427</td>\n",
       "      <td>1.907590</td>\n",
       "      <td>0.138956</td>\n",
       "      <td>0.114850</td>\n",
       "      <td>34.825628</td>\n",
       "      <td>11.934832</td>\n",
       "    </tr>\n",
       "    <tr>\n",
       "      <th>mean</th>\n",
       "      <td>Zwiebel</td>\n",
       "      <td>151.566292</td>\n",
       "      <td>123.233708</td>\n",
       "      <td>1.292243</td>\n",
       "      <td>120.653933</td>\n",
       "      <td>80.044944</td>\n",
       "      <td>56.337079</td>\n",
       "      <td>9.528090</td>\n",
       "      <td>2.224719</td>\n",
       "      <td>0.542308</td>\n",
       "      <td>0.585236</td>\n",
       "      <td>56.608989</td>\n",
       "      <td>7.751903</td>\n",
       "    </tr>\n",
       "    <tr>\n",
       "      <th>std</th>\n",
       "      <td>Zwiebel</td>\n",
       "      <td>40.075922</td>\n",
       "      <td>40.501632</td>\n",
       "      <td>0.331148</td>\n",
       "      <td>23.314280</td>\n",
       "      <td>20.481540</td>\n",
       "      <td>18.927876</td>\n",
       "      <td>50.002317</td>\n",
       "      <td>16.390198</td>\n",
       "      <td>0.303746</td>\n",
       "      <td>0.235575</td>\n",
       "      <td>37.528847</td>\n",
       "      <td>2.763085</td>\n",
       "    </tr>\n",
       "    <tr>\n",
       "      <th>mean</th>\n",
       "      <td>Karotte_Gruen</td>\n",
       "      <td>244.848739</td>\n",
       "      <td>141.442577</td>\n",
       "      <td>2.106349</td>\n",
       "      <td>105.523810</td>\n",
       "      <td>93.773109</td>\n",
       "      <td>61.775910</td>\n",
       "      <td>3418.792717</td>\n",
       "      <td>4173.873950</td>\n",
       "      <td>0.298454</td>\n",
       "      <td>0.195170</td>\n",
       "      <td>193.761905</td>\n",
       "      <td>4.728721</td>\n",
       "    </tr>\n",
       "    <tr>\n",
       "      <th>std</th>\n",
       "      <td>Karotte_Gruen</td>\n",
       "      <td>35.638393</td>\n",
       "      <td>53.407540</td>\n",
       "      <td>1.189393</td>\n",
       "      <td>24.912377</td>\n",
       "      <td>19.353499</td>\n",
       "      <td>14.907399</td>\n",
       "      <td>2649.517237</td>\n",
       "      <td>2649.018668</td>\n",
       "      <td>0.214323</td>\n",
       "      <td>0.112420</td>\n",
       "      <td>107.251185</td>\n",
       "      <td>0.888287</td>\n",
       "    </tr>\n",
       "    <tr>\n",
       "      <th>mean</th>\n",
       "      <td>Kartoffel_Trieb</td>\n",
       "      <td>153.171429</td>\n",
       "      <td>121.236735</td>\n",
       "      <td>1.303273</td>\n",
       "      <td>122.995918</td>\n",
       "      <td>95.910204</td>\n",
       "      <td>60.767347</td>\n",
       "      <td>0.053061</td>\n",
       "      <td>6.346939</td>\n",
       "      <td>0.657355</td>\n",
       "      <td>0.615555</td>\n",
       "      <td>63.975510</td>\n",
       "      <td>6.894475</td>\n",
       "    </tr>\n",
       "    <tr>\n",
       "      <th>std</th>\n",
       "      <td>Kartoffel_Trieb</td>\n",
       "      <td>35.259623</td>\n",
       "      <td>35.230405</td>\n",
       "      <td>0.246100</td>\n",
       "      <td>17.206675</td>\n",
       "      <td>17.633336</td>\n",
       "      <td>16.322033</td>\n",
       "      <td>0.385762</td>\n",
       "      <td>34.258869</td>\n",
       "      <td>0.228296</td>\n",
       "      <td>0.214316</td>\n",
       "      <td>32.322647</td>\n",
       "      <td>2.744413</td>\n",
       "    </tr>\n",
       "    <tr>\n",
       "      <th>mean</th>\n",
       "      <td>Zwiebel_Trieb</td>\n",
       "      <td>210.082902</td>\n",
       "      <td>115.077720</td>\n",
       "      <td>1.885767</td>\n",
       "      <td>97.901554</td>\n",
       "      <td>81.937824</td>\n",
       "      <td>64.170984</td>\n",
       "      <td>1203.880829</td>\n",
       "      <td>897.243523</td>\n",
       "      <td>0.392608</td>\n",
       "      <td>0.271568</td>\n",
       "      <td>59.046632</td>\n",
       "      <td>6.841760</td>\n",
       "    </tr>\n",
       "    <tr>\n",
       "      <th>std</th>\n",
       "      <td>Zwiebel_Trieb</td>\n",
       "      <td>52.040182</td>\n",
       "      <td>27.979702</td>\n",
       "      <td>0.517908</td>\n",
       "      <td>21.030871</td>\n",
       "      <td>17.732570</td>\n",
       "      <td>17.317103</td>\n",
       "      <td>1838.066449</td>\n",
       "      <td>1173.605621</td>\n",
       "      <td>0.208716</td>\n",
       "      <td>0.155803</td>\n",
       "      <td>20.797959</td>\n",
       "      <td>1.509396</td>\n",
       "    </tr>\n",
       "  </tbody>\n",
       "</table>\n",
       "</div>"
      ],
      "text/plain": [
       "               Klasse       Hight       Width  Aspect ratio           R  \\\n",
       "mean          Karotte  222.892768   61.214464      4.182153  134.366584   \n",
       "std           Karotte   42.939213   24.997678      1.946815   25.771550   \n",
       "mean        Kartoffel  111.016129   87.639113      1.284700  107.270161   \n",
       "std         Kartoffel   46.386995   35.381568      0.274077   30.707081   \n",
       "mean          Zwiebel  151.566292  123.233708      1.292243  120.653933   \n",
       "std           Zwiebel   40.075922   40.501632      0.331148   23.314280   \n",
       "mean    Karotte_Gruen  244.848739  141.442577      2.106349  105.523810   \n",
       "std     Karotte_Gruen   35.638393   53.407540      1.189393   24.912377   \n",
       "mean  Kartoffel_Trieb  153.171429  121.236735      1.303273  122.995918   \n",
       "std   Kartoffel_Trieb   35.259623   35.230405      0.246100   17.206675   \n",
       "mean    Zwiebel_Trieb  210.082902  115.077720      1.885767   97.901554   \n",
       "std     Zwiebel_Trieb   52.040182   27.979702      0.517908   21.030871   \n",
       "\n",
       "              G          B  green pixels  green onion pixels  ratio area  \\\n",
       "mean  84.177057  48.089776     34.246883          115.284289    0.550131   \n",
       "std   20.463530  19.797902    134.072206          498.853625    0.250927   \n",
       "mean  81.125000  46.856855      3.540323            0.227823    0.762981   \n",
       "std   25.602567  18.556539     33.813427            1.907590    0.138956   \n",
       "mean  80.044944  56.337079      9.528090            2.224719    0.542308   \n",
       "std   20.481540  18.927876     50.002317           16.390198    0.303746   \n",
       "mean  93.773109  61.775910   3418.792717         4173.873950    0.298454   \n",
       "std   19.353499  14.907399   2649.517237         2649.018668    0.214323   \n",
       "mean  95.910204  60.767347      0.053061            6.346939    0.657355   \n",
       "std   17.633336  16.322033      0.385762           34.258869    0.228296   \n",
       "mean  81.937824  64.170984   1203.880829          897.243523    0.392608   \n",
       "std   17.732570  17.317103   1838.066449         1173.605621    0.208716   \n",
       "\n",
       "      circularity   keypoints  mean keypoints  \n",
       "mean     0.292904   30.431421        7.636423  \n",
       "std      0.150963   18.220481        4.403209  \n",
       "mean     0.800146   31.719758       12.663905  \n",
       "std      0.114850   34.825628       11.934832  \n",
       "mean     0.585236   56.608989        7.751903  \n",
       "std      0.235575   37.528847        2.763085  \n",
       "mean     0.195170  193.761905        4.728721  \n",
       "std      0.112420  107.251185        0.888287  \n",
       "mean     0.615555   63.975510        6.894475  \n",
       "std      0.214316   32.322647        2.744413  \n",
       "mean     0.271568   59.046632        6.841760  \n",
       "std      0.155803   20.797959        1.509396  "
      ]
     },
     "execution_count": 111,
     "metadata": {},
     "output_type": "execute_result"
    }
   ],
   "source": [
    "Overview_df = pd.concat([Zeile1_df,Zeile2_df,Zeile3_df,Zeile4_df,Zeile5_df,Zeile6_df])\n",
    "Overview_df.insert(loc=0, column='Klasse', value = ['Karotte','Karotte','Kartoffel','Kartoffel','Zwiebel','Zwiebel','Karotte_Gruen','Karotte_Gruen','Kartoffel_Trieb','Kartoffel_Trieb','Zwiebel_Trieb','Zwiebel_Trieb'])\n",
    "Overview_df.head(12)\n"
   ]
  },
  {
   "cell_type": "code",
   "execution_count": 112,
   "metadata": {},
   "outputs": [],
   "source": [
    "#Overview_df.to_excel(r'C:\\Users\\peter\\Downloads\\Dataanalysis.xlsx')"
   ]
  }
 ],
 "metadata": {
  "kernelspec": {
   "display_name": "Python 3",
   "language": "python",
   "name": "python3"
  },
  "language_info": {
   "codemirror_mode": {
    "name": "ipython",
    "version": 3
   },
   "file_extension": ".py",
   "mimetype": "text/x-python",
   "name": "python",
   "nbconvert_exporter": "python",
   "pygments_lexer": "ipython3",
   "version": "3.10.6"
  }
 },
 "nbformat": 4,
 "nbformat_minor": 2
}
