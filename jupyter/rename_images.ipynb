{
 "cells": [
  {
   "cell_type": "code",
   "execution_count": 1,
   "metadata": {},
   "outputs": [],
   "source": [
    "import os"
   ]
  },
  {
   "cell_type": "code",
   "execution_count": 6,
   "metadata": {},
   "outputs": [
    {
     "name": "stdout",
     "output_type": "stream",
     "text": [
      "['Zwiebel', 'Karotte', 'Kartoffel', 'Zwiebel_Trieb', 'Karotte_Trieb', 'Kartoffel_Trieb', 'Sonstige']\n"
     ]
    }
   ],
   "source": [
    "path = \"G:/Meine Ablage/KI_Projekt/Bilder\"\n",
    "#vegi = \"kartoffel_\"\n",
    "folders = [folder for folder in os.listdir(path)]\n",
    "print(folders)"
   ]
  },
  {
   "cell_type": "code",
   "execution_count": 10,
   "metadata": {},
   "outputs": [],
   "source": [
    "last_img_values = {'Karotte': 0, 'Kartoffel': 0, 'Zwiebel': 0, 'Karotte_Trieb': 0, 'Kartoffel_Trieb': 0, 'Zwiebel_Trieb': 0}\n",
    "for folder in folders:\n",
    "    last_img_values[folder] = len([img for img in os.listdir(f\"{path}/{folder}\")]) - 1 #because each folder contains a desktop file\n",
    "\n",
    "print(last_img_values)"
   ]
  },
  {
   "cell_type": "code",
   "execution_count": 13,
   "metadata": {},
   "outputs": [],
   "source": [
    "def rename_images(image_folders):\n",
    "    for fold in image_folders:\n",
    "        print(f\"Rename the images in {fold}\\n\")\n",
    "        for i, fname in enumerate(os.listdir(f\"G:/Meine Ablage/KI_Projekt/Bilder/{fold}\")):\n",
    "            os.rename(f\"G:/Meine Ablage/KI_Projekt/Bilder/{fold}/{fname}\", f\"G:/Meine Ablage/KI_Projekt/Bilder/{fold}/{fold.lower()}_{i+last_img_values[fold]+1}.jpg\")\n",
    "            "
   ]
  },
  {
   "cell_type": "code",
   "execution_count": null,
   "metadata": {},
   "outputs": [],
   "source": [
    "#[\"Karotte\", \"Kartoffel\", \"Zwiebel\"]\n",
    "#[\"Karotte_Trieb\", \"Kartoffel_Trieb\", \"Zwiebel_Trieb\"]\n",
    "images_in_folders_to_rename = []\n",
    "rename_images(images_in_folders_to_rename)"
   ]
  }
 ],
 "metadata": {
  "kernelspec": {
   "display_name": "Python 3",
   "language": "python",
   "name": "python3"
  },
  "language_info": {
   "codemirror_mode": {
    "name": "ipython",
    "version": 3
   },
   "file_extension": ".py",
   "mimetype": "text/x-python",
   "name": "python",
   "nbconvert_exporter": "python",
   "pygments_lexer": "ipython3",
   "version": "3.10.6"
  }
 },
 "nbformat": 4,
 "nbformat_minor": 2
}
