{
 "cells": [
  {
   "cell_type": "code",
   "execution_count": 2,
   "metadata": {},
   "outputs": [],
   "source": [
    "import os\n",
    "import cv2"
   ]
  },
  {
   "cell_type": "code",
   "execution_count": null,
   "metadata": {},
   "outputs": [],
   "source": [
    "def rename_images(image_folders, last_img_val_dic):\n",
    "    for fold in image_folders:\n",
    "        print(f\"Rename the images in {fold}\\n\")\n",
    "        for i, fname in enumerate(os.listdir(f\"G:/Meine Ablage/KI_Projekt/Bilder/{fold}\")):\n",
    "            os.rename(f\"G:/Meine Ablage/KI_Projekt/Bilder/{fold}/{fname}\", f\"G:/Meine Ablage/KI_Projekt/Bilder/{fold}/{fold.lower()}_{i+last_img_val_dic[fold]+1}.jpg\")"
   ]
  },
  {
   "cell_type": "code",
   "execution_count": 10,
   "metadata": {},
   "outputs": [],
   "source": [
    "path = \"G:/Meine Ablage/KI_Projekt/Bilder\"\n",
    "#vegi = \"kartoffel_\"\n",
    "folders = [folder for folder in os.listdir(path)]\n",
    "print(\"Folders: \", folders)\n",
    "\n",
    "last_img_values = {'Karotte': 0, 'Kartoffel': 0, 'Zwiebel': 0, 'Karotte_Trieb': 0, 'Kartoffel_Trieb': 0, 'Zwiebel_Trieb': 0}\n",
    "for folder in folders:\n",
    "    last_img_values[folder] = len([img for img in os.listdir(f\"{path}/{folder}\")]) - 1 #because each folder contains a desktop file\n",
    "\n",
    "print(last_img_values)"
   ]
  },
  {
   "cell_type": "code",
   "execution_count": null,
   "metadata": {},
   "outputs": [],
   "source": [
    "#[\"Karotte\", \"Kartoffel\", \"Zwiebel\"]\n",
    "#[\"Karotte_Trieb\", \"Kartoffel_Trieb\", \"Zwiebel_Trieb\"]\n",
    "images_in_folders_to_rename = []\n",
    "rename_images(images_in_folders_to_rename, last_img_values)"
   ]
  },
  {
   "cell_type": "code",
   "execution_count": 4,
   "metadata": {},
   "outputs": [],
   "source": [
    "def move_images(source_folder, start_img_number, target_folder):\n",
    "    print(f\"Move the images in {source_folder}\\n\")\n",
    "    for i, fname in enumerate(os.listdir(f\"G:\\Meine Ablage\\Images_AI_Project\\{source_folder}\")):\n",
    "        try:\n",
    "            vegi = cv2.imread(f\"G:\\Meine Ablage\\Images_AI_Project\\{source_folder}\\{fname}\") # read as BGR\n",
    "            img_name = target_folder.lower()\n",
    "            i = i + start_img_number\n",
    "            cv2.imwrite(f\"G:\\Meine Ablage\\KI_Projekt\\Bilder\\{target_folder}\\{img_name}_{i}.jpg\", vegi) # Store as RGB\n",
    "            print(f\"Image stored in KI_Projekt {target_folder}\")\n",
    "        except Exception as e:\n",
    "            print(f\"Error: {e}\")"
   ]
  },
  {
   "cell_type": "code",
   "execution_count": null,
   "metadata": {},
   "outputs": [],
   "source": [
    "#move_images(\"zwiebel_trieb_jpg\", 92, \"Zwiebel_Trieb\")\n"
   ]
  }
 ],
 "metadata": {
  "kernelspec": {
   "display_name": "Python 3",
   "language": "python",
   "name": "python3"
  },
  "language_info": {
   "codemirror_mode": {
    "name": "ipython",
    "version": 3
   },
   "file_extension": ".py",
   "mimetype": "text/x-python",
   "name": "python",
   "nbconvert_exporter": "python",
   "pygments_lexer": "ipython3",
   "version": "3.10.6"
  }
 },
 "nbformat": 4,
 "nbformat_minor": 2
}
