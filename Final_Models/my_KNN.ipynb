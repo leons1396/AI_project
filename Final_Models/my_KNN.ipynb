{
 "cells": [
  {
   "cell_type": "code",
   "execution_count": 5,
   "metadata": {},
   "outputs": [],
   "source": [
    "import numpy as np\n",
    "import math\n",
    "import pandas as pd\n",
    "from sklearn.model_selection import train_test_split"
   ]
  },
  {
   "cell_type": "code",
   "execution_count": 6,
   "metadata": {},
   "outputs": [
    {
     "data": {
      "text/plain": [
       "4852    3\n",
       "4986    5\n",
       "2584    2\n",
       "4623    3\n",
       "5099    5\n",
       "       ..\n",
       "3772    3\n",
       "5191    5\n",
       "5226    5\n",
       "5390    5\n",
       "860     1\n",
       "Name: Label, Length: 5211, dtype: int32"
      ]
     },
     "execution_count": 6,
     "metadata": {},
     "output_type": "execute_result"
    }
   ],
   "source": [
    "#import data\n",
    "data= pd.read_csv(\"D:\\Dokumente\\Master-Studium\\Semester3\\KI_Projekt\\egis_all.csv\")\n",
    "data=data.drop(columns=[\"Unnamed: 0\",\"green pixels\"])\n",
    "data.loc[data[\"Label\"]==\"Karotte\",\"Label\"]=0\n",
    "data.loc[data[\"Label\"]==\"Kartoffel\",\"Label\"]=1\n",
    "data.loc[data[\"Label\"]==\"Zwiebel\",\"Label\"]=2\n",
    "data.loc[data[\"Label\"]==\"Karotte_Trieb\",\"Label\"]=3\n",
    "data.loc[data[\"Label\"]==\"Kartoffel_Trieb\",\"Label\"]=4\n",
    "data.loc[data[\"Label\"]==\"Zwiebel_Trieb\",\"Label\"]=5\n",
    "\n",
    "data[\"Label\"]=data[\"Label\"].astype(\"int\")\n",
    "\n",
    "X=data.iloc[:,0:10]\n",
    "y=data.iloc[:,10]\n",
    "X_train, X_test, y_train, y_test = train_test_split(X, y, test_size=0.2, random_state=42)\n",
    "y_train"
   ]
  },
  {
   "cell_type": "code",
   "execution_count": 61,
   "metadata": {},
   "outputs": [],
   "source": [
    "class KNN:\n",
    "\n",
    "    def __init__(self,n_estimators=1):\n",
    "        self.n_estimators=n_estimators\n",
    "        \n",
    "\n",
    "    def fit(self,X_train,y_train):\n",
    "        self.X_data=X_train.to_numpy()\n",
    "        self.y_data=y_train.to_numpy()\n",
    "\n",
    "    def predict(self,X):\n",
    "        X=X.to_numpy()\n",
    "        Klasse=[]\n",
    "        \n",
    "        for i in X:\n",
    "            eu_dist=[]\n",
    "            for j in self.X_data:\n",
    "                eu_dist.append(np.linalg.norm(j-i))\n",
    "            dist=eu_dist.copy()\n",
    "            dist.sort()\n",
    "            choices=[]\n",
    "            for i in range(0,self.n_estimators):\n",
    "                choice_index=eu_dist.index(dist[i])\n",
    "                choices.append(self.y_data[choice_index])\n",
    "            \n",
    "\n",
    "            Klasse.append(np.bincount(choices).argmax()) #wahrscheinlichste Klasse auslesen und in die Klassen schreiben\n",
    "\n",
    "        return Klasse \n",
    "            \n",
    "\n",
    "        \n",
    "            \n",
    "           \n",
    "\n",
    "\n",
    "                \n",
    "        \n",
    "        \n",
    "        "
   ]
  },
  {
   "cell_type": "code",
   "execution_count": 66,
   "metadata": {},
   "outputs": [],
   "source": [
    "knn=KNN(3)\n",
    "knn.fit(X_train,y_train)\n",
    "pred=knn.predict(X_test)\n",
    "\n",
    "\n"
   ]
  }
 ],
 "metadata": {
  "kernelspec": {
   "display_name": "Python 3",
   "language": "python",
   "name": "python3"
  },
  "language_info": {
   "codemirror_mode": {
    "name": "ipython",
    "version": 3
   },
   "file_extension": ".py",
   "mimetype": "text/x-python",
   "name": "python",
   "nbconvert_exporter": "python",
   "pygments_lexer": "ipython3",
   "version": "3.10.11"
  }
 },
 "nbformat": 4,
 "nbformat_minor": 2
}
