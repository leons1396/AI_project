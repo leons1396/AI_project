{
 "cells": [
  {
   "cell_type": "code",
   "execution_count": 1,
   "metadata": {},
   "outputs": [],
   "source": [
    "import os\n",
    "import cv2"
   ]
  },
  {
   "cell_type": "code",
   "execution_count": 2,
   "metadata": {},
   "outputs": [],
   "source": [
    "def resize_to_square(vegi_bgr):\n",
    "    if vegi_bgr.shape[0] == 256 and vegi_bgr.shape[1] == 256:\n",
    "        return vegi_bgr\n",
    "    \n",
    "    img_size = 256\n",
    "    height, width = vegi_bgr.shape[:2]\n",
    "    a1 = width / height\n",
    "    a2 = height / width\n",
    "\n",
    "    if (a1 > a2):\n",
    "        r_img = cv2.resize(vegi_bgr, (round(img_size * a1), img_size), interpolation = cv2.INTER_AREA)\n",
    "        margin = int(r_img.shape[1]/6)\n",
    "        resized_img = r_img[0:img_size, margin:(margin+img_size)]\n",
    "\n",
    "    elif(a1 < a2):\n",
    "        # if height greater than width\n",
    "        r_img = cv2.resize(vegi_bgr, (img_size, round(img_size * a2)), interpolation = cv2.INTER_AREA)\n",
    "        margin = int(r_img.shape[0]/6)\n",
    "        resized_img = r_img[margin:(margin+img_size), 0:img_size]\n",
    "\n",
    "    elif(a1 == a2):\n",
    "        # if height and width are equal\n",
    "        r_img = cv2.resize(vegi_bgr, (img_size, round(img_size * a2)), interpolation = cv2.INTER_AREA)\n",
    "        resized_img = r_img[0:img_size, 0:img_size]\n",
    "\n",
    "    if(resized_img.shape[0] != img_size or resized_img.shape[1] != img_size):\n",
    "        resized_img = r_img[0:img_size, 0:img_size]\n",
    "\n",
    "    return resized_img"
   ]
  },
  {
   "cell_type": "code",
   "execution_count": 22,
   "metadata": {},
   "outputs": [],
   "source": [
    "def rename_images(image_folders, last_img_val_dic):\n",
    "    for fold in image_folders:\n",
    "        print(f\"Rename the images in {fold}\\n\")\n",
    "        for i, fname in enumerate(os.listdir(f\"G:/Meine Ablage/KI_Projekt/Testdaten/Phillip_Bilder/{fold}\")):\n",
    "            if fname == \"desktop.ini\":\n",
    "                continue\n",
    "            os.rename(f\"G:/Meine Ablage/KI_Projekt/Testdaten/Phillip_Bilder/{fold}/{fname}\", f\"G:/Meine Ablage/KI_Projekt/Testdaten/Phillip_Bilder/{fold}/{fold.lower()}_{i+503}.jpg\")"
   ]
  },
  {
   "cell_type": "code",
   "execution_count": 23,
   "metadata": {},
   "outputs": [
    {
     "name": "stdout",
     "output_type": "stream",
     "text": [
      "Rename the images in Karotte\n",
      "\n"
     ]
    }
   ],
   "source": [
    "#[\"Karotte\", \"Kartoffel\", \"Zwiebel\"]\n",
    "#[\"Karotte_Trieb\", \"Kartoffel_Trieb\", \"Zwiebel_Trieb\"]\n",
    "images_in_folders_to_rename = [\"Karotte\"]\n",
    "last_img_values = {'Karotte': 0, 'Kartoffel': 0, 'Zwiebel': 0, 'Karotte_Trieb': 0, 'Kartoffel_Trieb': 0, 'Zwiebel_Trieb': 0}\n",
    "rename_images(images_in_folders_to_rename, last_img_values)"
   ]
  },
  {
   "cell_type": "code",
   "execution_count": 4,
   "metadata": {},
   "outputs": [],
   "source": [
    "def move_images(source_folder):\n",
    "    print(f\"Move the images from {source_folder}\\n\")\n",
    "    for i, fname in enumerate(os.listdir(f\"C:/Users/Leon/Pictures/KI_Projekt/{source_folder}\")):\n",
    "        if fname == \"desktop.ini\":\n",
    "            continue\n",
    "\n",
    "        try:\n",
    "            vegi = cv2.imread(f\"C:/Users/Leon/Pictures/KI_Projekt/{source_folder}/{fname}\") # read as BGR\n",
    "            img_name = source_folder.lower()\n",
    "            vegi_256 = resize_to_square(vegi)\n",
    "            vegi_256_RGB = cv2.cvtColor(vegi_256, cv2.COLOR_BGR2RGB)\n",
    "            cv2.imwrite(f\"G:/Meine Ablage/KI_Projekt/Trainingsdaten/{source_folder}/{img_name}_{i}.jpg\", cv2.cvtColor(vegi_256_RGB, cv2.COLOR_BGR2RGB)) # Store as RGB\n",
    "            #print(f\"Image stored in KI_Projekt {target_folder}\")\n",
    "        except Exception as e:\n",
    "            print(f\"Error: {e}\")"
   ]
  },
  {
   "cell_type": "code",
   "execution_count": 5,
   "metadata": {},
   "outputs": [
    {
     "name": "stdout",
     "output_type": "stream",
     "text": [
      "Move the images from Karotte\n",
      "\n"
     ]
    }
   ],
   "source": [
    "#source = [\"Kartoffel\", \"Karotte_Trieb\", \"Kartoffel_Trieb\", \"Zwiebel_Trieb\"]\n",
    "#end_num = [999, 330, 200, 100, 100] # 65 - 200\n",
    "#start_num = [0, 0, 65, 0, 0]\n",
    "source = [\"Karotte\"]\n",
    "for folder in source:\n",
    "    move_images(folder)"
   ]
  }
 ],
 "metadata": {
  "kernelspec": {
   "display_name": "Python 3",
   "language": "python",
   "name": "python3"
  },
  "language_info": {
   "codemirror_mode": {
    "name": "ipython",
    "version": 3
   },
   "file_extension": ".py",
   "mimetype": "text/x-python",
   "name": "python",
   "nbconvert_exporter": "python",
   "pygments_lexer": "ipython3",
   "version": "3.10.6"
  }
 },
 "nbformat": 4,
 "nbformat_minor": 2
}
