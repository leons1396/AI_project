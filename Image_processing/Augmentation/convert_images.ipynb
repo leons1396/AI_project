{
 "cells": [
  {
   "cell_type": "code",
   "execution_count": 1,
   "metadata": {},
   "outputs": [],
   "source": [
    "from PIL import Image\n",
    "from pillow_heif import register_heif_opener\n",
    "import os"
   ]
  },
  {
   "cell_type": "code",
   "execution_count": 2,
   "metadata": {},
   "outputs": [],
   "source": [
    "register_heif_opener()"
   ]
  },
  {
   "cell_type": "code",
   "execution_count": 7,
   "metadata": {},
   "outputs": [],
   "source": [
    "def convert_from_heic_to_jpg(imgs, heic_path, jpg_path, vegi):\n",
    "    for id, img in enumerate(imgs):\n",
    "        try:\n",
    "            heic_bild = Image.open(os.path.join(heic_path, img))\n",
    "            new_jpg_name = f\"{vegi}_{id+1000}.jpg\"\n",
    "            path = os.path.join(jpg_path, new_jpg_name).replace(\"\\\\\",\"/\")\n",
    "            heic_bild.save(path, \"JPEG\")\n",
    "            #print(path)\n",
    "            #print(f\"Successfully converted from: {os.path.join(heic_path, img)} to {os.path.join(jpg_path, new_jpg_name)}\")\n",
    "\n",
    "        except Exception as e:\n",
    "            print(f\"Error due converting: {e}\")"
   ]
  },
  {
   "cell_type": "code",
   "execution_count": 8,
   "metadata": {},
   "outputs": [],
   "source": [
    "vegi = \"Zwiebel_Trieb\"\n",
    "heic_path = f\"G:\\Meine Ablage\\{vegi}\"\n",
    "jpg_path = f\"G:\\Meine Ablage\\j_Zw_T\"\n",
    "\n",
    "images = [image for image in os.listdir(heic_path)]\n",
    "\n",
    "convert_from_heic_to_jpg(images, heic_path, jpg_path, vegi)"
   ]
  }
 ],
 "metadata": {
  "kernelspec": {
   "display_name": "Python 3",
   "language": "python",
   "name": "python3"
  },
  "language_info": {
   "codemirror_mode": {
    "name": "ipython",
    "version": 3
   },
   "file_extension": ".py",
   "mimetype": "text/x-python",
   "name": "python",
   "nbconvert_exporter": "python",
   "pygments_lexer": "ipython3",
   "version": "3.10.6"
  }
 },
 "nbformat": 4,
 "nbformat_minor": 2
}
