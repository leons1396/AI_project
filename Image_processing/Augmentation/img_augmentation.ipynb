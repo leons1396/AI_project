{
 "cells": [
  {
   "cell_type": "code",
   "execution_count": 6,
   "metadata": {},
   "outputs": [],
   "source": [
    "import os\n",
    "import cv2\n",
    "import matplotlib.pyplot as plt"
   ]
  },
  {
   "cell_type": "markdown",
   "metadata": {},
   "source": [
    "Data Augmentation Techniques. Flipping, Rotation"
   ]
  },
  {
   "cell_type": "code",
   "execution_count": 7,
   "metadata": {},
   "outputs": [],
   "source": [
    "def flip_image_and_show(img):\n",
    "    # flip vertical\n",
    "    img_v = cv2.flip(img, 0)\n",
    "    #show_image_plt(onion_sq_v)\n",
    "\n",
    "    #flip horizontal\n",
    "    img_h = cv2.flip(img, 1)\n",
    "    #show_image_plt(onion_sq_h)\n",
    "\n",
    "    #flip vertical + horizontal\n",
    "    img_vh = cv2.flip(img, -1)\n",
    "    #show_image_plt(onion_sq_vh)\n",
    "\n",
    "    fig, axarr = plt.subplots(2, 2) #1 row, 3 cols\n",
    "    fig.tight_layout(h_pad=4)\n",
    "    axarr[0][0].imshow(img)\n",
    "    axarr[0][0].set_title(\"Original\")\n",
    "    axarr[0][1].imshow(img_v)\n",
    "    axarr[0][1].set_title(\"Flip Vertical\")\n",
    "    axarr[1][0].imshow(img_h)\n",
    "    axarr[1][0].set_title(\"Flip Horizontal\")\n",
    "    axarr[1][1].imshow(img_vh)\n",
    "    axarr[1][1].set_title(\"Flip Vertical + Horizontal\")\n",
    "    fig.suptitle('Flipped Images')\n",
    "    plt.subplots_adjust(top = 0.85)\n",
    "\n",
    "\n",
    "def rotate_image_and_show(img):\n",
    "    # rotate 90 degree clockwise\n",
    "    img_r90 = cv2.rotate(img, cv2.ROTATE_90_CLOCKWISE)\n",
    "    #show_image_plt(onion_sq_v)\n",
    "\n",
    "    #rotate 180 degree\n",
    "    img_r180 = cv2.rotate(img, cv2.ROTATE_180)\n",
    "    #show_image_plt(onion_sq_h)\n",
    "\n",
    "    #rotate 90 degree counterclockwise\n",
    "    img_rcw90 = cv2.rotate(img, cv2.ROTATE_90_COUNTERCLOCKWISE)\n",
    "    #show_image_plt(onion_sq_vh)\n",
    "\n",
    "    fig, axarr = plt.subplots(2, 2) #2 row, 2 cols\n",
    "    fig.tight_layout(h_pad=4)\n",
    "\n",
    "    axarr[0][0].imshow(img)\n",
    "    axarr[0][0].set_title(\"Original\")\n",
    "    axarr[0][1].imshow(img_r90)\n",
    "    axarr[0][1].set_title(\"+ 90\")\n",
    "    axarr[1][0].imshow(img_r180)\n",
    "    axarr[1][0].set_title(\"+ 180\")\n",
    "    axarr[1][1].imshow(img_rcw90)\n",
    "    axarr[1][1].set_title(\"- 90\")\n",
    "\n",
    "    fig.suptitle('Rotated Images')\n",
    "    plt.subplots_adjust(top = 0.85)"
   ]
  },
  {
   "cell_type": "markdown",
   "metadata": {},
   "source": [
    "Resize Image to square format. Currently 256x256"
   ]
  },
  {
   "cell_type": "code",
   "execution_count": 8,
   "metadata": {},
   "outputs": [],
   "source": [
    "def resize_to_square(vegi_bgr):\n",
    "    img_size = 256\n",
    "    height, width = vegi_bgr.shape[:2]\n",
    "    a1 = width / height\n",
    "    a2 = height / width\n",
    "\n",
    "    if (a1 > a2):\n",
    "        r_img = cv2.resize(vegi_bgr, (round(img_size * a1), img_size), interpolation = cv2.INTER_AREA)\n",
    "        margin = int(r_img.shape[1]/6)\n",
    "        resized_img = r_img[0:img_size, margin:(margin+img_size)]\n",
    "\n",
    "    elif(a1 < a2):\n",
    "        # if height greater than width\n",
    "        r_img = cv2.resize(vegi_bgr, (img_size, round(img_size * a2)), interpolation = cv2.INTER_AREA)\n",
    "        margin = int(r_img.shape[0]/6)\n",
    "        resized_img = r_img[margin:(margin+img_size), 0:img_size]\n",
    "\n",
    "    elif(a1 == a2):\n",
    "        # if height and width are equal\n",
    "        r_img = cv2.resize(vegi_bgr, (img_size, round(img_size * a2)), interpolation = cv2.INTER_AREA)\n",
    "        resized_img = r_img[0:img_size, 0:img_size]\n",
    "\n",
    "    if(resized_img.shape[0] != img_size or resized_img.shape[1] != img_size):\n",
    "        resized_img = r_img[0:img_size, 0:img_size]\n",
    "\n",
    "    return resized_img"
   ]
  },
  {
   "cell_type": "code",
   "execution_count": null,
   "metadata": {},
   "outputs": [],
   "source": []
  }
 ],
 "metadata": {
  "kernelspec": {
   "display_name": "Python 3",
   "language": "python",
   "name": "python3"
  },
  "language_info": {
   "codemirror_mode": {
    "name": "ipython",
    "version": 3
   },
   "file_extension": ".py",
   "mimetype": "text/x-python",
   "name": "python",
   "nbconvert_exporter": "python",
   "pygments_lexer": "ipython3",
   "version": "3.10.6"
  }
 },
 "nbformat": 4,
 "nbformat_minor": 2
}
